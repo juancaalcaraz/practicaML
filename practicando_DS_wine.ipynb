{
  "nbformat": 4,
  "nbformat_minor": 0,
  "metadata": {
    "colab": {
      "provenance": [],
      "authorship_tag": "ABX9TyMiDQwnQiKTuOi1cy6F1ZUh",
      "include_colab_link": true
    },
    "kernelspec": {
      "name": "python3",
      "display_name": "Python 3"
    },
    "language_info": {
      "name": "python"
    }
  },
  "cells": [
    {
      "cell_type": "markdown",
      "metadata": {
        "id": "view-in-github",
        "colab_type": "text"
      },
      "source": [
        "<a href=\"https://colab.research.google.com/github/juancaalcaraz/practicaML/blob/main/practicando_DS_wine.ipynb\" target=\"_parent\"><img src=\"https://colab.research.google.com/assets/colab-badge.svg\" alt=\"Open In Colab\"/></a>"
      ]
    },
    {
      "cell_type": "code",
      "execution_count": 1,
      "metadata": {
        "id": "tc2t-l4gYZ7w"
      },
      "outputs": [],
      "source": [
        "import pandas as pd\n",
        "df_wine= pd.read_csv(\"https://archive.ics.uci.edu/ml/machine-learning-databases/wine/wine.data\", header=None)"
      ]
    },
    {
      "cell_type": "code",
      "source": [
        "df_wine.columns = ['Class label', 'Alcohol', 'Malic acid', 'Ash','Alcalinnity of ash', 'magnesium',\n",
        "                   'Total phenols', 'Flavanoids', 'Nonflavanoids phenols', 'Proanthocyanins', 'color intensity', 'Hue',\n",
        "                   'OD280/OD315 of diluted wines', 'proline']"
      ],
      "metadata": {
        "id": "hv92xecwbz8D"
      },
      "execution_count": 2,
      "outputs": []
    },
    {
      "cell_type": "code",
      "source": [
        "#distintos clases de etiquetas\n",
        "import numpy as np\n",
        "print('Valor de las etiquetas de clase', np.unique(df_wine['Class label']))"
      ],
      "metadata": {
        "colab": {
          "base_uri": "https://localhost:8080/"
        },
        "id": "u6XrHi5Cd3D_",
        "outputId": "9773006d-c9b0-422d-a6b2-8aceefbdc0f9"
      },
      "execution_count": 3,
      "outputs": [
        {
          "output_type": "stream",
          "name": "stdout",
          "text": [
            "Valor de las etiquetas de clase [1 2 3]\n"
          ]
        }
      ]
    },
    {
      "cell_type": "code",
      "source": [
        "df_wine.head()"
      ],
      "metadata": {
        "colab": {
          "base_uri": "https://localhost:8080/",
          "height": 224
        },
        "id": "WZrQ-kLueXVs",
        "outputId": "e28cb50c-1437-43f1-b04a-ba39bff4204b"
      },
      "execution_count": 4,
      "outputs": [
        {
          "output_type": "execute_result",
          "data": {
            "text/plain": [
              "   Class label  Alcohol  Malic acid   Ash  Alcalinnity of ash  magnesium  \\\n",
              "0            1    14.23        1.71  2.43                15.6        127   \n",
              "1            1    13.20        1.78  2.14                11.2        100   \n",
              "2            1    13.16        2.36  2.67                18.6        101   \n",
              "3            1    14.37        1.95  2.50                16.8        113   \n",
              "4            1    13.24        2.59  2.87                21.0        118   \n",
              "\n",
              "   Total phenols  Flavanoids  Nonflavanoids phenols  Proanthocyanins  \\\n",
              "0           2.80        3.06                   0.28             2.29   \n",
              "1           2.65        2.76                   0.26             1.28   \n",
              "2           2.80        3.24                   0.30             2.81   \n",
              "3           3.85        3.49                   0.24             2.18   \n",
              "4           2.80        2.69                   0.39             1.82   \n",
              "\n",
              "   color intensity   Hue  OD280/OD315 of diluted wines  proline  \n",
              "0             5.64  1.04                          3.92     1065  \n",
              "1             4.38  1.05                          3.40     1050  \n",
              "2             5.68  1.03                          3.17     1185  \n",
              "3             7.80  0.86                          3.45     1480  \n",
              "4             4.32  1.04                          2.93      735  "
            ],
            "text/html": [
              "\n",
              "  <div id=\"df-b3dbd011-f841-41d1-b0fc-5ab1c66e9d1e\" class=\"colab-df-container\">\n",
              "    <div>\n",
              "<style scoped>\n",
              "    .dataframe tbody tr th:only-of-type {\n",
              "        vertical-align: middle;\n",
              "    }\n",
              "\n",
              "    .dataframe tbody tr th {\n",
              "        vertical-align: top;\n",
              "    }\n",
              "\n",
              "    .dataframe thead th {\n",
              "        text-align: right;\n",
              "    }\n",
              "</style>\n",
              "<table border=\"1\" class=\"dataframe\">\n",
              "  <thead>\n",
              "    <tr style=\"text-align: right;\">\n",
              "      <th></th>\n",
              "      <th>Class label</th>\n",
              "      <th>Alcohol</th>\n",
              "      <th>Malic acid</th>\n",
              "      <th>Ash</th>\n",
              "      <th>Alcalinnity of ash</th>\n",
              "      <th>magnesium</th>\n",
              "      <th>Total phenols</th>\n",
              "      <th>Flavanoids</th>\n",
              "      <th>Nonflavanoids phenols</th>\n",
              "      <th>Proanthocyanins</th>\n",
              "      <th>color intensity</th>\n",
              "      <th>Hue</th>\n",
              "      <th>OD280/OD315 of diluted wines</th>\n",
              "      <th>proline</th>\n",
              "    </tr>\n",
              "  </thead>\n",
              "  <tbody>\n",
              "    <tr>\n",
              "      <th>0</th>\n",
              "      <td>1</td>\n",
              "      <td>14.23</td>\n",
              "      <td>1.71</td>\n",
              "      <td>2.43</td>\n",
              "      <td>15.6</td>\n",
              "      <td>127</td>\n",
              "      <td>2.80</td>\n",
              "      <td>3.06</td>\n",
              "      <td>0.28</td>\n",
              "      <td>2.29</td>\n",
              "      <td>5.64</td>\n",
              "      <td>1.04</td>\n",
              "      <td>3.92</td>\n",
              "      <td>1065</td>\n",
              "    </tr>\n",
              "    <tr>\n",
              "      <th>1</th>\n",
              "      <td>1</td>\n",
              "      <td>13.20</td>\n",
              "      <td>1.78</td>\n",
              "      <td>2.14</td>\n",
              "      <td>11.2</td>\n",
              "      <td>100</td>\n",
              "      <td>2.65</td>\n",
              "      <td>2.76</td>\n",
              "      <td>0.26</td>\n",
              "      <td>1.28</td>\n",
              "      <td>4.38</td>\n",
              "      <td>1.05</td>\n",
              "      <td>3.40</td>\n",
              "      <td>1050</td>\n",
              "    </tr>\n",
              "    <tr>\n",
              "      <th>2</th>\n",
              "      <td>1</td>\n",
              "      <td>13.16</td>\n",
              "      <td>2.36</td>\n",
              "      <td>2.67</td>\n",
              "      <td>18.6</td>\n",
              "      <td>101</td>\n",
              "      <td>2.80</td>\n",
              "      <td>3.24</td>\n",
              "      <td>0.30</td>\n",
              "      <td>2.81</td>\n",
              "      <td>5.68</td>\n",
              "      <td>1.03</td>\n",
              "      <td>3.17</td>\n",
              "      <td>1185</td>\n",
              "    </tr>\n",
              "    <tr>\n",
              "      <th>3</th>\n",
              "      <td>1</td>\n",
              "      <td>14.37</td>\n",
              "      <td>1.95</td>\n",
              "      <td>2.50</td>\n",
              "      <td>16.8</td>\n",
              "      <td>113</td>\n",
              "      <td>3.85</td>\n",
              "      <td>3.49</td>\n",
              "      <td>0.24</td>\n",
              "      <td>2.18</td>\n",
              "      <td>7.80</td>\n",
              "      <td>0.86</td>\n",
              "      <td>3.45</td>\n",
              "      <td>1480</td>\n",
              "    </tr>\n",
              "    <tr>\n",
              "      <th>4</th>\n",
              "      <td>1</td>\n",
              "      <td>13.24</td>\n",
              "      <td>2.59</td>\n",
              "      <td>2.87</td>\n",
              "      <td>21.0</td>\n",
              "      <td>118</td>\n",
              "      <td>2.80</td>\n",
              "      <td>2.69</td>\n",
              "      <td>0.39</td>\n",
              "      <td>1.82</td>\n",
              "      <td>4.32</td>\n",
              "      <td>1.04</td>\n",
              "      <td>2.93</td>\n",
              "      <td>735</td>\n",
              "    </tr>\n",
              "  </tbody>\n",
              "</table>\n",
              "</div>\n",
              "    <div class=\"colab-df-buttons\">\n",
              "\n",
              "  <div class=\"colab-df-container\">\n",
              "    <button class=\"colab-df-convert\" onclick=\"convertToInteractive('df-b3dbd011-f841-41d1-b0fc-5ab1c66e9d1e')\"\n",
              "            title=\"Convert this dataframe to an interactive table.\"\n",
              "            style=\"display:none;\">\n",
              "\n",
              "  <svg xmlns=\"http://www.w3.org/2000/svg\" height=\"24px\" viewBox=\"0 -960 960 960\">\n",
              "    <path d=\"M120-120v-720h720v720H120Zm60-500h600v-160H180v160Zm220 220h160v-160H400v160Zm0 220h160v-160H400v160ZM180-400h160v-160H180v160Zm440 0h160v-160H620v160ZM180-180h160v-160H180v160Zm440 0h160v-160H620v160Z\"/>\n",
              "  </svg>\n",
              "    </button>\n",
              "\n",
              "  <style>\n",
              "    .colab-df-container {\n",
              "      display:flex;\n",
              "      gap: 12px;\n",
              "    }\n",
              "\n",
              "    .colab-df-convert {\n",
              "      background-color: #E8F0FE;\n",
              "      border: none;\n",
              "      border-radius: 50%;\n",
              "      cursor: pointer;\n",
              "      display: none;\n",
              "      fill: #1967D2;\n",
              "      height: 32px;\n",
              "      padding: 0 0 0 0;\n",
              "      width: 32px;\n",
              "    }\n",
              "\n",
              "    .colab-df-convert:hover {\n",
              "      background-color: #E2EBFA;\n",
              "      box-shadow: 0px 1px 2px rgba(60, 64, 67, 0.3), 0px 1px 3px 1px rgba(60, 64, 67, 0.15);\n",
              "      fill: #174EA6;\n",
              "    }\n",
              "\n",
              "    .colab-df-buttons div {\n",
              "      margin-bottom: 4px;\n",
              "    }\n",
              "\n",
              "    [theme=dark] .colab-df-convert {\n",
              "      background-color: #3B4455;\n",
              "      fill: #D2E3FC;\n",
              "    }\n",
              "\n",
              "    [theme=dark] .colab-df-convert:hover {\n",
              "      background-color: #434B5C;\n",
              "      box-shadow: 0px 1px 3px 1px rgba(0, 0, 0, 0.15);\n",
              "      filter: drop-shadow(0px 1px 2px rgba(0, 0, 0, 0.3));\n",
              "      fill: #FFFFFF;\n",
              "    }\n",
              "  </style>\n",
              "\n",
              "    <script>\n",
              "      const buttonEl =\n",
              "        document.querySelector('#df-b3dbd011-f841-41d1-b0fc-5ab1c66e9d1e button.colab-df-convert');\n",
              "      buttonEl.style.display =\n",
              "        google.colab.kernel.accessAllowed ? 'block' : 'none';\n",
              "\n",
              "      async function convertToInteractive(key) {\n",
              "        const element = document.querySelector('#df-b3dbd011-f841-41d1-b0fc-5ab1c66e9d1e');\n",
              "        const dataTable =\n",
              "          await google.colab.kernel.invokeFunction('convertToInteractive',\n",
              "                                                    [key], {});\n",
              "        if (!dataTable) return;\n",
              "\n",
              "        const docLinkHtml = 'Like what you see? Visit the ' +\n",
              "          '<a target=\"_blank\" href=https://colab.research.google.com/notebooks/data_table.ipynb>data table notebook</a>'\n",
              "          + ' to learn more about interactive tables.';\n",
              "        element.innerHTML = '';\n",
              "        dataTable['output_type'] = 'display_data';\n",
              "        await google.colab.output.renderOutput(dataTable, element);\n",
              "        const docLink = document.createElement('div');\n",
              "        docLink.innerHTML = docLinkHtml;\n",
              "        element.appendChild(docLink);\n",
              "      }\n",
              "    </script>\n",
              "  </div>\n",
              "\n",
              "\n",
              "<div id=\"df-d5feae08-98a3-4fc6-aa41-a2112b710c75\">\n",
              "  <button class=\"colab-df-quickchart\" onclick=\"quickchart('df-d5feae08-98a3-4fc6-aa41-a2112b710c75')\"\n",
              "            title=\"Suggest charts\"\n",
              "            style=\"display:none;\">\n",
              "\n",
              "<svg xmlns=\"http://www.w3.org/2000/svg\" height=\"24px\"viewBox=\"0 0 24 24\"\n",
              "     width=\"24px\">\n",
              "    <g>\n",
              "        <path d=\"M19 3H5c-1.1 0-2 .9-2 2v14c0 1.1.9 2 2 2h14c1.1 0 2-.9 2-2V5c0-1.1-.9-2-2-2zM9 17H7v-7h2v7zm4 0h-2V7h2v10zm4 0h-2v-4h2v4z\"/>\n",
              "    </g>\n",
              "</svg>\n",
              "  </button>\n",
              "\n",
              "<style>\n",
              "  .colab-df-quickchart {\n",
              "      --bg-color: #E8F0FE;\n",
              "      --fill-color: #1967D2;\n",
              "      --hover-bg-color: #E2EBFA;\n",
              "      --hover-fill-color: #174EA6;\n",
              "      --disabled-fill-color: #AAA;\n",
              "      --disabled-bg-color: #DDD;\n",
              "  }\n",
              "\n",
              "  [theme=dark] .colab-df-quickchart {\n",
              "      --bg-color: #3B4455;\n",
              "      --fill-color: #D2E3FC;\n",
              "      --hover-bg-color: #434B5C;\n",
              "      --hover-fill-color: #FFFFFF;\n",
              "      --disabled-bg-color: #3B4455;\n",
              "      --disabled-fill-color: #666;\n",
              "  }\n",
              "\n",
              "  .colab-df-quickchart {\n",
              "    background-color: var(--bg-color);\n",
              "    border: none;\n",
              "    border-radius: 50%;\n",
              "    cursor: pointer;\n",
              "    display: none;\n",
              "    fill: var(--fill-color);\n",
              "    height: 32px;\n",
              "    padding: 0;\n",
              "    width: 32px;\n",
              "  }\n",
              "\n",
              "  .colab-df-quickchart:hover {\n",
              "    background-color: var(--hover-bg-color);\n",
              "    box-shadow: 0 1px 2px rgba(60, 64, 67, 0.3), 0 1px 3px 1px rgba(60, 64, 67, 0.15);\n",
              "    fill: var(--button-hover-fill-color);\n",
              "  }\n",
              "\n",
              "  .colab-df-quickchart-complete:disabled,\n",
              "  .colab-df-quickchart-complete:disabled:hover {\n",
              "    background-color: var(--disabled-bg-color);\n",
              "    fill: var(--disabled-fill-color);\n",
              "    box-shadow: none;\n",
              "  }\n",
              "\n",
              "  .colab-df-spinner {\n",
              "    border: 2px solid var(--fill-color);\n",
              "    border-color: transparent;\n",
              "    border-bottom-color: var(--fill-color);\n",
              "    animation:\n",
              "      spin 1s steps(1) infinite;\n",
              "  }\n",
              "\n",
              "  @keyframes spin {\n",
              "    0% {\n",
              "      border-color: transparent;\n",
              "      border-bottom-color: var(--fill-color);\n",
              "      border-left-color: var(--fill-color);\n",
              "    }\n",
              "    20% {\n",
              "      border-color: transparent;\n",
              "      border-left-color: var(--fill-color);\n",
              "      border-top-color: var(--fill-color);\n",
              "    }\n",
              "    30% {\n",
              "      border-color: transparent;\n",
              "      border-left-color: var(--fill-color);\n",
              "      border-top-color: var(--fill-color);\n",
              "      border-right-color: var(--fill-color);\n",
              "    }\n",
              "    40% {\n",
              "      border-color: transparent;\n",
              "      border-right-color: var(--fill-color);\n",
              "      border-top-color: var(--fill-color);\n",
              "    }\n",
              "    60% {\n",
              "      border-color: transparent;\n",
              "      border-right-color: var(--fill-color);\n",
              "    }\n",
              "    80% {\n",
              "      border-color: transparent;\n",
              "      border-right-color: var(--fill-color);\n",
              "      border-bottom-color: var(--fill-color);\n",
              "    }\n",
              "    90% {\n",
              "      border-color: transparent;\n",
              "      border-bottom-color: var(--fill-color);\n",
              "    }\n",
              "  }\n",
              "</style>\n",
              "\n",
              "  <script>\n",
              "    async function quickchart(key) {\n",
              "      const quickchartButtonEl =\n",
              "        document.querySelector('#' + key + ' button');\n",
              "      quickchartButtonEl.disabled = true;  // To prevent multiple clicks.\n",
              "      quickchartButtonEl.classList.add('colab-df-spinner');\n",
              "      try {\n",
              "        const charts = await google.colab.kernel.invokeFunction(\n",
              "            'suggestCharts', [key], {});\n",
              "      } catch (error) {\n",
              "        console.error('Error during call to suggestCharts:', error);\n",
              "      }\n",
              "      quickchartButtonEl.classList.remove('colab-df-spinner');\n",
              "      quickchartButtonEl.classList.add('colab-df-quickchart-complete');\n",
              "    }\n",
              "    (() => {\n",
              "      let quickchartButtonEl =\n",
              "        document.querySelector('#df-d5feae08-98a3-4fc6-aa41-a2112b710c75 button');\n",
              "      quickchartButtonEl.style.display =\n",
              "        google.colab.kernel.accessAllowed ? 'block' : 'none';\n",
              "    })();\n",
              "  </script>\n",
              "</div>\n",
              "\n",
              "    </div>\n",
              "  </div>\n"
            ],
            "application/vnd.google.colaboratory.intrinsic+json": {
              "type": "dataframe",
              "variable_name": "df_wine",
              "summary": "{\n  \"name\": \"df_wine\",\n  \"rows\": 178,\n  \"fields\": [\n    {\n      \"column\": \"Class label\",\n      \"properties\": {\n        \"dtype\": \"number\",\n        \"std\": 0,\n        \"min\": 1,\n        \"max\": 3,\n        \"samples\": [\n          1,\n          2,\n          3\n        ],\n        \"num_unique_values\": 3,\n        \"semantic_type\": \"\",\n        \"description\": \"\"\n      }\n    },\n    {\n      \"column\": \"Alcohol\",\n      \"properties\": {\n        \"dtype\": \"number\",\n        \"std\": 0.8118265380058575,\n        \"min\": 11.03,\n        \"max\": 14.83,\n        \"samples\": [\n          11.62,\n          13.64,\n          13.69\n        ],\n        \"num_unique_values\": 126,\n        \"semantic_type\": \"\",\n        \"description\": \"\"\n      }\n    },\n    {\n      \"column\": \"Malic acid\",\n      \"properties\": {\n        \"dtype\": \"number\",\n        \"std\": 1.1171460976144627,\n        \"min\": 0.74,\n        \"max\": 5.8,\n        \"samples\": [\n          1.21,\n          2.83,\n          1.8\n        ],\n        \"num_unique_values\": 133,\n        \"semantic_type\": \"\",\n        \"description\": \"\"\n      }\n    },\n    {\n      \"column\": \"Ash\",\n      \"properties\": {\n        \"dtype\": \"number\",\n        \"std\": 0.27434400906081485,\n        \"min\": 1.36,\n        \"max\": 3.23,\n        \"samples\": [\n          2.31,\n          2.43,\n          2.52\n        ],\n        \"num_unique_values\": 79,\n        \"semantic_type\": \"\",\n        \"description\": \"\"\n      }\n    },\n    {\n      \"column\": \"Alcalinnity of ash\",\n      \"properties\": {\n        \"dtype\": \"number\",\n        \"std\": 3.339563767173505,\n        \"min\": 10.6,\n        \"max\": 30.0,\n        \"samples\": [\n          25.5,\n          28.5,\n          15.6\n        ],\n        \"num_unique_values\": 63,\n        \"semantic_type\": \"\",\n        \"description\": \"\"\n      }\n    },\n    {\n      \"column\": \"magnesium\",\n      \"properties\": {\n        \"dtype\": \"number\",\n        \"std\": 14,\n        \"min\": 70,\n        \"max\": 162,\n        \"samples\": [\n          126,\n          85,\n          162\n        ],\n        \"num_unique_values\": 53,\n        \"semantic_type\": \"\",\n        \"description\": \"\"\n      }\n    },\n    {\n      \"column\": \"Total phenols\",\n      \"properties\": {\n        \"dtype\": \"number\",\n        \"std\": 0.6258510488339893,\n        \"min\": 0.98,\n        \"max\": 3.88,\n        \"samples\": [\n          1.68,\n          2.11,\n          1.35\n        ],\n        \"num_unique_values\": 97,\n        \"semantic_type\": \"\",\n        \"description\": \"\"\n      }\n    },\n    {\n      \"column\": \"Flavanoids\",\n      \"properties\": {\n        \"dtype\": \"number\",\n        \"std\": 0.9988586850169467,\n        \"min\": 0.34,\n        \"max\": 5.08,\n        \"samples\": [\n          3.18,\n          2.5,\n          3.17\n        ],\n        \"num_unique_values\": 132,\n        \"semantic_type\": \"\",\n        \"description\": \"\"\n      }\n    },\n    {\n      \"column\": \"Nonflavanoids phenols\",\n      \"properties\": {\n        \"dtype\": \"number\",\n        \"std\": 0.12445334029667937,\n        \"min\": 0.13,\n        \"max\": 0.66,\n        \"samples\": [\n          0.58,\n          0.41,\n          0.39\n        ],\n        \"num_unique_values\": 39,\n        \"semantic_type\": \"\",\n        \"description\": \"\"\n      }\n    },\n    {\n      \"column\": \"Proanthocyanins\",\n      \"properties\": {\n        \"dtype\": \"number\",\n        \"std\": 0.5723588626747613,\n        \"min\": 0.41,\n        \"max\": 3.58,\n        \"samples\": [\n          0.75,\n          1.77,\n          1.42\n        ],\n        \"num_unique_values\": 101,\n        \"semantic_type\": \"\",\n        \"description\": \"\"\n      }\n    },\n    {\n      \"column\": \"color intensity\",\n      \"properties\": {\n        \"dtype\": \"number\",\n        \"std\": 2.318285871822413,\n        \"min\": 1.28,\n        \"max\": 13.0,\n        \"samples\": [\n          2.95,\n          3.3,\n          5.1\n        ],\n        \"num_unique_values\": 132,\n        \"semantic_type\": \"\",\n        \"description\": \"\"\n      }\n    },\n    {\n      \"column\": \"Hue\",\n      \"properties\": {\n        \"dtype\": \"number\",\n        \"std\": 0.22857156582982338,\n        \"min\": 0.48,\n        \"max\": 1.71,\n        \"samples\": [\n          1.22,\n          1.04,\n          1.45\n        ],\n        \"num_unique_values\": 78,\n        \"semantic_type\": \"\",\n        \"description\": \"\"\n      }\n    },\n    {\n      \"column\": \"OD280/OD315 of diluted wines\",\n      \"properties\": {\n        \"dtype\": \"number\",\n        \"std\": 0.7099904287650504,\n        \"min\": 1.27,\n        \"max\": 4.0,\n        \"samples\": [\n          4.0,\n          1.82,\n          1.59\n        ],\n        \"num_unique_values\": 122,\n        \"semantic_type\": \"\",\n        \"description\": \"\"\n      }\n    },\n    {\n      \"column\": \"proline\",\n      \"properties\": {\n        \"dtype\": \"number\",\n        \"std\": 314,\n        \"min\": 278,\n        \"max\": 1680,\n        \"samples\": [\n          1375,\n          1270,\n          735\n        ],\n        \"num_unique_values\": 121,\n        \"semantic_type\": \"\",\n        \"description\": \"\"\n      }\n    }\n  ]\n}"
            }
          },
          "metadata": {},
          "execution_count": 4
        }
      ]
    },
    {
      "cell_type": "code",
      "source": [
        "#Comprobando valores nulos\n",
        "df_wine.isnull().sum()"
      ],
      "metadata": {
        "colab": {
          "base_uri": "https://localhost:8080/"
        },
        "id": "HdNJeEUIhHzE",
        "outputId": "30c48324-6b25-41ab-d9aa-af821dd1a69f"
      },
      "execution_count": 5,
      "outputs": [
        {
          "output_type": "execute_result",
          "data": {
            "text/plain": [
              "Class label                     0\n",
              "Alcohol                         0\n",
              "Malic acid                      0\n",
              "Ash                             0\n",
              "Alcalinnity of ash              0\n",
              "magnesium                       0\n",
              "Total phenols                   0\n",
              "Flavanoids                      0\n",
              "Nonflavanoids phenols           0\n",
              "Proanthocyanins                 0\n",
              "color intensity                 0\n",
              "Hue                             0\n",
              "OD280/OD315 of diluted wines    0\n",
              "proline                         0\n",
              "dtype: int64"
            ]
          },
          "metadata": {},
          "execution_count": 5
        }
      ]
    },
    {
      "cell_type": "code",
      "source": [
        "#representación por etiquetas\n",
        "df_wine['Class label'].value_counts()"
      ],
      "metadata": {
        "colab": {
          "base_uri": "https://localhost:8080/"
        },
        "id": "EtaJwR-4ilT0",
        "outputId": "fc0209ef-9485-43ec-a484-e12213b4a983"
      },
      "execution_count": 6,
      "outputs": [
        {
          "output_type": "execute_result",
          "data": {
            "text/plain": [
              "2    71\n",
              "1    59\n",
              "3    48\n",
              "Name: Class label, dtype: int64"
            ]
          },
          "metadata": {},
          "execution_count": 6
        }
      ]
    },
    {
      "cell_type": "code",
      "source": [
        "#subdividir el dataframe en datos de entrenamiento y de prueba\n",
        "from sklearn.model_selection import train_test_split\n",
        "X, y = df_wine.iloc[:, 1:].values, df_wine.iloc[:, 0].values\n",
        "X_train, X_test, y_train, y_test = train_test_split(X,y, test_size=0.3, random_state=0, stratify=y)"
      ],
      "metadata": {
        "id": "R4NRXBq7kmF-"
      },
      "execution_count": 7,
      "outputs": []
    },
    {
      "cell_type": "code",
      "source": [
        "#vamos a estandarizar los datos\n",
        "from sklearn.preprocessing import StandardScaler\n",
        "standardScaler = StandardScaler()\n",
        "X_train_std = standardScaler.fit_transform(X_train)\n",
        "X_test_std = standardScaler.transform(X_test)\n"
      ],
      "metadata": {
        "id": "-_Hp3WXU-qHa"
      },
      "execution_count": 8,
      "outputs": []
    },
    {
      "cell_type": "code",
      "source": [
        "#probando coon penalizacón L1\n",
        "from sklearn.linear_model import LogisticRegression\n",
        "lg = LogisticRegression(penalty='l1', C=1.0, solver='saga')\n",
        "lg.fit(X_train_std, y_train)\n",
        "print(\"exactitud del entrenamiento\", lg.score(X_train_std, y_train))\n",
        "print(\"exactitud del testeo\", lg.score(X_test_std, y_test))"
      ],
      "metadata": {
        "colab": {
          "base_uri": "https://localhost:8080/"
        },
        "id": "yRNSyu72OgUx",
        "outputId": "2ee2afc3-4bfc-471f-9812-d051362514b3"
      },
      "execution_count": 9,
      "outputs": [
        {
          "output_type": "stream",
          "name": "stdout",
          "text": [
            "exactitud del entrenamiento 1.0\n",
            "exactitud del testeo 1.0\n"
          ]
        },
        {
          "output_type": "stream",
          "name": "stderr",
          "text": [
            "/usr/local/lib/python3.10/dist-packages/sklearn/linear_model/_sag.py:350: ConvergenceWarning: The max_iter was reached which means the coef_ did not converge\n",
            "  warnings.warn(\n"
          ]
        }
      ]
    },
    {
      "cell_type": "code",
      "source": [
        "#Accediendo a las terminos de intercepcion\n",
        "lg.intercept_"
      ],
      "metadata": {
        "colab": {
          "base_uri": "https://localhost:8080/"
        },
        "id": "Fpf_WYmRQkmM",
        "outputId": "09b7d548-55cf-4fb1-dfac-2dc3a3cac136"
      },
      "execution_count": 10,
      "outputs": [
        {
          "output_type": "execute_result",
          "data": {
            "text/plain": [
              "array([ 0.42627696,  0.59992433, -1.02620129])"
            ]
          },
          "metadata": {},
          "execution_count": 10
        }
      ]
    },
    {
      "cell_type": "code",
      "source": [
        "#coeficientes del modelo.\n",
        "lg.coef_"
      ],
      "metadata": {
        "colab": {
          "base_uri": "https://localhost:8080/"
        },
        "id": "X5NPkga6Q_1i",
        "outputId": "997d0ab0-c35e-4137-88c1-09e961826d39"
      },
      "execution_count": 11,
      "outputs": [
        {
          "output_type": "execute_result",
          "data": {
            "text/plain": [
              "array([[ 0.32235528,  0.        ,  0.        , -0.74474069,  0.        ,\n",
              "         0.        ,  0.34831715,  0.        ,  0.        ,  0.        ,\n",
              "         0.        ,  0.25883482,  0.99693693],\n",
              "       [-1.28994483, -0.35702957, -0.90863454,  0.        ,  0.        ,\n",
              "         0.        ,  0.        ,  0.        ,  0.        , -1.09328106,\n",
              "         0.50914143,  0.        , -1.40490172],\n",
              "       [ 0.        ,  0.        ,  0.        ,  0.        ,  0.        ,\n",
              "         0.        , -2.07099083,  0.        ,  0.        ,  0.23232693,\n",
              "        -0.60268629, -0.94189875,  0.        ]])"
            ]
          },
          "metadata": {},
          "execution_count": 11
        }
      ]
    },
    {
      "cell_type": "markdown",
      "source": [
        "### La matriz de pesos a la cual hemos accedido mediante el atributo coef_ contiene tres filas de coeficientes de pesos, un vector de peso para cada clase. Cada fila consiste de 13 pesos donde cada uno esta multiplicado por la correspondiente caracteristica e el conjunto de datos wine de 13 dimensiones para calcular la entrada neta."
      ],
      "metadata": {
        "id": "h7q50HNERXhp"
      }
    },
    {
      "cell_type": "code",
      "source": [
        "import matplotlib.pyplot as plt\n",
        "fig = plt.figure()\n",
        "ax = plt.subplot(111)\n",
        "colors =[\"blue\", \"green\", \"red\", \"cyan\",\n",
        "         \"magenta\",\"yellow\", \"black\", \"pink\",\n",
        "         \"lightgreen\",\"lightblue\",\"gray\",\"indigo\",\"orange\"]\n",
        "weights, params = [], []\n",
        "for c in np.arange(-4., 6.):\n",
        "  lr= LogisticRegression(penalty='l1', C=10.**c, solver='saga', random_state=0, max_iter=10000)#Con max_iter=10000 logramos que algoritmo conevrga.\n",
        "  lr.fit(X_train_std, y_train)\n",
        "  weights.append(lr.coef_[1])\n",
        "  params.append(10**c)\n",
        "\n",
        "weights = np.array(weights)\n",
        "for column, color in zip(range(weights.shape[1]), colors):\n",
        "  plt.plot(params, weights[:, column], label=df_wine.columns[column +1 ], color=color)\n",
        "\n",
        "plt.axhline(0, color='black', linestyle='--', linewidth=3)\n",
        "plt.xlim([10**(-5), 10**5])\n",
        "plt.ylabel('Pesos de coeficientes')\n",
        "plt.xlabel('C')\n",
        "plt.xscale('log')\n",
        "plt.legend(loc='upper left')\n",
        "ax.legend(loc='upper center', bbox_to_anchor=(1.38, 1.03),\n",
        "          fancybox=True)\n",
        "plt.show()\n"
      ],
      "metadata": {
        "colab": {
          "base_uri": "https://localhost:8080/",
          "height": 458
        },
        "id": "kyl1RlOA_qWt",
        "outputId": "2479bab9-52a4-45cc-f50e-41c3ac98dca1"
      },
      "execution_count": 12,
      "outputs": [
        {
          "output_type": "display_data",
          "data": {
            "text/plain": [
              "<Figure size 640x480 with 1 Axes>"
            ],
            "image/png": "[encoded data removed]"
          },
          "metadata": {}
        }
      ]
    },
    {
      "cell_type": "markdown",
      "source": [
        "## Crearemos un un algoritmo de selección de caracteristicas secuenciales clásico. El Seleccción Secuencial Hacia atras SBS(del ingles secuential backward selection)."
      ],
      "metadata": {
        "id": "4nLA99kVcZfU"
      }
    },
    {
      "cell_type": "code",
      "source": [
        "from sklearn.base import clone\n",
        "from itertools import combinations\n",
        "import numpy as np\n",
        "from sklearn.metrics import accuracy_score\n",
        "from sklearn.model_selection import train_test_split\n",
        "\n",
        "class SBS():\n",
        "  def __init__(self, estimator, k_features, scoring= accuracy_score, test_size=0.25, random_state=1):\n",
        "    self.scoring = scoring\n",
        "    self.estimator = clone(estimator)\n",
        "    self.k_features = k_features\n",
        "    self.test_size = test_size\n",
        "    self.random_state = random_state\n",
        "\n",
        "  def fit(self, X, y):\n",
        "    X_train, X_test, y_train, y_test = train_test_split(X, y, test_size= self.test_size, random_state= self.random_state)\n",
        "    dim = X_train.shape[1]\n",
        "    self.indices_ = tuple(range(dim))\n",
        "    self.subsets_ = [self.indices_]\n",
        "    score = self._calc_score(X_train, y_train, X_test, y_test, self.indices_)\n",
        "    self.scores_= [score]\n",
        "    while dim> self.k_features :\n",
        "      scores =[]\n",
        "      subsets = []\n",
        "      for p in combinations(self.indices_, r=dim-1):\n",
        "        score = self._calc_score(X_train, y_train, X_test, y_test, self.indices_)\n",
        "        scores.append(score)\n",
        "        subsets.append(p)\n",
        "\n",
        "      best = np.argmax(scores)\n",
        "      self.indices_ = subsets[best]\n",
        "      self.subsets_.append(self.indices_)\n",
        "      dim-=1\n",
        "      self.scores_.append(scores[best])\n",
        "    self.k_score_ = self.scores_[-1]\n",
        "    return self\n",
        "\n",
        "  def transform(self, X):\n",
        "    return X[:, self.indices_]\n",
        "  def _calc_score(self,X_train, y_train, X_test, y_test, indices ):\n",
        "    self.estimator.fit(X_train[:, indices], y_train)\n",
        "    y_pred = self.estimator.predict(X_test[:, indices])\n",
        "    score = self.scoring(y_test, y_pred)\n",
        "    return score\n"
      ],
      "metadata": {
        "id": "kCfZklYwdLdD"
      },
      "execution_count": 13,
      "outputs": []
    },
    {
      "cell_type": "code",
      "source": [
        "import matplotlib.pyplot as plt\n",
        "from sklearn.neighbors import KNeighborsClassifier\n",
        "\n",
        "knn = KNeighborsClassifier(n_neighbors=5)\n",
        "sbs = SBS(knn, k_features=1)\n",
        "sbs.fit(X_train_std, y_train)\n"
      ],
      "metadata": {
        "colab": {
          "base_uri": "https://localhost:8080/"
        },
        "id": "2UBi0WI7kyYJ",
        "outputId": "365be771-337b-48b7-b5d0-7a1a07ea0f44"
      },
      "execution_count": 14,
      "outputs": [
        {
          "output_type": "execute_result",
          "data": {
            "text/plain": [
              "<__main__.SBS at 0x79e54cda3670>"
            ]
          },
          "metadata": {},
          "execution_count": 14
        }
      ]
    },
    {
      "cell_type": "code",
      "source": [
        "k_feat= [len(k) for k in sbs.subsets_]"
      ],
      "metadata": {
        "id": "G7ie_r91loIJ"
      },
      "execution_count": 15,
      "outputs": []
    },
    {
      "cell_type": "code",
      "source": [
        "plt.plot(k_feat, sbs.scores_, marker='o')\n",
        "plt.ylim([0.7, 1.02])\n",
        "plt.ylabel('Acuracy')\n",
        "plt.xlabel('número de características')\n",
        "plt.grid()\n",
        "plt.show()"
      ],
      "metadata": {
        "colab": {
          "base_uri": "https://localhost:8080/",
          "height": 449
        },
        "id": "nFphUa52mHfs",
        "outputId": "f5f813f2-a72e-4a4b-d7fd-f61aa5382f05"
      },
      "execution_count": 16,
      "outputs": [
        {
          "output_type": "display_data",
          "data": {
            "text/plain": [
              "<Figure size 640x480 with 1 Axes>"
            ],
            "image/png": "[encoded data removed]"
          },
          "metadata": {}
        }
      ]
    },
    {
      "cell_type": "code",
      "source": [
        "k3=list(sbs.subsets_[6])\n",
        "print(df_wine.columns[1:][k3])"
      ],
      "metadata": {
        "colab": {
          "base_uri": "https://localhost:8080/"
        },
        "id": "miiC2CLgphVc",
        "outputId": "6ef67d17-a7b2-4b46-c8d5-26403d194836"
      },
      "execution_count": 17,
      "outputs": [
        {
          "output_type": "stream",
          "name": "stdout",
          "text": [
            "Index(['Alcohol', 'Malic acid', 'Ash', 'Alcalinnity of ash', 'magnesium',\n",
            "       'Total phenols', 'Flavanoids'],\n",
            "      dtype='object')\n"
          ]
        }
      ]
    },
    {
      "cell_type": "code",
      "source": [
        "# Reduciendo el dataset a 7 caracteristicas en lugar de 13, cobtenemos una precisión del 94,5%\n",
        "knn.fit(X_train_std[:,k3], y_train)\n",
        "print(knn.score(X_test_std[:,k3], y_test))"
      ],
      "metadata": {
        "colab": {
          "base_uri": "https://localhost:8080/"
        },
        "id": "dYLdLeDFqmpQ",
        "outputId": "b45b4ea5-2ab5-49a3-a5b4-300fcfff637d"
      },
      "execution_count": 18,
      "outputs": [
        {
          "output_type": "stream",
          "name": "stdout",
          "text": [
            "0.9444444444444444\n"
          ]
        }
      ]
    },
    {
      "cell_type": "code",
      "source": [
        "#con el dataset completo( las 13 caracteristicas) tendríamos una precisión del 96,3%\n",
        "knn.fit(X_train_std, y_train)\n",
        "print(knn.score(X_test_std, y_test))"
      ],
      "metadata": {
        "colab": {
          "base_uri": "https://localhost:8080/"
        },
        "id": "nCWwTRMf2wli",
        "outputId": "27a41c15-8b55-4d27-9a2b-809272d7bb4b"
      },
      "execution_count": 19,
      "outputs": [
        {
          "output_type": "stream",
          "name": "stdout",
          "text": [
            "0.9629629629629629\n"
          ]
        }
      ]
    },
    {
      "cell_type": "markdown",
      "source": [
        "## Con el ejemplo anterior logramos reducir de 13 dimensiones a solamente 7, con una perdida mínima del 1.8% en la precisión del modelo."
      ],
      "metadata": {
        "id": "yoGbsiHy3KaJ"
      }
    },
    {
      "cell_type": "markdown",
      "source": [
        "#Evaluar la importancia de caracteristicas con bosuqes aleatorios."
      ],
      "metadata": {
        "id": "e8zTr3kp5BSo"
      }
    },
    {
      "cell_type": "markdown",
      "source": [
        "## Mediante un bosque aleatorio podemos medir la importancia de la caraterisitica sin realizar suposiciones de que nuestros datos son separables linealmente o no. La implementación de scikit-learn ya recoge los valores de la importancia de las caracterisiticas y podemos acceder a ellos mediante el atributo feature_importances_ después de ajustar el clasificador.   "
      ],
      "metadata": {
        "id": "7QX2sYW884rV"
      }
    },
    {
      "cell_type": "code",
      "source": [
        "from sklearn.ensemble import RandomForestClassifier\n",
        "etiquetas = df_wine.columns[1:]\n",
        "forest = RandomForestClassifier(n_estimators=500, random_state=1)\n",
        "forest.fit(X_train, y_train)\n",
        "importancia = forest.feature_importances_\n",
        "indices = np.argsort(importancia)[::-1]"
      ],
      "metadata": {
        "id": "g9QxdkdZ-O_D"
      },
      "execution_count": 20,
      "outputs": []
    },
    {
      "cell_type": "code",
      "source": [
        "print(\"\\t\\t importancia de caracterisitcas: \\n\\n\")\n",
        "for f in range(X_train.shape[1]):\n",
        "  print('\\t %2d) %-*s %f'%(f+1, 40,\n",
        "                        etiquetas[indices[f]],\n",
        "                        importancia[indices[f]]))"
      ],
      "metadata": {
        "colab": {
          "base_uri": "https://localhost:8080/"
        },
        "id": "Y51j-CJj_jr8",
        "outputId": "283bd448-4193-4353-eb21-35a8fe55d395"
      },
      "execution_count": 21,
      "outputs": [
        {
          "output_type": "stream",
          "name": "stdout",
          "text": [
            "\t\t importancia de caracterisitcas: \n",
            "\n",
            "\n",
            "\t  1) proline                                  0.185453\n",
            "\t  2) Flavanoids                               0.174751\n",
            "\t  3) color intensity                          0.143920\n",
            "\t  4) OD280/OD315 of diluted wines             0.136162\n",
            "\t  5) Alcohol                                  0.118529\n",
            "\t  6) Hue                                      0.058739\n",
            "\t  7) Total phenols                            0.050872\n",
            "\t  8) magnesium                                0.031357\n",
            "\t  9) Malic acid                               0.025648\n",
            "\t 10) Proanthocyanins                          0.025570\n",
            "\t 11) Alcalinnity of ash                       0.022366\n",
            "\t 12) Nonflavanoids phenols                    0.013354\n",
            "\t 13) Ash                                      0.013279\n"
          ]
        }
      ]
    },
    {
      "cell_type": "markdown",
      "source": [
        "## Graficando los resultados."
      ],
      "metadata": {
        "id": "wWELDwvFBYyk"
      }
    },
    {
      "cell_type": "code",
      "source": [
        "plt.title('importancia de caracterísiticas')\n",
        "plt.bar(range(X_train.shape[1]), importancia[indices], align='center')\n",
        "plt.xticks(range(X_train.shape[1]), etiquetas[indices], rotation=90)\n",
        "plt.xlim([-1, X_train.shape[1]])\n",
        "plt.tight_layout()\n",
        "plt.show()"
      ],
      "metadata": {
        "colab": {
          "base_uri": "https://localhost:8080/",
          "height": 487
        },
        "id": "9VkoBlihBgfF",
        "outputId": "e1dece78-293a-4e4b-daf6-9e0af2ef03f1"
      },
      "execution_count": 22,
      "outputs": [
        {
          "output_type": "display_data",
          "data": {
            "text/plain": [
              "<Figure size 640x480 with 1 Axes>"
            ],
            "image/png": "[encoded data removed]"
          },
          "metadata": {}
        }
      ]
    },
    {
      "cell_type": "markdown",
      "source": [
        "## Scikit-learn también implementa un objeto SelectFromModel que selecciona características basadas en un umbral definido por el usuario."
      ],
      "metadata": {
        "id": "QBRZv1OGNUru"
      }
    },
    {
      "cell_type": "code",
      "source": [
        "# Seleccionando las caracterisicas que obtengan una puntuacion 0.1 o mayor\n",
        "from sklearn.feature_selection import SelectFromModel\n",
        "sfm = SelectFromModel(forest, threshold=0.1, prefit=True)\n",
        "X_selected = sfm.transform(X_train)\n",
        "print('número de muestras que coninciden con el criterio: ', X_selected.shape[0])"
      ],
      "metadata": {
        "colab": {
          "base_uri": "https://localhost:8080/"
        },
        "id": "azlfHhvVN107",
        "outputId": "339cdfd2-de35-43bd-e409-c75039481d41"
      },
      "execution_count": 23,
      "outputs": [
        {
          "output_type": "stream",
          "name": "stdout",
          "text": [
            "número de muestras que coninciden con el criterio:  124\n"
          ]
        }
      ]
    },
    {
      "cell_type": "code",
      "source": [
        "print(\"\\t\\t importancia de caracterisitcas: \\n\\n\")\n",
        "for f in range(X_selected.shape[1]):\n",
        "  print('\\t %2d) %-*s %f'%(f+1, 40,\n",
        "                        etiquetas[indices[f]],\n",
        "                        importancia[indices[f]]))"
      ],
      "metadata": {
        "colab": {
          "base_uri": "https://localhost:8080/"
        },
        "id": "v-zqtp85PKHn",
        "outputId": "2fb12637-43bf-4d2e-c9c9-9fc36335b770"
      },
      "execution_count": 24,
      "outputs": [
        {
          "output_type": "stream",
          "name": "stdout",
          "text": [
            "\t\t importancia de caracterisitcas: \n",
            "\n",
            "\n",
            "\t  1) proline                                  0.185453\n",
            "\t  2) Flavanoids                               0.174751\n",
            "\t  3) color intensity                          0.143920\n",
            "\t  4) OD280/OD315 of diluted wines             0.136162\n",
            "\t  5) Alcohol                                  0.118529\n"
          ]
        }
      ]
    },
    {
      "cell_type": "markdown",
      "source": [
        "# Comprimir datos mediante la reducción de dimensionalidad.\n",
        "## Análisis de componentes principales."
      ],
      "metadata": {
        "id": "290rGFHdRIWQ"
      }
    },
    {
      "cell_type": "markdown",
      "source": [
        "### Si utlizamos ACP para reducción de dimensionalidad, construimos una matriz $W$ de transformación de $d$ X $k$ dimensiones que nos permite mapear un vector $x$ de muestra en un subespacio de características de $K$ dimensiones con menos dimensiones que el espacio de caracteristicas de $D$ dimensiones original.\n",
        "### Las direcciones ACP son sensibles al escalado de datos y necesitamos estandarizar las características antes que el ACP.  "
      ],
      "metadata": {
        "id": "8u6bkzh8SNW7"
      }
    },
    {
      "cell_type": "markdown",
      "source": [
        "### Vamos a resumir los pasos del Algoritmo ACP\n",
        "1. Estandarizar el conjunto de datos.\n",
        "2. Construir la matriz de covarianza.\n",
        "3. Descomprimir la matriz en autovectores y autovalores.\n",
        "4. Ordenar los autovalores por orden decreciente para clasifiicar los autovectores.\n",
        "5. Seleccionar $k$ autovectoresque corresponden a los $k$ autovalores mayores, donde $k$ es la dimensionalidad del nuevo subespacio de caracteristicas($k$ <= $d$).\n",
        "6. Construir una matriz de proyección $W$ a partir de los $k$ autovectores \\<top>.\n",
        "7. Transformar el conjunto de datos de entrada $X$ de $d$ dimensiones para obtener el nuevo subespacio de caracteristicas de $k$ dimensiones.     "
      ],
      "metadata": {
        "id": "IOiK9LzEVZRR"
      }
    },
    {
      "cell_type": "code",
      "source": [
        "# Abordaremos los primeros 4 pasos del ACP.\n",
        "from sklearn.model_selection import train_test_split\n",
        "X, Y = df_wine.iloc[:, 1:].values, df_wine.iloc[:, 0].values\n",
        "X_train, X_test, y_train, y_test = train_test_split(X,y, test_size=0.3, random_state=0, stratify=y)"
      ],
      "metadata": {
        "id": "Rz5vqi2XXs0M"
      },
      "execution_count": 25,
      "outputs": []
    },
    {
      "cell_type": "code",
      "source": [
        "#estandarizar las caracteristicas\n",
        "from sklearn.preprocessing import StandardScaler\n",
        "scaler = StandardScaler()\n",
        "X_train_std= scaler.fit_transform(X_train)\n",
        "X_test_std = scaler.transform(X_test)"
      ],
      "metadata": {
        "id": "H2vw70_hYiCd"
      },
      "execution_count": 26,
      "outputs": []
    },
    {
      "cell_type": "markdown",
      "source": [
        "### Despúes de completar el preprocesamiento anterior pasamos al segundo paso: Construir la matriz de covarianza $d$ X $d$ dimensiónes simétricas. los autovetores representan los componenetes principales, mientras que los autovalores definen su mágnitud"
      ],
      "metadata": {
        "id": "2aAZEKL4ZIV-"
      }
    },
    {
      "cell_type": "code",
      "source": [
        "import numpy as np\n",
        "cov_mat = np.cov(X_train_std.T)\n",
        "valores_propios, valores_vectoriales = np.linalg.eig(cov_mat)\n",
        "print('\\n Valores propios \\n%s'%valores_propios)"
      ],
      "metadata": {
        "colab": {
          "base_uri": "https://localhost:8080/"
        },
        "id": "_6gpZfm-ZkWU",
        "outputId": "cf2b3c11-f3cf-49fa-b2a3-892469700075"
      },
      "execution_count": 27,
      "outputs": [
        {
          "output_type": "stream",
          "name": "stdout",
          "text": [
            "\n",
            " Valores propios \n",
            "[4.84274532 2.41602459 1.54845825 0.96120438 0.84166161 0.6620634\n",
            " 0.51828472 0.34650377 0.3131368  0.10754642 0.21357215 0.15362835\n",
            " 0.1808613 ]\n"
          ]
        }
      ]
    },
    {
      "cell_type": "code",
      "source": [
        "tot = sum(valores_propios)\n",
        "var_exp = [(i / tot) for i in sorted(valores_propios, reverse=True)]\n",
        "cum_var_exp= np.cumsum(var_exp)"
      ],
      "metadata": {
        "id": "UCDQ0rENlrOR"
      },
      "execution_count": 28,
      "outputs": []
    },
    {
      "cell_type": "code",
      "source": [
        "import matplotlib.pyplot as plt\n",
        "plt.bar(range(1,14), var_exp, alpha=0.5, align='center', label='varianza individual explicada')\n",
        "plt.step(range(1,14), cum_var_exp, where='mid', label='varianza acumulativa explicada')\n",
        "plt.ylabel('Radio de varianza explicada')\n",
        "plt.xlabel('Indice principal de componentes')\n",
        "plt.legend(loc='best')\n",
        "plt.show()"
      ],
      "metadata": {
        "colab": {
          "base_uri": "https://localhost:8080/",
          "height": 449
        },
        "id": "JTcqN3zWnGTR",
        "outputId": "a87b7ab5-8bc1-4509-b7ca-d29ea66274bf"
      },
      "execution_count": 29,
      "outputs": [
        {
          "output_type": "display_data",
          "data": {
            "text/plain": [
              "<Figure size 640x480 with 1 Axes>"
            ],
            "image/png": "[encoded data removed]"
          },
          "metadata": {}
        }
      ]
    },
    {
      "cell_type": "markdown",
      "source": [
        "## Transformación de características.\n",
        "### Tras haber descompuesto la matriz de covarianza, seguimos con los siguientes pasos.\n",
        "1. Seleccionar $k$ autovectores que corresponden a $k$ autovalores mayores.\n",
        "2. Construir una matriz de proyección $W$ a partir de los $k$ autovectores primeros ordenados descendientemente.\n",
        "3. Transformar el conjunto de datos de entrada $X$ de $d$ dimensiones para obtenerel nuevo espacio de subcaraterísticas de $k$ dimensiones."
      ],
      "metadata": {
        "id": "iU-40zUsqJP5"
      }
    },
    {
      "cell_type": "code",
      "source": [
        "#Hacer una lista de las tuplas (autovalor, autovector)\n",
        "pares_propios = [(np.abs(valores_propios[i]), valores_vectoriales[:,i]) for i in range(len(valores_propios))]\n",
        "#ordenar las tuplas(autovalor, autovector) de mayor a menor.\n",
        "pares_propios.sort(key=(lambda k: k[0]), reverse=True)"
      ],
      "metadata": {
        "id": "6J2hbcA6r8E_"
      },
      "execution_count": 30,
      "outputs": []
    },
    {
      "cell_type": "code",
      "source": [
        "#Tomamos 2 autovectores solamente como ejercicio para poder graficar.\n",
        "#We take 2 eigenvectors only as an exercise to be able to plot.\n",
        "w = np.hstack((pares_propios[0][1][:, np.newaxis], pares_propios[1][1][:, np.newaxis]))\n",
        "#mostramos la matriz\n",
        "#we show the matrix\n",
        "print('Matriz W :\\n', w)"
      ],
      "metadata": {
        "colab": {
          "base_uri": "https://localhost:8080/"
        },
        "id": "i1Dj9Iwiu1Jv",
        "outputId": "cd58d5a9-e144-4648-a705-3ba4d5f0e09c"
      },
      "execution_count": 31,
      "outputs": [
        {
          "output_type": "stream",
          "name": "stdout",
          "text": [
            "Matriz W :\n",
            " [[-0.13724218  0.50303478]\n",
            " [ 0.24724326  0.16487119]\n",
            " [-0.02545159  0.24456476]\n",
            " [ 0.20694508 -0.11352904]\n",
            " [-0.15436582  0.28974518]\n",
            " [-0.39376952  0.05080104]\n",
            " [-0.41735106 -0.02287338]\n",
            " [ 0.30572896  0.09048885]\n",
            " [-0.30668347  0.00835233]\n",
            " [ 0.07554066  0.54977581]\n",
            " [-0.32613263 -0.20716433]\n",
            " [-0.36861022 -0.24902536]\n",
            " [-0.29669651  0.38022942]]\n"
          ]
        }
      ]
    },
    {
      "cell_type": "markdown",
      "source": [
        "### Con la matriz de proyección, ahora podemos transformar una muestra $x$ en el subespacio ACP(los componentes principales 1 y 2 en este caso) se obtiene $x'$, en este caso un vector bidimensional que consta de dos caracteristicas: $$x' = xW$$ de forma parecida podemos todo el conjunto de entrenamiento en los dos componentes principales calculando el producto escalar de matrices. $$X'= XW$$"
      ],
      "metadata": {
        "id": "Mx5RY6QfxNH3"
      }
    },
    {
      "cell_type": "code",
      "source": [
        "#Trasnformando solo una muestra\n",
        "#Transforming just a sample\n",
        "X_train_std[0].dot(w)"
      ],
      "metadata": {
        "colab": {
          "base_uri": "https://localhost:8080/"
        },
        "id": "tqVP2r8jypFK",
        "outputId": "eb6a0b7f-5879-42a6-bb91-ccbcfb74a548"
      },
      "execution_count": 32,
      "outputs": [
        {
          "output_type": "execute_result",
          "data": {
            "text/plain": [
              "array([2.38299011, 0.45458499])"
            ]
          },
          "metadata": {},
          "execution_count": 32
        }
      ]
    },
    {
      "cell_type": "code",
      "source": [
        "#Transformando todo el conjunto de datos.\n",
        "X_train_pca = X_train_std.dot(w)"
      ],
      "metadata": {
        "id": "pSI-qLypzD5u"
      },
      "execution_count": 33,
      "outputs": []
    },
    {
      "cell_type": "markdown",
      "source": [
        "### Para terminar, vamos a graficar el conjunto de datos Wine mediante un diagrama de dispersión bidimensional."
      ],
      "metadata": {
        "id": "m-iEAn4t5Xe-"
      }
    },
    {
      "cell_type": "code",
      "source": [
        "colores = ['r','b','g']\n",
        "marcadores = ['s','x','o']\n",
        "for l, c, m in zip(np.unique(y_train), colores, marcadores):\n",
        "  plt.scatter(X_train_pca[y_train== l, 0], X_train_pca[y_train== l, 1], c=c, label=l, marker=m)\n",
        "plt.xlabel('PC 1')\n",
        "plt.ylabel('PC 2')\n",
        "plt.legend(loc='upper left')\n",
        "plt.tight_layout()\n",
        "plt.show()"
      ],
      "metadata": {
        "colab": {
          "base_uri": "https://localhost:8080/",
          "height": 487
        },
        "id": "sIEJHeT95rjU",
        "outputId": "b3ad9734-58c8-4770-90ba-1ceb27446675"
      },
      "execution_count": 34,
      "outputs": [
        {
          "output_type": "display_data",
          "data": {
            "text/plain": [
              "<Figure size 640x480 with 1 Axes>"
            ],
            "image/png": "[encoded data removed]"
          },
          "metadata": {}
        }
      ]
    },
    {
      "cell_type": "markdown",
      "source": [
        "# Análisis de componentes principales en scikit-learn."
      ],
      "metadata": {
        "id": "qT0gGGTf-QgT"
      }
    },
    {
      "cell_type": "code",
      "source": [
        "from matplotlib.colors import ListedColormap\n",
        "import numpy as np\n",
        "import matplotlib.pyplot as plt\n",
        "def plot_decision_regions(X, y, classifier, resolution = 0.02):\n",
        "  #definir un generador de marcadores\n",
        "  marcadores = (\"s\",\"x\",\"o\",\"^\",\"*\")\n",
        "  colores = ('red','blue','lightgreen', 'gray', 'cyan')\n",
        "  cmap = ListedColormap(colores[:len(np.unique(y))])\n",
        "\n",
        "  #representar la superficie de desicion\n",
        "  x1_min, x1_max = X[:, 0].min()-1 , X[:, 0].max()+1\n",
        "  x2_min, x2_max = X[:, 1].min()-1 , X[:, 1].max()+1\n",
        "\n",
        "  xx1, xx2 = np.meshgrid(np.arange(x1_min, x1_max, resolution),\n",
        "                         np.arange(x2_min, x2_max, resolution)\n",
        "                              )\n",
        "  Z = classifier.predict(np.array([xx1.ravel(), xx2.ravel()]).T)\n",
        "  Z = Z.reshape(xx1.shape)\n",
        "  plt.contourf(xx1, xx2, Z, alpha= 0.4, cmap=cmap)\n",
        "  plt.xlim(xx1.min(), xx1.max())\n",
        "  plt.ylim(xx2.min(), xx2.max())\n",
        "\n",
        "  #representar muestras de clase.\n",
        "  for idx, cl in enumerate(np.unique(y)):\n",
        "    plt.scatter(x=X[y == cl, 0],\n",
        "               y=X[y == cl, 1],\n",
        "               alpha= 0.8,\n",
        "               c=colores[idx],\n",
        "               marker=marcadores[idx],\n",
        "               label= cl\n",
        "               )"
      ],
      "metadata": {
        "id": "RhXOmauU-o6L"
      },
      "execution_count": 35,
      "outputs": []
    },
    {
      "cell_type": "code",
      "source": [
        "from sklearn.linear_model import LogisticRegression\n",
        "from sklearn.decomposition import PCA\n",
        "pca = PCA(n_components=2)\n",
        "lr = LogisticRegression()\n",
        "X_train_pca = pca.fit_transform(X_train_std)\n",
        "X_test_pca = pca.transform(X_test_std)\n",
        "lr.fit(X_train_pca, y_train)\n",
        "plot_decision_regions(X_train_pca, y_train, classifier=lr)\n",
        "plt.xlabel('PC 1')\n",
        "plt.ylabel('PC 2')\n",
        "plt.legend(loc='upper left')\n",
        "plt.tight_layout()\n",
        "plt.show()"
      ],
      "metadata": {
        "colab": {
          "base_uri": "https://localhost:8080/",
          "height": 487
        },
        "id": "J7emkAY8__6A",
        "outputId": "d22fb31f-5953-4e92-a2b6-9a2b65cba7d0"
      },
      "execution_count": 36,
      "outputs": [
        {
          "output_type": "display_data",
          "data": {
            "text/plain": [
              "<Figure size 640x480 with 1 Axes>"
            ],
            "image/png": "[encoded data removed]"
          },
          "metadata": {}
        }
      ]
    },
    {
      "cell_type": "code",
      "source": [
        "#Varianza explicada de todos los componentes del dataset wine\n",
        "pca = PCA(n_components=None)\n",
        "X_train_pca = pca.fit_transform(X_train_std)\n",
        "pca.explained_variance_ratio_"
      ],
      "metadata": {
        "colab": {
          "base_uri": "https://localhost:8080/"
        },
        "id": "Jzd6ySLsH-pm",
        "outputId": "a5672a40-f7a7-4ed7-bb3d-a452b995f346"
      },
      "execution_count": 37,
      "outputs": [
        {
          "output_type": "execute_result",
          "data": {
            "text/plain": [
              "array([0.36951469, 0.18434927, 0.11815159, 0.07334252, 0.06422108,\n",
              "       0.05051724, 0.03954654, 0.02643918, 0.02389319, 0.01629614,\n",
              "       0.01380021, 0.01172226, 0.00820609])"
            ]
          },
          "metadata": {},
          "execution_count": 37
        }
      ]
    },
    {
      "cell_type": "markdown",
      "source": [
        "#Compresión de datos supervisados mediante análisis discriminante lineal.\n",
        "## Podemos resumir el ADL en los siguientes pasos:\n",
        "1. Estandarizar el conjunto de datos de $d$ dimensiones.\n",
        "2. Para cada clase, calcular el vector medio de $d$ dimensiones.\n",
        "3. Construir la matriz de dispersión entre la clase $S_{b}$ y la matriz de dispersión dentro de las clases $S_{w}$\n",
        "4. Calcular los autovectores y autovalores correspondientes de la matriz $S^{-1}_{w}$ $S_{b}$.\n",
        "5. ordenar los autovalores en orden decreciente para clasificar los autovectores.\n",
        "6. Elegir los $k$ autovectoresque corresponden a los $k$ autovalores más altos para construir una matriz de transformación $W$ de $d$x$k$ dimensiones; los autovectores son las columnas de esta matriz.\n",
        "7. Proyectar las muestras en el nuevo subespacio de características mediante la matriz de transformación $W$.  \n",
        "\n",
        "\n"
      ],
      "metadata": {
        "id": "y_TZ9hBx1AYP"
      }
    },
    {
      "cell_type": "code",
      "source": [
        "#Como ya estandarizamos anteriormente los datos, podemos continuar\n",
        "#con el cálculo de los vectores medios.\n",
        "np.set_printoptions(precision=4)\n",
        "vectores_medios=[]\n",
        "for etiqueta in range(1,4):\n",
        "  vectores_medios.append(np.mean(X_train_std[y_train==etiqueta], axis=0))\n",
        "  print('VM %s: %s\\n'%(etiqueta,vectores_medios[etiqueta-1]))"
      ],
      "metadata": {
        "colab": {
          "base_uri": "https://localhost:8080/"
        },
        "id": "gpZ59j0A8-9b",
        "outputId": "e99df6c7-2142-41f8-d9ff-17e53fd76dc6"
      },
      "execution_count": 38,
      "outputs": [
        {
          "output_type": "stream",
          "name": "stdout",
          "text": [
            "VM 1: [ 0.9066 -0.3497  0.3201 -0.7189  0.5056  0.8807  0.9589 -0.5516  0.5416\n",
            "  0.2338  0.5897  0.6563  1.2075]\n",
            "\n",
            "VM 2: [-0.8749 -0.2848 -0.3735  0.3157 -0.3848 -0.0433  0.0635 -0.0946  0.0703\n",
            " -0.8286  0.3144  0.3608 -0.7253]\n",
            "\n",
            "VM 3: [ 0.1992  0.866   0.1682  0.4148 -0.0451 -1.0286 -1.2876  0.8287 -0.7795\n",
            "  0.9649 -1.209  -1.3622 -0.4013]\n",
            "\n"
          ]
        }
      ]
    },
    {
      "cell_type": "code",
      "source": [
        "# Con los vectores medios ya podemos calcular\n",
        "#la matriz de dispersion.\n",
        "d = 13 # número de caracteristicas.\n",
        "S_W = np.zeros((d,d))\n",
        "for etiqueta, VM, in zip(range(1,4), vectores_medios):\n",
        "  class_scatter = np.zeros((d,d))\n",
        "  for fila in X_train_std[y_train==etiqueta]:\n",
        "    fila, VM = fila.reshape(d,1), VM.reshape(d,1)\n",
        "    class_scatter+= (fila-VM).dot((fila-VM).T)\n",
        "  S_W += class_scatter\n",
        "\n",
        "print('Matriz de dispersión de la clase: %sx%s'%(S_W.shape[0], S_W.shape[1]))\n"
      ],
      "metadata": {
        "colab": {
          "base_uri": "https://localhost:8080/"
        },
        "id": "99ABHlfbTa42",
        "outputId": "f5d45ba0-9161-414c-eb9d-703de41816cb"
      },
      "execution_count": 39,
      "outputs": [
        {
          "output_type": "stream",
          "name": "stdout",
          "text": [
            "Matriz de dispersión de la clase: 13x13\n"
          ]
        }
      ]
    },
    {
      "cell_type": "code",
      "source": [
        "#mostrando la distribucin de etiquetas\n",
        "print('distribución de etiquetas de clase: %s'%(np.bincount(y_train)[1:]))"
      ],
      "metadata": {
        "colab": {
          "base_uri": "https://localhost:8080/"
        },
        "id": "O23Fkm5eV8a5",
        "outputId": "dd93abf4-49c0-4278-e42b-e23fbc2c3d1e"
      },
      "execution_count": 40,
      "outputs": [
        {
          "output_type": "stream",
          "name": "stdout",
          "text": [
            "distribución de etiquetas de clase: [41 50 33]\n"
          ]
        }
      ]
    },
    {
      "cell_type": "markdown",
      "source": [
        "### Cuando dividimos las matrices de dispersión por el número de muestras de clase $n$, podemos observar que calcular la matriz de dispersión es, de hecho, lo mismo que calcular la matriz de covarianza."
      ],
      "metadata": {
        "id": "n6avRNY-Rj67"
      }
    },
    {
      "cell_type": "code",
      "source": [
        "#Calculando la matriz de covarianza.\n",
        "d = 13 # número de caracteristicas.\n",
        "S_W = np.zeros((d,d))\n",
        "for etiqueta, VM, in zip(range(1,4), vectores_medios):\n",
        "  class_scatter = np.cov(X_train_std[y_train==etiqueta].T)\n",
        "  S_W += class_scatter\n",
        "\n",
        "print('Matriz de dispersión escalada: %sx%s'%(S_W.shape[0], S_W.shape[1]))"
      ],
      "metadata": {
        "colab": {
          "base_uri": "https://localhost:8080/"
        },
        "id": "zdEk6BmSSmGt",
        "outputId": "5818ec4a-34c6-44ad-c037-c547dcbbf67b"
      },
      "execution_count": 41,
      "outputs": [
        {
          "output_type": "stream",
          "name": "stdout",
          "text": [
            "Matriz de dispersión escalada: 13x13\n"
          ]
        }
      ]
    },
    {
      "cell_type": "markdown",
      "source": [
        "### Después de calcular la matriz de dispersón escalada dentro de las clases(o matriz de covarianza), podemos pasar a calcular la matriz de dispersión entre clases $S_{b}$"
      ],
      "metadata": {
        "id": "ShE-_l-LT4GL"
      }
    },
    {
      "cell_type": "code",
      "source": [
        "mean_overall = np.mean(X_train_std, axis=0) #media general\n",
        "S_B = np.zeros((d,d))\n",
        "for i, mean_vec in enumerate(vectores_medios):\n",
        "  n = X_train[y_train== i+1, :].shape[0]\n",
        "  mean_vec = mean_vec.reshape(d,1) #hace el vector columna.\n",
        "  mean_overall = mean_overall.reshape(d,1)\n",
        "  S_B += n*(mean_vec-mean_overall).dot((mean_vec - mean_overall).T)\n",
        "print('Matriz de dispersión entre clases: %sx%s' % (S_B.shape[0], S_B.shape[1]))"
      ],
      "metadata": {
        "colab": {
          "base_uri": "https://localhost:8080/"
        },
        "id": "U_XsNlAQUe_p",
        "outputId": "e455e461-e84f-4d71-a233-19a1d70c0c25"
      },
      "execution_count": 44,
      "outputs": [
        {
          "output_type": "stream",
          "name": "stdout",
          "text": [
            "Matriz de dispersión entre clases: 13x13\n"
          ]
        }
      ]
    },
    {
      "cell_type": "markdown",
      "source": [
        "## Seleccionar discriminantes lineales para el nuevo subespacio de caracteristicas."
      ],
      "metadata": {
        "id": "4kJwQcPHXNn8"
      }
    },
    {
      "cell_type": "code",
      "source": [
        "eigen_vals, eigen_vect = np.linalg.eig(np.linalg.inv(S_W).dot(S_B))\n",
        "eigen_pairs = [(np.abs(eigen_vals[i]), eigen_vect[:,i]) for i in range(len(eigen_vals))]\n",
        "eigen_pairs = sorted(eigen_pairs, key=lambda k: k[0], reverse=True)\n",
        "print('Valores propios en orden descendente: \\n')\n",
        "for eigen_val in eigen_pairs:\n",
        "  print(eigen_val[0])"
      ],
      "metadata": {
        "colab": {
          "base_uri": "https://localhost:8080/"
        },
        "id": "g8wiz6R6XkvK",
        "outputId": "0c3182cf-3dbb-4bec-ad1d-1ab229fd224b"
      },
      "execution_count": 46,
      "outputs": [
        {
          "output_type": "stream",
          "name": "stdout",
          "text": [
            "Valores propios en orden descendente: \n",
            "\n",
            "349.61780890599397\n",
            "172.7615221897938\n",
            "3.342838214841367e-14\n",
            "2.842170943040401e-14\n",
            "2.5545786180111422e-14\n",
            "1.7533939180734234e-14\n",
            "1.7533939180734234e-14\n",
            "1.6579193995960903e-14\n",
            "1.6579193995960903e-14\n",
            "8.242524002707225e-15\n",
            "8.242524002707225e-15\n",
            "6.36835506006027e-15\n",
            "2.974634375545734e-15\n"
          ]
        }
      ]
    },
    {
      "cell_type": "markdown",
      "source": [
        "### En ADL el número de discriminantes lineales es como máximo $c$-1, donde $c$ es el número de etiquetas de clase, mientras que la matriz de dispersión intermedia $S_{b}$ es la suma de $c$ matrices con una clasificación de 1 o menos."
      ],
      "metadata": {
        "id": "t_1w6Lzmb62w"
      }
    },
    {
      "cell_type": "code",
      "source": [
        "#vamos a representar los discriminantes lineales reduciendo los autovalores.\n",
        "tot = sum(eigen_vals.real)\n",
        "discr = [(i/tot) for i in sorted(eigen_vals.real, reverse=True)]\n",
        "cum_discr = np.cumsum(discr)\n",
        "plt.bar(range(1, 14), discr, alpha=0.5, align='center',\n",
        "        label='\"Discriminabilidad\" individual')\n",
        "plt.step(range(1,14), cum_discr, where='mid',\n",
        "         label='\"discriminabilidad\" Acumulada')\n",
        "plt.ylabel('Radio de \"Discriminabilidad\"')\n",
        "plt.xlabel('Discriminante lineal')\n",
        "plt.ylim([-0.0, 1.1])\n",
        "plt.legend(loc='best')\n",
        "plt.show()"
      ],
      "metadata": {
        "colab": {
          "base_uri": "https://localhost:8080/",
          "height": 449
        },
        "id": "H9TV3Jhgcy3t",
        "outputId": "3e54c73d-ab8e-4b7a-c9b1-ab1487590d7e"
      },
      "execution_count": 47,
      "outputs": [
        {
          "output_type": "display_data",
          "data": {
            "text/plain": [
              "<Figure size 640x480 with 1 Axes>"
            ],
            "image/png": "[encoded data removed]"
          },
          "metadata": {}
        }
      ]
    }
  ]
}