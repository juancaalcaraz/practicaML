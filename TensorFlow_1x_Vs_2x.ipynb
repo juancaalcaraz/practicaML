{
  "nbformat": 4,
  "nbformat_minor": 0,
  "metadata": {
    "colab": {
      "provenance": [],
      "authorship_tag": "ABX9TyMbvbdoKV8ISN8eSg9Vc05n",
      "include_colab_link": true
    },
    "kernelspec": {
      "name": "python3",
      "display_name": "Python 3"
    },
    "language_info": {
      "name": "python"
    }
  },
  "cells": [
    {
      "cell_type": "markdown",
      "metadata": {
        "id": "view-in-github",
        "colab_type": "text"
      },
      "source": [
        "<a href=\"https://colab.research.google.com/github/juancaalcaraz/practicaML/blob/main/TensorFlow_1x_Vs_2x.ipynb\" target=\"_parent\"><img src=\"https://colab.research.google.com/assets/colab-badge.svg\" alt=\"Open In Colab\"/></a>"
      ]
    },
    {
      "cell_type": "markdown",
      "source": [
        "# **TensorFlow**\n",
        "## TensorFlow está creado alrededor de un grafo computacional compuesto de un cojunto de nodos. Cada nodo representa una operación con cero o más entradas o salidas. los valores que fluyen a travéz de los bordes del grafo computacional se denominan tensores.\n",
        "## Los tensores se pueden interpretar como una generalización de escalares, vectores, matrices, etc. Un escalar se puede definir como un tensor de rango 0, un vector como un tensor de rango 1, una matriz como un tensor de rango 2; y las matrices dispuestas en una tercera dimensión, como tensores de rango 3.\n",
        "## Una vez creado un grafo computacional, el grafo se puede lanzar en una *Session* de TensorFlow para ejecutar diferentes nodos del grafo.    "
      ],
      "metadata": {
        "id": "h_Bstan0zjUG"
      }
    },
    {
      "cell_type": "code",
      "execution_count": null,
      "metadata": {
        "colab": {
          "base_uri": "https://localhost:8080/"
        },
        "id": "e5Pt54F9zSbH",
        "outputId": "bfb78a98-b096-41f4-d9f2-f37749d1ed35"
      },
      "outputs": [
        {
          "output_type": "stream",
          "name": "stdout",
          "text": [
            "x= 1.0 --> z= 2.7\n",
            "x= 0.6 --> z= 1.9\n",
            "x=-1.8 --> z=-2.9\n"
          ]
        },
        {
          "output_type": "stream",
          "name": "stderr",
          "text": [
            "<ipython-input-6-182fce8a40f8>:26: DeprecationWarning: Conversion of an array with ndim > 0 to a scalar is deprecated, and will error in future. Ensure you extract a single element from your array before performing this operation. (Deprecated NumPy 1.25.)\n",
            "  print('x=%4.1f --> z=%4.1f'%(t, sess.run(z, feed_dict={x: [t]})))\n"
          ]
        }
      ],
      "source": [
        "import tensorflow as tf\n",
        "\"\"\"\n",
        "################################################################\n",
        "##                                                            ##\n",
        "## Calcular una entrad de red Z de un punto de muestra X      ##\n",
        "## en un conjunto de una dimensión con de pesos W y sesgos b. ##\n",
        "##                                                            ##\n",
        "################################################################\n",
        "\"\"\"\n",
        "## Crear un gráfico\n",
        "g = tf.Graph()\n",
        "\n",
        "with g.as_default():\n",
        "  x = tf.compat.v1.placeholder(dtype=tf.float32, shape=(1), name='x')\n",
        "  w = tf.Variable(2.0, name='weight')\n",
        "  b = tf.Variable(0.7, name='bias')\n",
        "  z = w * x + b\n",
        "  init = tf.compat.v1.global_variables_initializer()\n",
        "\n",
        "## Crear una sesión y pasar a gráfico g\n",
        "with tf.compat.v1.Session(graph=g) as sess:\n",
        "  ## inicializar w y b\n",
        "  sess.run(init)\n",
        "  ## Evaluar Z\n",
        "  for t in [1.0, 0.6, -1.8]:\n",
        "    print('x=%4.1f --> z=%4.1f'%(t, sess.run(z, feed_dict={x: [t]})))"
      ]
    },
    {
      "cell_type": "markdown",
      "source": [
        "## El código anterior es para TensorFlow 1.x Actualmente se utiliza la version 2.x que introduce algunos cambios.\n",
        "1. Uso de Variables directamente: No es necesario inicializar las variables con tf.compat.v1.global_variables_initializer() en TensorFlow 2.x, ya que la inicialización se maneja automáticamente cuando se crean las variables.\n",
        "2. Funciones en lugar de gráficos: En lugar de definir un gráfico (tf.Graph) y una sesión (tf.compat.v1.Session), se define una función (compute_z) que se evalúa directamente.\n",
        "3. Ejecución directa: En TensorFlow 2.x, puedes llamar directamente a las operaciones y obtener los resultados sin necesidad de feed_dict o sesiones explícitas.\n",
        "\n",
        "## Actualización del código anterior:"
      ],
      "metadata": {
        "id": "RVq406K38YRj"
      }
    },
    {
      "cell_type": "code",
      "source": [
        "import tensorflow as tf\n",
        "\n",
        "# Definir las variables y la operación\n",
        "w = tf.Variable(2.0, name='weight')\n",
        "b = tf.Variable(0.7, name='bias')\n",
        "\n",
        "# Función para calcular z\n",
        "def compute_z(x):\n",
        "    return w * x + b\n",
        "\n",
        "# Inicializar las variables\n",
        "tf.keras.backend.set_floatx('float32')  # Asegurarse de que las operaciones se realicen en 32 bits (opcional)\n",
        "for t in [1.0, 0.6, -1.8]:\n",
        "    z = compute_z(tf.constant(t))\n",
        "    print(f'x={t:.1f} --> z={z.numpy():.1f}')\n"
      ],
      "metadata": {
        "colab": {
          "base_uri": "https://localhost:8080/"
        },
        "id": "XUZEBSOW8LG9",
        "outputId": "6b06da0a-c535-4d7f-c746-999450c5eb5f"
      },
      "execution_count": null,
      "outputs": [
        {
          "output_type": "stream",
          "name": "stdout",
          "text": [
            "x=1.0 --> z=2.7\n",
            "x=0.6 --> z=1.9\n",
            "x=-1.8 --> z=-2.9\n"
          ]
        }
      ]
    },
    {
      "cell_type": "markdown",
      "source": [
        "## Trabajar con estructuras de matri en TensorFlow 1.x\n",
        "## Crearemos un tensor de rango 3 con un *batchsize* x 2 x 3, lo remodelaresmos y calcularemos las sumas de columnas utilizando expresiones optimizadas de TensorFlow. Como no conocemos de antemano el tamaño del lote, lo especificamos con None en el argumento para el parámetro shape del marcador de posición *x*:    "
      ],
      "metadata": {
        "id": "d7U82pDL-E4U"
      }
    },
    {
      "cell_type": "code",
      "source": [
        "import tensorflow as tf\n",
        "import numpy as np\n",
        "g = tf.Graph()\n",
        "\n",
        "with g.as_default():\n",
        "  x = tf.compat.v1.placeholder(dtype=tf.float32, shape=(None, 2, 3), name='input_x')\n",
        "  x2 = tf.reshape(x, shape=(-1, 6), name='x2')\n",
        "\n",
        "  ## Calcular la suma de cada columna\n",
        "  xsum = tf.reduce_sum(x2, axis=0, name='col_sum')\n",
        "\n",
        "  ## Calcular la media de cada columna\n",
        "  xmean = tf.reduce_mean(x2, axis=0, name='col_mean')\n",
        "\n",
        "with tf.compat.v1.Session(graph=g) as sess:\n",
        "  x_array = np.arange(18).reshape(3, 2, 3)\n",
        "  print('input shape: ', x_array.shape)\n",
        "  print('Reshaped: \\n ', sess.run(x2, feed_dict={x: x_array}))\n",
        "  print('Column Sums: ', sess.run(xsum, feed_dict={x: x_array}))\n",
        "  print('Column Means: ', sess.run(xmean, feed_dict={x: x_array}))"
      ],
      "metadata": {
        "colab": {
          "base_uri": "https://localhost:8080/"
        },
        "id": "rXkl6waIVfFh",
        "outputId": "c970164f-251b-4868-cfb7-c61dadb86a6e"
      },
      "execution_count": null,
      "outputs": [
        {
          "output_type": "stream",
          "name": "stdout",
          "text": [
            "input shape:  (3, 2, 3)\n",
            "Reshaped: \n",
            "  [[ 0.  1.  2.  3.  4.  5.]\n",
            " [ 6.  7.  8.  9. 10. 11.]\n",
            " [12. 13. 14. 15. 16. 17.]]\n",
            "Column Sums:  [18. 21. 24. 27. 30. 33.]\n",
            "Column Means:  [ 6.  7.  8.  9. 10. 11.]\n"
          ]
        }
      ]
    },
    {
      "cell_type": "markdown",
      "source": [
        "## Trabajar con estrucuturas de matriz en tensorflow 2.x\n",
        "## Este código realiza lo mismo que el anterior pero está refactorizado para tensorflow 2.x"
      ],
      "metadata": {
        "id": "NTjHI1mFX_FF"
      }
    },
    {
      "cell_type": "code",
      "source": [
        "import tensorflow as tf\n",
        "import numpy as np\n",
        "\n",
        "# Crear un modelo secuencial\n",
        "model = tf.keras.Sequential()\n",
        "\n",
        "# Definir las operaciones como funciones\n",
        "@tf.function\n",
        "def reshape_and_calculate(x):\n",
        "    x2 = tf.reshape(x, shape=(-1, 6))\n",
        "    xsum = tf.reduce_sum(x2, axis=0)\n",
        "    xmean = tf.reduce_mean(x2, axis=0)\n",
        "    return x2, xsum, xmean\n",
        "\n",
        "# Crear los datos de entrada\n",
        "x_array = np.arange(18).reshape(3, 2, 3).astype(np.float32)\n",
        "\n",
        "# Ejecutar las operaciones\n",
        "x2, xsum, xmean = reshape_and_calculate(x_array)\n",
        "\n",
        "print('Input shape: ', x_array.shape)\n",
        "print('Reshaped: \\n', x2.numpy())\n",
        "print('Column Sums: ', xsum.numpy())\n",
        "print('Column Means: ', xmean.numpy())\n"
      ],
      "metadata": {
        "colab": {
          "base_uri": "https://localhost:8080/"
        },
        "id": "dG3ADlK0X3YX",
        "outputId": "ff05a381-ff7f-43fc-90d7-7ef84eaa2e12"
      },
      "execution_count": null,
      "outputs": [
        {
          "output_type": "stream",
          "name": "stdout",
          "text": [
            "Input shape:  (3, 2, 3)\n",
            "Reshaped: \n",
            " [[ 0.  1.  2.  3.  4.  5.]\n",
            " [ 6.  7.  8.  9. 10. 11.]\n",
            " [12. 13. 14. 15. 16. 17.]]\n",
            "Column Sums:  [18. 21. 24. 27. 30. 33.]\n",
            "Column Means:  [ 6.  7.  8.  9. 10. 11.]\n"
          ]
        }
      ]
    },
    {
      "cell_type": "markdown",
      "source": [
        "### En estos ejemplos hemos trabajado con tres funciones tf.reshape, tf.reduce_sum y tf.reduce_mean. Para el remodelado utilizamos el valor -1 para la primera dimensión. Esto es así porque no conocemos el valor del tamaño del lote. Cuando se remodela un tensor si se utiliza -1 para una dimensión determinada, el tamaño de dicha dimensión será calculada según el tamaño total del tensor y la dimension restante. Por lo cual, tf.reshape(tensor, shape=(-1, )) se puede utilizar para aplanar un tensor.   "
      ],
      "metadata": {
        "id": "maMgv4FaYixy"
      }
    },
    {
      "cell_type": "markdown",
      "source": [
        "# Desarrollar un modelo simple conn la API de bajo nivel de TensorFlow\n",
        "## Vamos a implementar una regresion de minimos **cuadrados ordinales(OLS)**.\n",
        "## Crearemos un conjunto de datos para el entrenamientos. Una vez tengamos el conjunto de datos vamos a enrenar un modelo de regresión lineal para predecir la salida $y$ desde la entrada $x$. A continuación, debemos definir las variables a entrenar: pesos $w$ y sesgos $b$. Despúes definimos el modelo de regresión lineal como $ z = W $X$ x + b $ y definir la función de coste que sea el **Error cuadrático medio(MSE)**.\n",
        "## El código en TensorFlow 1.x:  "
      ],
      "metadata": {
        "id": "YoRKs5h8ae9k"
      }
    },
    {
      "cell_type": "code",
      "source": [
        "import tensorflow as tf\n",
        "import numpy as np\n",
        "X_train = np.arange(10).reshape((10, 1))\n",
        "y_train = np.array([1.0, 1.3, 3.1, 2.0, 5.0, 6.3, 6.6, 7.4, 8.0, 9.0])\n",
        "\n",
        "class TfLinreg(object):\n",
        "  def __init__(self, x_dim, learning_rate=0.01, random_seed=None):\n",
        "    self.x_dim = x_dim\n",
        "    self.learning_rate = learning_rate\n",
        "    self.g = tf.Graph()\n",
        "    ## Crear el modelo\n",
        "    with self.g.as_default():\n",
        "      ## Ajustar graph-level random-seed\n",
        "      if random_seed :\n",
        "        tf.random.set_seed(random_seed)\n",
        "      self.build()\n",
        "      ## Crear inicializador\n",
        "      self.init_op = tf.compat.v1.global_variables_initializer()\n",
        "\n",
        "  def build(self):\n",
        "    ## Definir texto por defecto para entradas.\n",
        "    self.X = tf.compat.v1.placeholder(dtype=tf.float32, shape=(None, self.x_dim), name='x_input')\n",
        "    self.y = tf.compat.v1.placeholder(dtype=tf.float32, shape=(None), name='y_input')\n",
        "    print(self.X)\n",
        "    print(self.y)\n",
        "    ## Definir matriz ponderada y vector de sesgo\n",
        "    w = tf.Variable(tf.zeros(shape=(1)), name='weight')\n",
        "    b = tf.Variable(tf.zeros(shape=(1)), name='bias')\n",
        "    print(w)\n",
        "    print(b)\n",
        "    self.z_net = tf.squeeze(w * self.X + b, name='z_net')\n",
        "    print(self.z_net)\n",
        "    ## definir la funcion de coste.\n",
        "    sqr_errors = tf.square(self.y - self.z_net, name='sqr_errors')\n",
        "    print(sqr_errors)\n",
        "    self.mean_cost = tf.reduce_mean(sqr_errors, name='mean_cost')\n",
        "    print(self.mean_cost)\n",
        "    ## Definir el optimizador\n",
        "    optimizer = tf.compat.v1.train.GradientDescentOptimizer(learning_rate = self.learning_rate, name='GradientDescent')\n",
        "    self.optimizer = optimizer.minimize(self.mean_cost)"
      ],
      "metadata": {
        "id": "8EI3GhDOcSEW"
      },
      "execution_count": null,
      "outputs": []
    },
    {
      "cell_type": "code",
      "source": [
        "lrmodel = TfLinreg(x_dim=X_train.shape[1], learning_rate=0.01)"
      ],
      "metadata": {
        "colab": {
          "base_uri": "https://localhost:8080/"
        },
        "id": "xZsJoqOGhVQg",
        "outputId": "81ee24a6-fb6e-43ff-a4c8-e161ea14a581"
      },
      "execution_count": null,
      "outputs": [
        {
          "output_type": "stream",
          "name": "stdout",
          "text": [
            "Tensor(\"x_input:0\", shape=(None, 1), dtype=float32)\n",
            "Tensor(\"y_input:0\", dtype=float32)\n",
            "<tf.Variable 'weight:0' shape=(1,) dtype=float32>\n",
            "<tf.Variable 'bias:0' shape=(1,) dtype=float32>\n",
            "Tensor(\"z_net:0\", dtype=float32)\n",
            "Tensor(\"sqr_errors:0\", dtype=float32)\n",
            "Tensor(\"mean_cost:0\", shape=(), dtype=float32)\n"
          ]
        }
      ]
    },
    {
      "cell_type": "markdown",
      "source": [
        "## Para el entranamiento implementamos una funcion individual que necesita una session de TensorFlow, una instancia del modelo, datos de entrenamiento y el número de epocas para el entrenamiento:"
      ],
      "metadata": {
        "id": "6SmW2nK9jcnL"
      }
    },
    {
      "cell_type": "code",
      "source": [
        "def train_linreg(sess, model, X_train, y_train, num_epochs=10):\n",
        "  ## Inicializar todas las variables W y b\n",
        "  sess.run(model.init_op)\n",
        "  training_costs = []\n",
        "  for i in range(num_epochs):\n",
        "    _, cost = sess.run([model.optimizer, model.mean_cost], feed_dict={model.X: X_train, model.y: y_train})\n",
        "    training_costs.append(cost)\n",
        "\n",
        "  return training_costs"
      ],
      "metadata": {
        "id": "3IqjfesOj6ui"
      },
      "execution_count": null,
      "outputs": []
    },
    {
      "cell_type": "code",
      "source": [
        "sess = tf.compat.v1.Session(graph=lrmodel.g)\n",
        "training_costs = train_linreg(sess, lrmodel, X_train, y_train)"
      ],
      "metadata": {
        "id": "57k4SzswlK8B"
      },
      "execution_count": null,
      "outputs": []
    },
    {
      "cell_type": "code",
      "source": [
        "# Vamos a visualizar los costes de entrenamiento.\n",
        "import matplotlib.pyplot as plt\n",
        "plt.plot(range(1, len(training_costs)+1), training_costs)\n",
        "plt.tight_layout()\n",
        "plt.xlabel('Epocas')\n",
        "plt.ylabel('Costo de entrenamiento')\n",
        "plt.show()"
      ],
      "metadata": {
        "colab": {
          "base_uri": "https://localhost:8080/",
          "height": 506
        },
        "id": "TrB3ILQRla8o",
        "outputId": "e4b8764e-08b1-4035-cc77-5f1f03760724"
      },
      "execution_count": null,
      "outputs": [
        {
          "output_type": "display_data",
          "data": {
            "text/plain": [
              "<Figure size 640x480 with 1 Axes>"
            ],
            "image/png": "[encoded data removed]"
          },
          "metadata": {}
        }
      ]
    },
    {
      "cell_type": "markdown",
      "source": [
        "## Como podemos ver, este modelo converge rápidamente despúes de unas épocas."
      ],
      "metadata": {
        "id": "I7KNcbNmmJuq"
      }
    },
    {
      "cell_type": "markdown",
      "source": [
        "# Mismo código en TensorFlow 2.x"
      ],
      "metadata": {
        "id": "RG_LO_T2mXvr"
      }
    },
    {
      "cell_type": "code",
      "source": [
        "import tensorflow as tf\n",
        "import numpy as np\n",
        "import matplotlib.pyplot as plt\n",
        "\n",
        "# Datos de entrenamiento\n",
        "X_train = np.arange(10).reshape((10, 1)).astype(np.float32)\n",
        "y_train = np.array([1.0, 1.3, 3.1, 2.0, 5.0, 6.3, 6.6, 7.4, 8.0, 9.0], dtype=np.float32)\n",
        "\n",
        "class TfLinreg(tf.Module):\n",
        "    def __init__(self, x_dim, learning_rate=0.01, random_seed=None):\n",
        "        self.x_dim = x_dim\n",
        "        self.learning_rate = learning_rate\n",
        "        if random_seed:\n",
        "            tf.random.set_seed(random_seed)\n",
        "        self.build()\n",
        "\n",
        "    def build(self):\n",
        "        self.w = tf.Variable(tf.zeros(shape=(1)), name='weight')\n",
        "        self.b = tf.Variable(tf.zeros(shape=(1)), name='bias')\n",
        "\n",
        "    def __call__(self, X):\n",
        "        return tf.squeeze(self.w * X + self.b)\n",
        "\n",
        "    def compute_cost(self, y_true, y_pred):\n",
        "        sqr_errors = tf.square(y_true - y_pred)\n",
        "        return tf.reduce_mean(sqr_errors)\n",
        "\n",
        "# Crear el modelo\n",
        "model = TfLinreg(x_dim=1, learning_rate=0.01, random_seed=42)\n",
        "\n",
        "# Definir el optimizador\n",
        "optimizer = tf.optimizers.SGD(learning_rate=model.learning_rate)\n",
        "\n",
        "# Función de entrenamiento\n",
        "def train_step(model, X, y):\n",
        "    with tf.GradientTape() as tape:\n",
        "        y_pred = model(X)\n",
        "        loss = model.compute_cost(y, y_pred)\n",
        "    gradients = tape.gradient(loss, [model.w, model.b])\n",
        "    optimizer.apply_gradients(zip(gradients, [model.w, model.b]))\n",
        "    return loss\n",
        "\n",
        "# Lista para almacenar los costes de entrenamiento\n",
        "training_costs = []\n",
        "\n",
        "# Entrenamiento del modelo\n",
        "for epoch in range(100):\n",
        "    loss = train_step(model, X_train, y_train)\n",
        "    training_costs.append(loss.numpy())\n",
        "    if epoch % 10 == 0:\n",
        "        print(f'Epoch {epoch}: Loss = {loss.numpy()}')\n",
        "\n",
        "# Resultados finales\n",
        "print(f'Peso: {model.w.numpy()}, Sesgo: {model.b.numpy()}')\n",
        "\n"
      ],
      "metadata": {
        "colab": {
          "base_uri": "https://localhost:8080/"
        },
        "id": "yp2YezZDoPFV",
        "outputId": "7af28cc3-dc35-4ff8-8984-6acee7bfd18f"
      },
      "execution_count": null,
      "outputs": [
        {
          "output_type": "stream",
          "name": "stdout",
          "text": [
            "Epoch 0: Loss = 32.430999755859375\n",
            "Epoch 10: Loss = 0.48512163758277893\n",
            "Epoch 20: Loss = 0.4763002395629883\n",
            "Epoch 30: Loss = 0.4684240221977234\n",
            "Epoch 40: Loss = 0.46139150857925415\n",
            "Epoch 50: Loss = 0.45511192083358765\n",
            "Epoch 60: Loss = 0.44950467348098755\n",
            "Epoch 70: Loss = 0.44449830055236816\n",
            "Epoch 80: Loss = 0.44002777338027954\n",
            "Epoch 90: Loss = 0.4360359311103821\n",
            "Peso: [0.9935169], Sesgo: [0.40870973]\n"
          ]
        }
      ]
    },
    {
      "cell_type": "markdown",
      "source": [
        "## En esta versión, utilizamos tf.Module para definir el modelo y tf.GradientTape para calcular los gradientes y actualizar los pesos. La función train_step realiza un paso de entrenamiento y se ejecuta en un bucle para entrenar el modelo."
      ],
      "metadata": {
        "id": "uQGn4GFmnhfc"
      }
    },
    {
      "cell_type": "code",
      "source": [
        "# Visualizar los costes de entrenamiento\n",
        "plt.plot(range(1, len(training_costs) + 1), training_costs)\n",
        "plt.tight_layout()\n",
        "plt.xlabel('Épocas')\n",
        "plt.ylabel('Costo de entrenamiento')\n",
        "plt.show()"
      ],
      "metadata": {
        "colab": {
          "base_uri": "https://localhost:8080/",
          "height": 508
        },
        "id": "I5ammmlPoqYd",
        "outputId": "25fd3efc-f137-4416-dda7-69a7753cb37b"
      },
      "execution_count": null,
      "outputs": [
        {
          "output_type": "display_data",
          "data": {
            "text/plain": [
              "<Figure size 640x480 with 1 Axes>"
            ],
            "image/png": "[encoded data removed]"
          },
          "metadata": {}
        }
      ]
    },
    {
      "cell_type": "markdown",
      "source": [
        "## Ahora vamos a definir la función para realizar las predicciones tanto en TensorFlow 1.x como en 2.x"
      ],
      "metadata": {
        "id": "NlUWKJnNpDgb"
      }
    },
    {
      "cell_type": "code",
      "source": [
        "#Funcion predict en TensorFlow 1.x\n",
        "def predict_linreg(sess, model, X_test):\n",
        "  y_pred = sess.run(model.z_net, feed_dict={model.X: X_test})\n",
        "  return y_pred"
      ],
      "metadata": {
        "id": "FimqGkqgpRte"
      },
      "execution_count": null,
      "outputs": []
    },
    {
      "cell_type": "code",
      "source": [
        "plt.scatter(X_train, y_train, marker='s', s=50, label='datos de entrenamiento')\n",
        "plt.plot(range(X_train.shape[0]), predict_linreg(sess, model, X_train),\n",
        "         color='Gray', marker='o', markersize=6,\n",
        "         linewidth=3, label='modelo LinReg')\n",
        "plt.xlabel('X')\n",
        "plt.ylabel('y')\n",
        "plt.legend()\n",
        "plt.tight_layout()\n",
        "plt.show()"
      ],
      "metadata": {
        "colab": {
          "base_uri": "https://localhost:8080/",
          "height": 487
        },
        "id": "VET297nOppOX",
        "outputId": "c016bdad-f681-4041-a993-9f32fafd8da8"
      },
      "execution_count": null,
      "outputs": [
        {
          "output_type": "display_data",
          "data": {
            "text/plain": [
              "<Figure size 640x480 with 1 Axes>"
            ],
            "image/png": "[encoded data removed]"
          },
          "metadata": {}
        }
      ]
    },
    {
      "cell_type": "markdown",
      "source": [
        "### Como podemos observar, nuestro modelo ajusta adecuadamente los puntos de datos de entrenamiento."
      ],
      "metadata": {
        "id": "q46U6giWwee1"
      }
    },
    {
      "cell_type": "code",
      "source": [
        "#Funcion predict en TensorFlow 2.x\n",
        "def predict_linreg(model, X_test):\n",
        "  y_pred = model(X_test)\n",
        "  return y_pred"
      ],
      "metadata": {
        "id": "pWBMymYFpioG"
      },
      "execution_count": null,
      "outputs": []
    },
    {
      "cell_type": "code",
      "source": [
        "plt.scatter(X_train, y_train, marker='x', s=50, label='datos de entrenamiento')\n",
        "plt.plot(range(X_train.shape[0]), predict_linreg(model, X_train),\n",
        "         color='Blue', marker='o', markersize=6,\n",
        "         linewidth=3, label='modelo LinReg TF 2.x')\n",
        "plt.xlabel('X')\n",
        "plt.ylabel('y')\n",
        "plt.legend()\n",
        "plt.tight_layout()\n",
        "plt.show()"
      ],
      "metadata": {
        "colab": {
          "base_uri": "https://localhost:8080/",
          "height": 487
        },
        "id": "Z8q2jFYUw2pc",
        "outputId": "f5568de1-26a5-44ec-d11f-2026f7ccfd7d"
      },
      "execution_count": null,
      "outputs": [
        {
          "output_type": "display_data",
          "data": {
            "text/plain": [
              "<Figure size 640x480 with 1 Axes>"
            ],
            "image/png": "[encoded data removed]"
          },
          "metadata": {}
        }
      ]
    },
    {
      "cell_type": "markdown",
      "source": [
        "# Crear redes neuronales multicapa mediante la API Layers de TensorFlow"
      ],
      "metadata": {
        "id": "aX4G3eJ1CpC2"
      }
    },
    {
      "cell_type": "code",
      "source": [
        "import os\n",
        "import numpy as np\n",
        "import struct\n",
        "\n",
        "def load_mnist(path, kind='trian'):\n",
        "  \"\"\"Cargar mnist desde el path\"\"\"\n",
        "  labels_path = os.path.join(path, '%s-labels.idx1-ubyte'%kind)\n",
        "  images_path = os.path.join(path, '%s-images.idx3-ubyte'%kind)\n",
        "\n",
        "  with open(labels_path, 'rb') as lbpath :\n",
        "    magic, n = struct.unpack('>II', lbpath.read(8))\n",
        "    labels = np.fromfile(lbpath, dtype= np.uint8)\n",
        "  with open(images_path, 'rb') as imgpath:\n",
        "    magic, num, rows, cols = struct.unpack(\">IIII\", imgpath.read(16))\n",
        "    images = np.fromfile(imgpath, dtype= np.uint8).reshape(len(labels), 784)\n",
        "    images = images / 255. #El libro procesa las imagenes de esta forma ((images / 255.) - .5) *2\n",
        "\n",
        "  return images, labels"
      ],
      "metadata": {
        "id": "ZywzniOXAVLw"
      },
      "execution_count": null,
      "outputs": []
    },
    {
      "cell_type": "code",
      "source": [
        "# Cargar los datos\n",
        "X_train, y_train = load_mnist('', kind='train')\n",
        "print('Filas: %d, columnas: %d' % (X_train.shape[0], X_train.shape[1]))"
      ],
      "metadata": {
        "colab": {
          "base_uri": "https://localhost:8080/"
        },
        "id": "LfqLtVP8_eag",
        "outputId": "711d37b6-5291-4ec9-d04e-976a30c0ef31"
      },
      "execution_count": null,
      "outputs": [
        {
          "output_type": "stream",
          "name": "stdout",
          "text": [
            "Filas: 60000, columnas: 784\n"
          ]
        }
      ]
    },
    {
      "cell_type": "code",
      "source": [
        "X_test, y_test = load_mnist('', kind='t10k')\n",
        "print('Filas: %d, columnas: %d' % (X_test.shape[0], X_test.shape[1]))"
      ],
      "metadata": {
        "colab": {
          "base_uri": "https://localhost:8080/"
        },
        "id": "GAjo5Df0ArR4",
        "outputId": "01c055a6-a5b9-435f-fca8-27a2a75b616d"
      },
      "execution_count": null,
      "outputs": [
        {
          "output_type": "stream",
          "name": "stdout",
          "text": [
            "Filas: 10000, columnas: 784\n"
          ]
        }
      ]
    },
    {
      "cell_type": "code",
      "source": [
        "# Centrado medio y normalización:\n",
        "mean_vals = np.mean(X_train, axis=0)\n",
        "std_val = np.std(X_train)\n",
        "X_train_centered = (X_train - mean_vals) / std_val\n",
        "X_test_centered = (X_test - mean_vals) / std_val"
      ],
      "metadata": {
        "id": "0NmjOp2EAudx"
      },
      "execution_count": null,
      "outputs": []
    },
    {
      "cell_type": "code",
      "source": [
        "del X_train, X_test"
      ],
      "metadata": {
        "id": "KnDP9B9QBWb1"
      },
      "execution_count": null,
      "outputs": []
    },
    {
      "cell_type": "code",
      "source": [
        "print(X_train_centered.shape, y_train.shape)"
      ],
      "metadata": {
        "colab": {
          "base_uri": "https://localhost:8080/"
        },
        "id": "KA2fMEJRBckl",
        "outputId": "769cf454-0f7c-4af6-f7a6-8c5c4133cc62"
      },
      "execution_count": null,
      "outputs": [
        {
          "output_type": "stream",
          "name": "stdout",
          "text": [
            "(60000, 784) (60000,)\n"
          ]
        }
      ]
    },
    {
      "cell_type": "code",
      "source": [
        "print(X_test_centered.shape, y_test.shape)"
      ],
      "metadata": {
        "colab": {
          "base_uri": "https://localhost:8080/"
        },
        "id": "pTbGNn43BnpX",
        "outputId": "909a637b-0200-4bcb-9579-768e7e496f95"
      },
      "execution_count": null,
      "outputs": [
        {
          "output_type": "stream",
          "name": "stdout",
          "text": [
            "(10000, 784) (10000,)\n"
          ]
        }
      ]
    },
    {
      "cell_type": "markdown",
      "source": [
        "## Ahora vamos a comenzar a construir el modelo, empezaremos creando dos marcadores de posición tf_x y tf_y, y después un perceptrón multicapa."
      ],
      "metadata": {
        "id": "IT8_W9n0BwU_"
      }
    },
    {
      "cell_type": "code",
      "source": [
        "import tensorflow as tf\n",
        "n_features = X_train_centered.shape[1]\n",
        "n_clases = 10\n",
        "random_seed = 42\n",
        "np.random.seed(random_seed)\n",
        "\n",
        "g = tf.Graph()\n",
        "with g.as_default():\n",
        "  #tf.set_random_seed(random_seed)\n",
        "  tf.random.set_seed(random_seed)\n",
        "  tf_x = tf.compat.v1.placeholder(dtype=tf.float32, shape=(None, n_features), name='tf_x')\n",
        "  tf_y = tf.compat.v1.placeholder(dtype=tf.int32, shape=(None,), name='tf_y')\n",
        "  y_onehot = tf.one_hot(indices=tf_y, depth=n_clases)\n",
        "  h1 = tf.keras.layers.Dense(units=50, activation=tf.tanh, name='layer1')(tf_x)\n",
        "  h2 = tf.keras.layers.Dense(units=50, activation=tf.tanh, name='layer2')(h1)\n",
        "  logits = tf.keras.layers.Dense(units=10, activation=None, name='layer3')(h2)\n",
        "  predictions = {\n",
        "      'clasess' : tf.argmax(logits, axis=1, name='predicted_clasess'),\n",
        "      'probabilities' : tf.nn.softmax(logits, name='softmax_tensor')\n",
        "  }"
      ],
      "metadata": {
        "id": "np9RkgQYCMbE"
      },
      "execution_count": null,
      "outputs": []
    },
    {
      "cell_type": "markdown",
      "source": [
        "## A continuación definimos las funciones de coste y añadimos un operador para inicializar las variables modelo, así como un operador de optimización:"
      ],
      "metadata": {
        "id": "Go_5ClRkFrl5"
      }
    },
    {
      "cell_type": "code",
      "source": [
        "with g.as_default():\n",
        "  #cost = tf.keras.losses.softmax_cross_entropy(onehot_labels=y_onehot, logits=logits)\n",
        "  cost = tf.keras.losses.CategoricalCrossentropy()(y_onehot, logits)\n",
        "  optimizer = tf.compat.v1.train.GradientDescentOptimizer(learning_rate=0.001)\n",
        "  train_op = optimizer.minimize(loss=cost)\n",
        "  init_op = tf.compat.v1.global_variables_initializer()"
      ],
      "metadata": {
        "id": "cHfleUGoGE8Y"
      },
      "execution_count": null,
      "outputs": []
    },
    {
      "cell_type": "markdown",
      "source": [
        "## Crearemos un función que devuelve un generador para los lotes de datos"
      ],
      "metadata": {
        "id": "JlKZ7VaeMlqE"
      }
    },
    {
      "cell_type": "code",
      "source": [
        "def create_batch_generator(X, y, batch_size=128, shuffle=False):\n",
        "  X_copy = np.array(X)\n",
        "  y_copy = np.array(y)\n",
        "  if shuffle:\n",
        "    data = np.column_stack((X_copy, y_copy))\n",
        "    np.random.shuffle(data)\n",
        "    X_copy = data[:, :-1]\n",
        "    y_copy = data[:, -1].astype(int)\n",
        "  for i in range(0, X.shape[0], batch_size):\n",
        "    yield (X_copy[i:i+batch_size, :], y_copy[i:i+batch_size])"
      ],
      "metadata": {
        "id": "C9wP1Kd_M9a5"
      },
      "execution_count": null,
      "outputs": []
    },
    {
      "cell_type": "markdown",
      "source": [
        "## Vamos a crear una nueva sesión de TensorFlow, inicializr todas las variables en nuestra red y entrenarlas. También mostraremos la pérdida de entrenamiento media después de que más tarde cada época supervise el proceso de aprendizaje:  "
      ],
      "metadata": {
        "id": "ZCC4HHk6OTeE"
      }
    },
    {
      "cell_type": "code",
      "source": [
        "## Crear una sesión para iniciar el gráfico\n",
        "sess = tf.compat.v1.Session(graph=g)\n",
        "## Ejecutar el operador de inicialización de variable\n",
        "sess.run(init_op)\n",
        "\n",
        "## 50 épocas de entrenamiento.\n",
        "for epoch in range(50):\n",
        "  training_costs = []\n",
        "  batch_generatot = create_batch_generator(X_train_centered, y_train, batch_size=64)\n",
        "  for batch_X, batch_y in batch_generatot:\n",
        "    # preparar un diccionario para el feed de la red\n",
        "    feed = {tf_x: batch_X, tf_y: batch_y}\n",
        "    _, batch_cost = sess.run([train_op, cost], feed_dict=feed)\n",
        "    training_costs.append(batch_cost)\n",
        "  print(f'\\t\\t--época {epoch+1}--\\n\\n \\tcosto de entrenamiento: {np.mean(training_costs)}')"
      ],
      "metadata": {
        "colab": {
          "base_uri": "https://localhost:8080/"
        },
        "id": "wDxLOLIOO6A0",
        "outputId": "82893cc1-5508-4864-bf3a-bfb3177f3ee5"
      },
      "execution_count": null,
      "outputs": [
        {
          "output_type": "stream",
          "name": "stdout",
          "text": [
            "\t\t--época 1--\n",
            "\n",
            " \tcosto de entrenamiento: 5.415582656860352\n",
            "\t\t--época 2--\n",
            "\n",
            " \tcosto de entrenamiento: 5.888027191162109\n",
            "\t\t--época 3--\n",
            "\n",
            " \tcosto de entrenamiento: 4.76708459854126\n",
            "\t\t--época 4--\n",
            "\n",
            " \tcosto de entrenamiento: 3.119155168533325\n",
            "\t\t--época 5--\n",
            "\n",
            " \tcosto de entrenamiento: 3.0538156032562256\n",
            "\t\t--época 6--\n",
            "\n",
            " \tcosto de entrenamiento: 2.8272671699523926\n",
            "\t\t--época 7--\n",
            "\n",
            " \tcosto de entrenamiento: 2.822052001953125\n",
            "\t\t--época 8--\n",
            "\n",
            " \tcosto de entrenamiento: 2.9658291339874268\n",
            "\t\t--época 9--\n",
            "\n",
            " \tcosto de entrenamiento: 3.2382726669311523\n",
            "\t\t--época 10--\n",
            "\n",
            " \tcosto de entrenamiento: 3.164504289627075\n",
            "\t\t--época 11--\n",
            "\n",
            " \tcosto de entrenamiento: 3.3497307300567627\n",
            "\t\t--época 12--\n",
            "\n",
            " \tcosto de entrenamiento: 3.090333938598633\n",
            "\t\t--época 13--\n",
            "\n",
            " \tcosto de entrenamiento: 2.8664748668670654\n",
            "\t\t--época 14--\n",
            "\n",
            " \tcosto de entrenamiento: 2.6092681884765625\n",
            "\t\t--época 15--\n",
            "\n",
            " \tcosto de entrenamiento: 2.570854425430298\n",
            "\t\t--época 16--\n",
            "\n",
            " \tcosto de entrenamiento: 2.559319496154785\n",
            "\t\t--época 17--\n",
            "\n",
            " \tcosto de entrenamiento: 2.5541281700134277\n",
            "\t\t--época 18--\n",
            "\n",
            " \tcosto de entrenamiento: 2.6099140644073486\n",
            "\t\t--época 19--\n",
            "\n",
            " \tcosto de entrenamiento: 2.5275933742523193\n",
            "\t\t--época 20--\n",
            "\n",
            " \tcosto de entrenamiento: 2.573256254196167\n",
            "\t\t--época 21--\n",
            "\n",
            " \tcosto de entrenamiento: 2.6612658500671387\n",
            "\t\t--época 22--\n",
            "\n",
            " \tcosto de entrenamiento: 2.504176378250122\n",
            "\t\t--época 23--\n",
            "\n",
            " \tcosto de entrenamiento: 2.460566282272339\n",
            "\t\t--época 24--\n",
            "\n",
            " \tcosto de entrenamiento: 2.667891263961792\n",
            "\t\t--época 25--\n",
            "\n",
            " \tcosto de entrenamiento: 2.767035722732544\n",
            "\t\t--época 26--\n",
            "\n",
            " \tcosto de entrenamiento: 2.813636541366577\n",
            "\t\t--época 27--\n",
            "\n",
            " \tcosto de entrenamiento: 2.778902292251587\n",
            "\t\t--época 28--\n",
            "\n",
            " \tcosto de entrenamiento: 2.741476535797119\n",
            "\t\t--época 29--\n",
            "\n",
            " \tcosto de entrenamiento: 2.736013650894165\n",
            "\t\t--época 30--\n",
            "\n",
            " \tcosto de entrenamiento: 2.877577304840088\n",
            "\t\t--época 31--\n",
            "\n",
            " \tcosto de entrenamiento: 2.942058563232422\n",
            "\t\t--época 32--\n",
            "\n",
            " \tcosto de entrenamiento: 2.9066951274871826\n",
            "\t\t--época 33--\n",
            "\n",
            " \tcosto de entrenamiento: 3.1604726314544678\n",
            "\t\t--época 34--\n",
            "\n",
            " \tcosto de entrenamiento: 3.315251111984253\n",
            "\t\t--época 35--\n",
            "\n",
            " \tcosto de entrenamiento: 3.113464593887329\n",
            "\t\t--época 36--\n",
            "\n",
            " \tcosto de entrenamiento: 3.004373073577881\n",
            "\t\t--época 37--\n",
            "\n",
            " \tcosto de entrenamiento: 2.9542577266693115\n",
            "\t\t--época 38--\n",
            "\n",
            " \tcosto de entrenamiento: 3.0972299575805664\n",
            "\t\t--época 39--\n",
            "\n",
            " \tcosto de entrenamiento: 3.0474934577941895\n",
            "\t\t--época 40--\n",
            "\n",
            " \tcosto de entrenamiento: 2.772883415222168\n",
            "\t\t--época 41--\n",
            "\n",
            " \tcosto de entrenamiento: 2.6857826709747314\n",
            "\t\t--época 42--\n",
            "\n",
            " \tcosto de entrenamiento: 2.624105930328369\n",
            "\t\t--época 43--\n",
            "\n",
            " \tcosto de entrenamiento: 2.5651252269744873\n",
            "\t\t--época 44--\n",
            "\n",
            " \tcosto de entrenamiento: 2.5300323963165283\n",
            "\t\t--época 45--\n",
            "\n",
            " \tcosto de entrenamiento: 2.5159268379211426\n",
            "\t\t--época 46--\n",
            "\n",
            " \tcosto de entrenamiento: 2.5067529678344727\n",
            "\t\t--época 47--\n",
            "\n",
            " \tcosto de entrenamiento: 2.553406238555908\n",
            "\t\t--época 48--\n",
            "\n",
            " \tcosto de entrenamiento: 3.0294148921966553\n",
            "\t\t--época 49--\n",
            "\n",
            " \tcosto de entrenamiento: 3.031893491744995\n",
            "\t\t--época 50--\n",
            "\n",
            " \tcosto de entrenamiento: 3.0963618755340576\n"
          ]
        }
      ]
    },
    {
      "cell_type": "markdown",
      "source": [
        "## Hacer predicciones en el conjunto de pruebas:"
      ],
      "metadata": {
        "id": "LNo1A8yXSYSO"
      }
    },
    {
      "cell_type": "code",
      "source": [
        "feed = {tf_x: X_test_centered}\n",
        "y_pred = sess.run(predictions['clasess'], feed_dict=feed)\n",
        "print(f'test Accuracy: {100*np.sum(y_pred == y_test)/y_test.shape[0]}')"
      ],
      "metadata": {
        "colab": {
          "base_uri": "https://localhost:8080/"
        },
        "id": "Vc4znmWcSdsc",
        "outputId": "274f7ac2-3f5d-45a2-af70-12eb35219af8"
      },
      "execution_count": null,
      "outputs": [
        {
          "output_type": "stream",
          "name": "stdout",
          "text": [
            "test Accuracy: 8.78\n"
          ]
        }
      ]
    },
    {
      "cell_type": "code",
      "source": [
        "# Código anteriro refactorizado para tensorFlow 2.x\n",
        "import tensorflow as tf\n",
        "import numpy as np\n",
        "\n",
        "# Inicializar parámetros\n",
        "n_features = X_train_centered.shape[1]\n",
        "n_clases = 10\n",
        "random_seed = 42\n",
        "np.random.seed(random_seed)\n",
        "\n",
        "# Definir el modelo utilizando la API de Keras\n",
        "model = tf.keras.Sequential([\n",
        "    tf.keras.layers.Dense(units=50, activation='tanh', input_shape=(n_features,)),\n",
        "    tf.keras.layers.Dense(units=50, activation='tanh'),\n",
        "    tf.keras.layers.Dense(units=n_clases, activation=None)\n",
        "])\n",
        "\n",
        "# Compilar el modelo\n",
        "model.compile(optimizer=tf.keras.optimizers.SGD(learning_rate=0.001),\n",
        "              loss=tf.keras.losses.CategoricalCrossentropy(from_logits=True),\n",
        "              metrics=['accuracy'])\n",
        "\n",
        "# Convertir las etiquetas a one-hot encoding\n",
        "y_train_onehot = tf.keras.utils.to_categorical(y_train, num_classes=n_clases)\n",
        "\n",
        "# Entrenar el modelo\n",
        "history = model.fit(X_train_centered, y_train_onehot, epochs=50, batch_size=64, verbose=1)\n",
        "\n",
        "# Evaluar el modelo en el conjunto de prueba\n",
        "y_pred = model.predict(X_test_centered)\n",
        "y_pred_classes = np.argmax(y_pred, axis=1)\n",
        "test_accuracy = np.sum(y_pred_classes == y_test) / y_test.shape[0]\n",
        "\n",
        "print(f'Test Accuracy: {100 * test_accuracy:.2f}%')\n"
      ],
      "metadata": {
        "id": "qZnkkjMITK6m"
      },
      "execution_count": null,
      "outputs": []
    },
    {
      "cell_type": "markdown",
      "source": [
        "# Desarrollar una red multicapa con keras"
      ],
      "metadata": {
        "id": "RpnTOI6wTDCs"
      }
    },
    {
      "cell_type": "markdown",
      "source": [
        "## Keras poseé una Api muy intuitiva y fácil de usar, que nos permite implemetar redes neuronales con solo uas cuantas líneas de código.  "
      ],
      "metadata": {
        "id": "fAEjSDMQTW-E"
      }
    },
    {
      "cell_type": "code",
      "source": [
        "import tensorflow as tf\n",
        "import numpy as np\n",
        "import tensorflow.keras as keras"
      ],
      "metadata": {
        "id": "xD8at8AeUFy2"
      },
      "execution_count": null,
      "outputs": []
    },
    {
      "cell_type": "code",
      "source": [
        "# Establecer disposició aleatoria para tensorflow y numpy.\n",
        "np.random.seed(42)\n",
        "tf.random.set_seed(42)"
      ],
      "metadata": {
        "id": "QG2SoqYaU05Z"
      },
      "execution_count": null,
      "outputs": []
    },
    {
      "cell_type": "markdown",
      "source": [
        "### A continuación necesitamos convertir las etiquetas de clase(enteros del 0 al 9) al formato *one-hot*. Keras proporciona para ello una sencilla herramienta.  "
      ],
      "metadata": {
        "id": "EWofSdqfVKoD"
      }
    },
    {
      "cell_type": "code",
      "source": [
        "y_train_one_hot = keras.utils.to_categorical(y_train)\n",
        "y_test_one_hot = keras.utils.to_categorical(y_test)"
      ],
      "metadata": {
        "id": "7KIfQmCRVkD5"
      },
      "execution_count": null,
      "outputs": []
    },
    {
      "cell_type": "code",
      "source": [
        "# Imprimir las 3 primeras etiquetas.\n",
        "print(f'Primeras 3 etiquetas de entrenamiento: {y_train[:3]}')\n",
        "print(f'Primeras 3 etiquetas de entrenamiento one-hot: {y_train_one_hot[:3]}')"
      ],
      "metadata": {
        "colab": {
          "base_uri": "https://localhost:8080/"
        },
        "id": "2maU_--xVzuv",
        "outputId": "72119f2b-7292-4e26-9738-290fa4d314a0"
      },
      "execution_count": null,
      "outputs": [
        {
          "output_type": "stream",
          "name": "stdout",
          "text": [
            "Primeras 3 etiquetas de entrenamiento: [5 0 4]\n",
            "Primeras 3 etiquetas de entrenamiento one-hot: [[0. 0. 0. 0. 0. 1. 0. 0. 0. 0.]\n",
            " [1. 0. 0. 0. 0. 0. 0. 0. 0. 0.]\n",
            " [0. 0. 0. 0. 1. 0. 0. 0. 0. 0.]]\n"
          ]
        }
      ]
    },
    {
      "cell_type": "markdown",
      "source": [
        "### Ahora vamos a implementar una red neuronal de tres capas; cada una de las primeras dos tendrá 50 unidades ocultas con la función de activaación *tanh* y la última tendrá 10 capas para las etiquetas de clase y utilizará *softmax* para dar la probabilidad de cada clase.  "
      ],
      "metadata": {
        "id": "spQ4DDiRWOBn"
      }
    },
    {
      "cell_type": "code",
      "source": [
        "model = keras.models.Sequential()\n",
        "model.add(keras.layers.Dense(units=50, activation='tanh', input_dim=X_train_centered.shape[1],\n",
        "                             kernel_initializer='glorot_uniform', bias_initializer='zeros'))\n",
        "model.add(keras.layers.Dense(units=50, activation='tanh', input_dim=X_train_centered.shape[1],\n",
        "                             kernel_initializer='glorot_uniform', bias_initializer='zeros'))\n",
        "model.add(keras.layers.Dense(units=y_train_one_hot.shape[1], input_dim=50, kernel_initializer='glorot_uniform', bias_initializer='zeros',\n",
        "                             activation='softmax'))\n",
        "sgd_optimizer = keras.optimizers.SGD(learning_rate=0.001, decay=1e-7, momentum=.9)\n",
        "model.compile(optimizer=sgd_optimizer, loss='categorical_crossentropy')"
      ],
      "metadata": {
        "colab": {
          "base_uri": "https://localhost:8080/"
        },
        "id": "NZLfee5SW2ph",
        "outputId": "65c09ad2-c708-4100-baad-48e652aa660a"
      },
      "execution_count": null,
      "outputs": [
        {
          "output_type": "stream",
          "name": "stderr",
          "text": [
            "/usr/local/lib/python3.10/dist-packages/keras/src/layers/core/dense.py:87: UserWarning: Do not pass an `input_shape`/`input_dim` argument to a layer. When using Sequential models, prefer using an `Input(shape)` object as the first layer in the model instead.\n",
            "  super().__init__(activity_regularizer=activity_regularizer, **kwargs)\n",
            "/usr/local/lib/python3.10/dist-packages/keras/src/optimizers/base_optimizer.py:33: UserWarning: Argument `decay` is no longer supported and will be ignored.\n",
            "  warnings.warn(\n"
          ]
        }
      ]
    },
    {
      "cell_type": "markdown",
      "source": [
        "### Inicializamos un nuevo modelo utilizando la clase *sequential* para implementar una red neuronal prealimentada. En la primera capa tenemos que asegurarnos que el atributo *input_dim* coincide conn el número de características (columnas) en el conjunto de entrenamiento (784 caraterísticas o pixeles en la implementación de la red neuronal).\n",
        "### Además, debemos estar seguros que el número de unidades de salida(units) y de entrada(input_dim) de dos capas consecutivas coinciden.  "
      ],
      "metadata": {
        "id": "kFYCgUJ8Z6GJ"
      }
    },
    {
      "cell_type": "code",
      "source": [
        "history = model.fit(X_train_centered, y_train_one_hot, batch_size=64, epochs=50, verbose=1, validation_split=0.1)"
      ],
      "metadata": {
        "colab": {
          "base_uri": "https://localhost:8080/"
        },
        "id": "eRZTjQqudugX",
        "outputId": "f23e3612-abd7-48c6-c704-64f2e9c2c6de"
      },
      "execution_count": null,
      "outputs": [
        {
          "output_type": "stream",
          "name": "stdout",
          "text": [
            "Epoch 1/50\n",
            "\u001b[1m844/844\u001b[0m \u001b[32m━━━━━━━━━━━━━━━━━━━━\u001b[0m\u001b[37m\u001b[0m \u001b[1m5s\u001b[0m 4ms/step - loss: 1.0973 - val_loss: 0.3526\n",
            "Epoch 2/50\n",
            "\u001b[1m844/844\u001b[0m \u001b[32m━━━━━━━━━━━━━━━━━━━━\u001b[0m\u001b[37m\u001b[0m \u001b[1m3s\u001b[0m 3ms/step - loss: 0.3887 - val_loss: 0.2681\n",
            "Epoch 3/50\n",
            "\u001b[1m844/844\u001b[0m \u001b[32m━━━━━━━━━━━━━━━━━━━━\u001b[0m\u001b[37m\u001b[0m \u001b[1m5s\u001b[0m 3ms/step - loss: 0.3107 - val_loss: 0.2323\n",
            "Epoch 4/50\n",
            "\u001b[1m844/844\u001b[0m \u001b[32m━━━━━━━━━━━━━━━━━━━━\u001b[0m\u001b[37m\u001b[0m \u001b[1m2s\u001b[0m 3ms/step - loss: 0.2714 - val_loss: 0.2105\n",
            "Epoch 5/50\n",
            "\u001b[1m844/844\u001b[0m \u001b[32m━━━━━━━━━━━━━━━━━━━━\u001b[0m\u001b[37m\u001b[0m \u001b[1m3s\u001b[0m 3ms/step - loss: 0.2450 - val_loss: 0.1951\n",
            "Epoch 6/50\n",
            "\u001b[1m844/844\u001b[0m \u001b[32m━━━━━━━━━━━━━━━━━━━━\u001b[0m\u001b[37m\u001b[0m \u001b[1m4s\u001b[0m 3ms/step - loss: 0.2250 - val_loss: 0.1834\n",
            "Epoch 7/50\n",
            "\u001b[1m844/844\u001b[0m \u001b[32m━━━━━━━━━━━━━━━━━━━━\u001b[0m\u001b[37m\u001b[0m \u001b[1m2s\u001b[0m 3ms/step - loss: 0.2090 - val_loss: 0.1739\n",
            "Epoch 8/50\n",
            "\u001b[1m844/844\u001b[0m \u001b[32m━━━━━━━━━━━━━━━━━━━━\u001b[0m\u001b[37m\u001b[0m \u001b[1m3s\u001b[0m 3ms/step - loss: 0.1956 - val_loss: 0.1660\n",
            "Epoch 9/50\n",
            "\u001b[1m844/844\u001b[0m \u001b[32m━━━━━━━━━━━━━━━━━━━━\u001b[0m\u001b[37m\u001b[0m \u001b[1m3s\u001b[0m 3ms/step - loss: 0.1840 - val_loss: 0.1593\n",
            "Epoch 10/50\n",
            "\u001b[1m844/844\u001b[0m \u001b[32m━━━━━━━━━━━━━━━━━━━━\u001b[0m\u001b[37m\u001b[0m \u001b[1m3s\u001b[0m 4ms/step - loss: 0.1737 - val_loss: 0.1535\n",
            "Epoch 11/50\n",
            "\u001b[1m844/844\u001b[0m \u001b[32m━━━━━━━━━━━━━━━━━━━━\u001b[0m\u001b[37m\u001b[0m \u001b[1m4s\u001b[0m 3ms/step - loss: 0.1645 - val_loss: 0.1485\n",
            "Epoch 12/50\n",
            "\u001b[1m844/844\u001b[0m \u001b[32m━━━━━━━━━━━━━━━━━━━━\u001b[0m\u001b[37m\u001b[0m \u001b[1m3s\u001b[0m 3ms/step - loss: 0.1561 - val_loss: 0.1442\n",
            "Epoch 13/50\n",
            "\u001b[1m844/844\u001b[0m \u001b[32m━━━━━━━━━━━━━━━━━━━━\u001b[0m\u001b[37m\u001b[0m \u001b[1m2s\u001b[0m 3ms/step - loss: 0.1485 - val_loss: 0.1403\n",
            "Epoch 14/50\n",
            "\u001b[1m844/844\u001b[0m \u001b[32m━━━━━━━━━━━━━━━━━━━━\u001b[0m\u001b[37m\u001b[0m \u001b[1m4s\u001b[0m 4ms/step - loss: 0.1415 - val_loss: 0.1369\n",
            "Epoch 15/50\n",
            "\u001b[1m844/844\u001b[0m \u001b[32m━━━━━━━━━━━━━━━━━━━━\u001b[0m\u001b[37m\u001b[0m \u001b[1m2s\u001b[0m 3ms/step - loss: 0.1350 - val_loss: 0.1339\n",
            "Epoch 16/50\n",
            "\u001b[1m844/844\u001b[0m \u001b[32m━━━━━━━━━━━━━━━━━━━━\u001b[0m\u001b[37m\u001b[0m \u001b[1m2s\u001b[0m 3ms/step - loss: 0.1290 - val_loss: 0.1313\n",
            "Epoch 17/50\n",
            "\u001b[1m844/844\u001b[0m \u001b[32m━━━━━━━━━━━━━━━━━━━━\u001b[0m\u001b[37m\u001b[0m \u001b[1m3s\u001b[0m 3ms/step - loss: 0.1236 - val_loss: 0.1288\n",
            "Epoch 18/50\n",
            "\u001b[1m844/844\u001b[0m \u001b[32m━━━━━━━━━━━━━━━━━━━━\u001b[0m\u001b[37m\u001b[0m \u001b[1m2s\u001b[0m 3ms/step - loss: 0.1185 - val_loss: 0.1267\n",
            "Epoch 19/50\n",
            "\u001b[1m844/844\u001b[0m \u001b[32m━━━━━━━━━━━━━━━━━━━━\u001b[0m\u001b[37m\u001b[0m \u001b[1m3s\u001b[0m 4ms/step - loss: 0.1138 - val_loss: 0.1247\n",
            "Epoch 20/50\n",
            "\u001b[1m844/844\u001b[0m \u001b[32m━━━━━━━━━━━━━━━━━━━━\u001b[0m\u001b[37m\u001b[0m \u001b[1m3s\u001b[0m 3ms/step - loss: 0.1095 - val_loss: 0.1228\n",
            "Epoch 21/50\n",
            "\u001b[1m844/844\u001b[0m \u001b[32m━━━━━━━━━━━━━━━━━━━━\u001b[0m\u001b[37m\u001b[0m \u001b[1m2s\u001b[0m 3ms/step - loss: 0.1054 - val_loss: 0.1212\n",
            "Epoch 22/50\n",
            "\u001b[1m844/844\u001b[0m \u001b[32m━━━━━━━━━━━━━━━━━━━━\u001b[0m\u001b[37m\u001b[0m \u001b[1m2s\u001b[0m 3ms/step - loss: 0.1017 - val_loss: 0.1196\n",
            "Epoch 23/50\n",
            "\u001b[1m844/844\u001b[0m \u001b[32m━━━━━━━━━━━━━━━━━━━━\u001b[0m\u001b[37m\u001b[0m \u001b[1m2s\u001b[0m 3ms/step - loss: 0.0981 - val_loss: 0.1183\n",
            "Epoch 24/50\n",
            "\u001b[1m844/844\u001b[0m \u001b[32m━━━━━━━━━━━━━━━━━━━━\u001b[0m\u001b[37m\u001b[0m \u001b[1m3s\u001b[0m 3ms/step - loss: 0.0948 - val_loss: 0.1170\n",
            "Epoch 25/50\n",
            "\u001b[1m844/844\u001b[0m \u001b[32m━━━━━━━━━━━━━━━━━━━━\u001b[0m\u001b[37m\u001b[0m \u001b[1m5s\u001b[0m 3ms/step - loss: 0.0916 - val_loss: 0.1158\n",
            "Epoch 26/50\n",
            "\u001b[1m844/844\u001b[0m \u001b[32m━━━━━━━━━━━━━━━━━━━━\u001b[0m\u001b[37m\u001b[0m \u001b[1m2s\u001b[0m 3ms/step - loss: 0.0886 - val_loss: 0.1148\n",
            "Epoch 27/50\n",
            "\u001b[1m844/844\u001b[0m \u001b[32m━━━━━━━━━━━━━━━━━━━━\u001b[0m\u001b[37m\u001b[0m \u001b[1m3s\u001b[0m 3ms/step - loss: 0.0858 - val_loss: 0.1138\n",
            "Epoch 28/50\n",
            "\u001b[1m844/844\u001b[0m \u001b[32m━━━━━━━━━━━━━━━━━━━━\u001b[0m\u001b[37m\u001b[0m \u001b[1m3s\u001b[0m 4ms/step - loss: 0.0831 - val_loss: 0.1130\n",
            "Epoch 29/50\n",
            "\u001b[1m844/844\u001b[0m \u001b[32m━━━━━━━━━━━━━━━━━━━━\u001b[0m\u001b[37m\u001b[0m \u001b[1m3s\u001b[0m 4ms/step - loss: 0.0805 - val_loss: 0.1122\n",
            "Epoch 30/50\n",
            "\u001b[1m844/844\u001b[0m \u001b[32m━━━━━━━━━━━━━━━━━━━━\u001b[0m\u001b[37m\u001b[0m \u001b[1m2s\u001b[0m 3ms/step - loss: 0.0780 - val_loss: 0.1115\n",
            "Epoch 31/50\n",
            "\u001b[1m844/844\u001b[0m \u001b[32m━━━━━━━━━━━━━━━━━━━━\u001b[0m\u001b[37m\u001b[0m \u001b[1m2s\u001b[0m 3ms/step - loss: 0.0757 - val_loss: 0.1110\n",
            "Epoch 32/50\n",
            "\u001b[1m844/844\u001b[0m \u001b[32m━━━━━━━━━━━━━━━━━━━━\u001b[0m\u001b[37m\u001b[0m \u001b[1m2s\u001b[0m 3ms/step - loss: 0.0735 - val_loss: 0.1104\n",
            "Epoch 33/50\n",
            "\u001b[1m844/844\u001b[0m \u001b[32m━━━━━━━━━━━━━━━━━━━━\u001b[0m\u001b[37m\u001b[0m \u001b[1m3s\u001b[0m 3ms/step - loss: 0.0713 - val_loss: 0.1100\n",
            "Epoch 34/50\n",
            "\u001b[1m844/844\u001b[0m \u001b[32m━━━━━━━━━━━━━━━━━━━━\u001b[0m\u001b[37m\u001b[0m \u001b[1m4s\u001b[0m 4ms/step - loss: 0.0693 - val_loss: 0.1096\n",
            "Epoch 35/50\n",
            "\u001b[1m844/844\u001b[0m \u001b[32m━━━━━━━━━━━━━━━━━━━━\u001b[0m\u001b[37m\u001b[0m \u001b[1m4s\u001b[0m 3ms/step - loss: 0.0673 - val_loss: 0.1093\n",
            "Epoch 36/50\n",
            "\u001b[1m844/844\u001b[0m \u001b[32m━━━━━━━━━━━━━━━━━━━━\u001b[0m\u001b[37m\u001b[0m \u001b[1m2s\u001b[0m 3ms/step - loss: 0.0654 - val_loss: 0.1090\n",
            "Epoch 37/50\n",
            "\u001b[1m844/844\u001b[0m \u001b[32m━━━━━━━━━━━━━━━━━━━━\u001b[0m\u001b[37m\u001b[0m \u001b[1m2s\u001b[0m 3ms/step - loss: 0.0636 - val_loss: 0.1088\n",
            "Epoch 38/50\n",
            "\u001b[1m844/844\u001b[0m \u001b[32m━━━━━━━━━━━━━━━━━━━━\u001b[0m\u001b[37m\u001b[0m \u001b[1m3s\u001b[0m 4ms/step - loss: 0.0618 - val_loss: 0.1086\n",
            "Epoch 39/50\n",
            "\u001b[1m844/844\u001b[0m \u001b[32m━━━━━━━━━━━━━━━━━━━━\u001b[0m\u001b[37m\u001b[0m \u001b[1m4s\u001b[0m 3ms/step - loss: 0.0601 - val_loss: 0.1084\n",
            "Epoch 40/50\n",
            "\u001b[1m844/844\u001b[0m \u001b[32m━━━━━━━━━━━━━━━━━━━━\u001b[0m\u001b[37m\u001b[0m \u001b[1m2s\u001b[0m 3ms/step - loss: 0.0584 - val_loss: 0.1083\n",
            "Epoch 41/50\n",
            "\u001b[1m844/844\u001b[0m \u001b[32m━━━━━━━━━━━━━━━━━━━━\u001b[0m\u001b[37m\u001b[0m \u001b[1m2s\u001b[0m 3ms/step - loss: 0.0568 - val_loss: 0.1082\n",
            "Epoch 42/50\n",
            "\u001b[1m844/844\u001b[0m \u001b[32m━━━━━━━━━━━━━━━━━━━━\u001b[0m\u001b[37m\u001b[0m \u001b[1m3s\u001b[0m 3ms/step - loss: 0.0553 - val_loss: 0.1082\n",
            "Epoch 43/50\n",
            "\u001b[1m844/844\u001b[0m \u001b[32m━━━━━━━━━━━━━━━━━━━━\u001b[0m\u001b[37m\u001b[0m \u001b[1m5s\u001b[0m 3ms/step - loss: 0.0538 - val_loss: 0.1081\n",
            "Epoch 44/50\n",
            "\u001b[1m844/844\u001b[0m \u001b[32m━━━━━━━━━━━━━━━━━━━━\u001b[0m\u001b[37m\u001b[0m \u001b[1m2s\u001b[0m 3ms/step - loss: 0.0523 - val_loss: 0.1082\n",
            "Epoch 45/50\n",
            "\u001b[1m844/844\u001b[0m \u001b[32m━━━━━━━━━━━━━━━━━━━━\u001b[0m\u001b[37m\u001b[0m \u001b[1m2s\u001b[0m 3ms/step - loss: 0.0509 - val_loss: 0.1082\n",
            "Epoch 46/50\n",
            "\u001b[1m844/844\u001b[0m \u001b[32m━━━━━━━━━━━━━━━━━━━━\u001b[0m\u001b[37m\u001b[0m \u001b[1m3s\u001b[0m 3ms/step - loss: 0.0496 - val_loss: 0.1083\n",
            "Epoch 47/50\n",
            "\u001b[1m844/844\u001b[0m \u001b[32m━━━━━━━━━━━━━━━━━━━━\u001b[0m\u001b[37m\u001b[0m \u001b[1m5s\u001b[0m 3ms/step - loss: 0.0482 - val_loss: 0.1084\n",
            "Epoch 48/50\n",
            "\u001b[1m844/844\u001b[0m \u001b[32m━━━━━━━━━━━━━━━━━━━━\u001b[0m\u001b[37m\u001b[0m \u001b[1m2s\u001b[0m 3ms/step - loss: 0.0470 - val_loss: 0.1085\n",
            "Epoch 49/50\n",
            "\u001b[1m844/844\u001b[0m \u001b[32m━━━━━━━━━━━━━━━━━━━━\u001b[0m\u001b[37m\u001b[0m \u001b[1m2s\u001b[0m 3ms/step - loss: 0.0457 - val_loss: 0.1086\n",
            "Epoch 50/50\n",
            "\u001b[1m844/844\u001b[0m \u001b[32m━━━━━━━━━━━━━━━━━━━━\u001b[0m\u001b[37m\u001b[0m \u001b[1m3s\u001b[0m 3ms/step - loss: 0.0445 - val_loss: 0.1088\n"
          ]
        }
      ]
    },
    {
      "source": [
        "y_train_pred_probs = model.predict(X_train_centered, verbose=0)  # Get predicted probabilities\n",
        "y_train_pred = np.argmax(y_train_pred_probs, axis=1)  # Convert probabilities to class labels\n",
        "\n",
        "print(f'Primeras tres predicciones del conjunto de entrenamiento: {y_train_pred[:3]}')"
      ],
      "cell_type": "code",
      "metadata": {
        "colab": {
          "base_uri": "https://localhost:8080/"
        },
        "id": "kCIJ4MWMitzG",
        "outputId": "782b3e13-316d-4c5f-c847-758ceea7694a"
      },
      "execution_count": null,
      "outputs": [
        {
          "output_type": "stream",
          "name": "stdout",
          "text": [
            "Primeras tres predicciones del conjunto de entrenamiento: [5 0 4]\n"
          ]
        }
      ]
    },
    {
      "cell_type": "code",
      "source": [
        "correct_preds = np.sum(y_train == y_train_pred, axis=0)\n",
        "train_acc = correct_preds / y_train.shape[0]\n",
        "print(f'Precisión de entrenamiento: {train_acc*100:.2f}%')"
      ],
      "metadata": {
        "colab": {
          "base_uri": "https://localhost:8080/"
        },
        "id": "rn7hVouljR9I",
        "outputId": "2311f51d-cea9-4fbd-dd32-9f10e227912d"
      },
      "execution_count": null,
      "outputs": [
        {
          "output_type": "stream",
          "name": "stdout",
          "text": [
            "Precisión de entrenamiento: 98.93%\n"
          ]
        }
      ]
    },
    {
      "cell_type": "code",
      "source": [
        "y_test_pred = model.predict(X_test_centered, verbose=0)\n",
        "correct_preds = np.sum(y_test == np.argmax(y_test_pred, axis=1), axis=0)\n",
        "test_acc = correct_preds / y_test.shape[0]\n",
        "print(f'Precisión de prueba: {test_acc*100:.2f}%')"
      ],
      "metadata": {
        "colab": {
          "base_uri": "https://localhost:8080/"
        },
        "id": "VF6JHweNjku9",
        "outputId": "32b40814-14b1-4751-8c4d-18a8a24a11d6"
      },
      "execution_count": null,
      "outputs": [
        {
          "output_type": "stream",
          "name": "stdout",
          "text": [
            "Precisión de prueba: 96.04%\n"
          ]
        }
      ]
    }
  ]
}