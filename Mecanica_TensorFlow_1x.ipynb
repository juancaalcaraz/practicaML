{
  "nbformat": 4,
  "nbformat_minor": 0,
  "metadata": {
    "colab": {
      "provenance": [],
      "authorship_tag": "ABX9TyPbqJ/Aqxc8lEU/i1Qr2JCH",
      "include_colab_link": true
    },
    "kernelspec": {
      "name": "python3",
      "display_name": "Python 3"
    },
    "language_info": {
      "name": "python"
    }
  },
  "cells": [
    {
      "cell_type": "markdown",
      "metadata": {
        "id": "view-in-github",
        "colab_type": "text"
      },
      "source": [
        "<a href=\"https://colab.research.google.com/github/juancaalcaraz/practicaML/blob/main/Mecanica_TensorFlow_1x.ipynb\" target=\"_parent\"><img src=\"https://colab.research.google.com/assets/colab-badge.svg\" alt=\"Open In Colab\"/></a>"
      ]
    },
    {
      "cell_type": "markdown",
      "source": [
        "# Cómo obtener la dimensión y la forma de un tensor\n",
        "## Podemos utilizar la función *tf.rank* para obtener la dimensión de un tensor. tf.rank devolverá  un tensor como salida y para obtener el valor real debemos evaluar dicho tensor.\n",
        "## A demás podemos obtener la forma de un tensor, suponiendo que X es un tensor, mediante X.get_shape() que nos devolverá un objeto especial denominado *tensorshape*. Este objeto no se puede indexar ni dividir directamente, debemos convertirlo en una lista de Python mediante el método *as_list*      "
      ],
      "metadata": {
        "id": "Bq2ROWHNlVdt"
      }
    },
    {
      "cell_type": "code",
      "execution_count": null,
      "metadata": {
        "colab": {
          "base_uri": "https://localhost:8080/"
        },
        "id": "or3YzSzHgwOr",
        "outputId": "5e39d266-5877-4bd8-ebd2-8039944f3510"
      },
      "outputs": [
        {
          "output_type": "stream",
          "name": "stdout",
          "text": [
            "Shapes:  () (4,) (2, 2)\n",
            "Rank:  0 1 2\n"
          ]
        }
      ],
      "source": [
        "import tensorflow as tf\n",
        "import numpy as np\n",
        "\n",
        "g = tf.Graph()\n",
        "\n",
        "## Definir el gráfico de cálculo.\n",
        "with tf.compat.v1.Graph().as_default() as g:\n",
        "  ## Definir tensores\n",
        "  t1 = tf.constant(np.pi)\n",
        "  tf2 = tf.constant([1, 2, 3, 4])\n",
        "  tf3 = tf.constant([[1,2], [3,4]])\n",
        "  ## Obtener sus dimensiones.\n",
        "  rank_t1 = tf.rank(t1)\n",
        "  rank_t2 = tf.rank(tf2)\n",
        "  rank_t3 = tf.rank(tf3)\n",
        "\n",
        "  ## obtener sus formas\n",
        "  s1 = t1.get_shape()\n",
        "  s2 = tf2.get_shape()\n",
        "  s3 = tf3.get_shape()\n",
        "  print('Shapes: ', s1, s2, s3)\n",
        "\n",
        "with tf.compat.v1.Session(graph=g):\n",
        "  print('Rank: ', rank_t1.eval(), rank_t2.eval(), rank_t3.eval())\n"
      ]
    },
    {
      "cell_type": "markdown",
      "source": [
        "## Definir marcadores de posición en tensorflow 1.x"
      ],
      "metadata": {
        "id": "wVRXB9TyLAXX"
      }
    },
    {
      "cell_type": "code",
      "source": [
        "import tensorflow as tf\n",
        "\n",
        "g = tf.Graph()\n",
        "\n",
        "with tf.compat.v1.Graph().as_default() as g:\n",
        "  tf_a = tf.compat.v1.placeholder(tf.int32, shape=[], name='tf_a')\n",
        "  tf_b = tf.compat.v1.placeholder(tf.int32, shape=[], name='tf_b')\n",
        "  tf_c = tf.compat.v1.placeholder(tf.int32, shape=[], name='tf_c')\n",
        "  r1 = tf_a-tf_b\n",
        "  r2 = 2*r1\n",
        "  z = r2 + tf_c\n",
        "  # En este código hemos definido 3 marcadores de posición.\n",
        "  # In this code we have defined 3 placeholders.\n"
      ],
      "metadata": {
        "id": "cPIMtMp5Z_qJ"
      },
      "execution_count": null,
      "outputs": []
    },
    {
      "cell_type": "markdown",
      "source": [
        "## Alimentar marcadores de posición con datos.\n",
        "## Cuando ejecutamos un nodo en el grafo, necesitamos crear un diccionario Python para alimentar los valores de los marcadores de posición con matrices de datos. este diccionario se pasa como argumento de entrda *feed_dict* a un método *run* de sesión.   "
      ],
      "metadata": {
        "id": "U6jVugo-cnyh"
      }
    },
    {
      "cell_type": "code",
      "source": [
        "with tf.compat.v1.Session(graph=g) as sess:\n",
        "  feed = {tf_a: 1, tf_b : 2, tf_c: 3}\n",
        "  print('z: ', sess.run(z, feed_dict=feed))"
      ],
      "metadata": {
        "colab": {
          "base_uri": "https://localhost:8080/"
        },
        "id": "HZ0Z3Sqadu_A",
        "outputId": "6d425f7c-4894-4900-987f-d2b74f318704"
      },
      "execution_count": null,
      "outputs": [
        {
          "output_type": "stream",
          "name": "stdout",
          "text": [
            "z:  1\n"
          ]
        }
      ]
    },
    {
      "cell_type": "markdown",
      "source": [
        "### Tener matrices extras para los marcadores de posició no causa ningún error. Sin embargo, si necesita un marcador de posición para le ejecución de un nodo y este no se proporciona, se producirá un error en tiempo de ejecución.  "
      ],
      "metadata": {
        "id": "Gr6KRhUAelH6"
      }
    },
    {
      "cell_type": "markdown",
      "source": [
        "# Definir marcadores de posición para matrices de datos con diferentes tamaño de lote."
      ],
      "metadata": {
        "id": "Xyg8K_M1fJIH"
      }
    },
    {
      "cell_type": "code",
      "source": [
        "import tensorflow as tf\n",
        "\n",
        "g = tf.Graph()\n",
        "\n",
        "with tf.compat.v1.Graph().as_default() as g:\n",
        "  tf_x = tf.compat.v1.placeholder(tf.float32, shape=[None, 2], name='tf_x')\n",
        "  x_mean = tf.reduce_mean(tf_x, axis=0, name='mean')\n"
      ],
      "metadata": {
        "id": "eoGjjD_AfZFZ"
      },
      "execution_count": null,
      "outputs": []
    },
    {
      "cell_type": "markdown",
      "source": [
        "### Ahora podemos evaluar *x_mean* con entradas distintas para *x1* y *x2*"
      ],
      "metadata": {
        "id": "Vy9d-NzDgNWy"
      }
    },
    {
      "cell_type": "code",
      "source": [
        "import numpy as np\n",
        "np.random.seed(42)\n",
        "np.set_printoptions(precision=2)\n",
        "\n",
        "with tf.compat.v1.Session(graph=g) as sess:\n",
        "  x1 = np.random.uniform(low=0, high=1, size=(5,2))\n",
        "  print('alimentación de datos con forma : ', x1.shape)\n",
        "  print('resultado: ', sess.run(x_mean, feed_dict={tf_x: x1}))\n",
        "  x2 = np.random.uniform(low=0, high=1, size=(10,2))\n",
        "  print('alimentación de datos con forma : ', x2.shape)\n",
        "  print('resultado: ', sess.run(x_mean, feed_dict={tf_x: x2}))"
      ],
      "metadata": {
        "colab": {
          "base_uri": "https://localhost:8080/"
        },
        "id": "pqppRUrYgdNL",
        "outputId": "e73d8896-0569-4d2c-c2e3-caa131fbfa5b"
      },
      "execution_count": null,
      "outputs": [
        {
          "output_type": "stream",
          "name": "stdout",
          "text": [
            "alimentación de datos con forma :  (5, 2)\n",
            "resultado:  [0.38 0.66]\n",
            "alimentación de datos con forma :  (10, 2)\n",
            "resultado:  [0.39 0.4 ]\n"
          ]
        }
      ]
    },
    {
      "cell_type": "markdown",
      "source": [
        "# Variables en TensorFlow 1.x"
      ],
      "metadata": {
        "id": "1OivVKYiiwPr"
      }
    },
    {
      "cell_type": "markdown",
      "source": [
        "## Definir variables\n",
        "## La variables en tensorFlow almacenan los parámetros de un modelo que puede ser actualizado durante el entrenamiento.\n",
        "### tf.get_variable ya no se utiliza en TensorFlow 2.x"
      ],
      "metadata": {
        "id": "IOXdfYQyj6_Y"
      }
    },
    {
      "cell_type": "code",
      "source": [
        "import tensorflow as tf\n",
        "import numpy as np\n",
        "\n",
        "g1 = tf.Graph()\n",
        "with tf.compat.v1.Graph().as_default() as g1:\n",
        "  w = tf.Variable(np.array([[1,2,3,4],[5,6,7,8]]), name='w')\n",
        "  print(w)"
      ],
      "metadata": {
        "colab": {
          "base_uri": "https://localhost:8080/"
        },
        "id": "xtxNzRd2lVAO",
        "outputId": "6961cbd2-896a-430b-c48f-f76031720459"
      },
      "execution_count": null,
      "outputs": [
        {
          "output_type": "stream",
          "name": "stdout",
          "text": [
            "<tf.Variable 'w:0' shape=(2, 4) dtype=int64>\n"
          ]
        }
      ]
    },
    {
      "cell_type": "markdown",
      "source": [
        "## Inicializar variables en TensorFlow 1.x\n",
        "## El proceso de inicialización se refiere a la asignación de memoría para los tensores asociados y la asignacion de sus valores asociados. En tensorFlow 2.x no es necesario."
      ],
      "metadata": {
        "id": "ViJ8FD0imtjN"
      }
    },
    {
      "cell_type": "code",
      "source": [
        "with tf.compat.v1.Session(graph=g1) as sess:\n",
        "  sess.run(tf.compat.v1.global_variables_initializer())\n",
        "  print(sess.run(w))"
      ],
      "metadata": {
        "colab": {
          "base_uri": "https://localhost:8080/"
        },
        "id": "ETmVF_TxnIau",
        "outputId": "e16c616f-8add-4461-dc93-00b747bee7b4"
      },
      "execution_count": null,
      "outputs": [
        {
          "output_type": "stream",
          "name": "stdout",
          "text": [
            "[[1 2 3 4]\n",
            " [5 6 7 8]]\n"
          ]
        }
      ]
    },
    {
      "cell_type": "markdown",
      "source": [
        "## Inicializar varias variables al mismo tiempo"
      ],
      "metadata": {
        "id": "nQEnW6pRnprt"
      }
    },
    {
      "cell_type": "code",
      "source": [
        "g2 = tf.Graph()\n",
        "with tf.compat.v1.Graph().as_default() as g2:\n",
        "  w1 = tf.Variable(1, name='w1')\n",
        "  w2 = tf.Variable(2, name='w2')\n",
        "  init_op = tf.compat.v1.global_variables_initializer()\n",
        "  print(w1)\n",
        "  print(w2)"
      ],
      "metadata": {
        "colab": {
          "base_uri": "https://localhost:8080/"
        },
        "id": "7DCvkF_SntvA",
        "outputId": "3201c7f3-feb7-4b64-9ede-9b86dbe46bb9"
      },
      "execution_count": null,
      "outputs": [
        {
          "output_type": "stream",
          "name": "stdout",
          "text": [
            "<tf.Variable 'w1:0' shape=() dtype=int32>\n",
            "<tf.Variable 'w2:0' shape=() dtype=int32>\n"
          ]
        }
      ]
    },
    {
      "cell_type": "code",
      "source": [
        "with tf.compat.v1.Session(graph=g2) as sess:\n",
        "  sess.run(init_op)\n",
        "  print('w1: ', sess.run(w1))\n",
        "  print('w2: ', sess.run(w2))"
      ],
      "metadata": {
        "colab": {
          "base_uri": "https://localhost:8080/"
        },
        "id": "pES_lbdboHBL",
        "outputId": "6a6e28ee-c0c1-4022-e37a-f57b759de1c2"
      },
      "execution_count": null,
      "outputs": [
        {
          "output_type": "stream",
          "name": "stdout",
          "text": [
            "w1:  1\n",
            "w2:  2\n"
          ]
        }
      ]
    },
    {
      "cell_type": "markdown",
      "source": [
        "## Alcance de variables"
      ],
      "metadata": {
        "id": "n7vfLwM6pQNN"
      }
    },
    {
      "cell_type": "code",
      "source": [
        "g = tf.Graph()\n",
        "\n",
        "with tf.compat.v1.Graph().as_default() as g:\n",
        "  with tf.compat.v1.variable_scope('Net-A'):\n",
        "    with tf.compat.v1.variable_scope('Layer-1'):\n",
        "      w1 = tf.Variable(tf.compat.v1.random_normal(shape=(10,4)), name='weights')\n",
        "    with tf.compat.v1.variable_scope('Layer-2'):\n",
        "      w2 = tf.Variable(tf.compat.v1.random_normal(shape=(20,10)), name='weights')\n",
        "  with tf.compat.v1.variable_scope('Net-B'):\n",
        "    with tf.compat.v1.variable_scope('Layer-1'):\n",
        "      w3 = tf.Variable(tf.compat.v1.random_normal(shape=(10,4)), name='weights')\n",
        "\n",
        "  print(w1)\n",
        "  print(w2)\n",
        "  print(w3)"
      ],
      "metadata": {
        "colab": {
          "base_uri": "https://localhost:8080/"
        },
        "id": "xYy4vhNQpTlK",
        "outputId": "8ae4edd2-41de-4d45-dda2-e6aef26e0891"
      },
      "execution_count": null,
      "outputs": [
        {
          "output_type": "stream",
          "name": "stdout",
          "text": [
            "<tf.Variable 'Net-A/Layer-1/weights:0' shape=(10, 4) dtype=float32>\n",
            "<tf.Variable 'Net-A/Layer-2/weights:0' shape=(20, 10) dtype=float32>\n",
            "<tf.Variable 'Net-B/Layer-1/weights:0' shape=(10, 4) dtype=float32>\n"
          ]
        }
      ]
    },
    {
      "cell_type": "markdown",
      "source": [
        "## Alcance de variables en TensorFlow 2.x"
      ],
      "metadata": {
        "id": "vqmUwAgwr6zN"
      }
    },
    {
      "cell_type": "code",
      "source": [
        "import tensorflow as tf\n",
        "\n",
        "class SimpleModule(tf.Module):\n",
        "    def __init__(self, name=None):\n",
        "        super().__init__(name=name)\n",
        "        # Define una variable dentro del alcance de este módulo\n",
        "        self.weight = tf.Variable(2.0, name=\"weight\")\n",
        "\n",
        "    def __call__(self, x):\n",
        "        return self.weight * x\n",
        "\n",
        "# Crear una instancia de SimpleModule\n",
        "module = SimpleModule()\n",
        "\n",
        "# Ejecutar el módulo\n",
        "output = module(3.0)\n",
        "print(output)  # Devuelve 6.0 (2.0 * 3.0)\n",
        "\n",
        "# Inspeccionar el nombre completo de la variable\n",
        "print(module.weight.name)  # 'simple_module/weight:0'\n"
      ],
      "metadata": {
        "colab": {
          "base_uri": "https://localhost:8080/"
        },
        "id": "V3tGuB_Xr-y0",
        "outputId": "c7e8d91d-094a-49de-e562-109e602f3924"
      },
      "execution_count": null,
      "outputs": [
        {
          "output_type": "stream",
          "name": "stdout",
          "text": [
            "tf.Tensor(6.0, shape=(), dtype=float32)\n",
            "weight:0\n"
          ]
        }
      ]
    },
    {
      "cell_type": "markdown",
      "source": [
        "## Reutilizar variables\n",
        "### En el siguiente ejemplo suponemos que los datos de la fuente A se proporcionan mediante marcadores de posición y que la fuente B es la salida de una red de generadores. Construiremos la red de generadores llamando a la función *build_generator* dentro del alcance *generator* y añadiremos un clasificador llamando a la función *build_classifier* dentro del alcance *classifier*:  "
      ],
      "metadata": {
        "id": "85KO5_tVYMKg"
      }
    },
    {
      "cell_type": "code",
      "source": [
        "import tensorflow as tf\n",
        "########################\n",
        "##  funciones de ayuda  ##\n",
        "#######################\n",
        "\n",
        "def build_classifier(data, labels, n_clases=2, ):\n",
        "  data_shape = data.get_shape().as_list()\n",
        "  #weights = tf.Variable(name='weights', shape=(data_shape[1], n_clases), dtype=tf.float32)\n",
        "  weights = tf.Variable(tf.random.normal(shape=(data_shape[1], n_clases)), name='weights', dtype=tf.float32)\n",
        "  #bias = tf.Variable(name='bias', initializer=tf.zeros(shape=[n_clases]))\n",
        "  bias = tf.Variable(tf.zeros(shape=[n_clases]), name='bias', dtype=tf.float32)\n",
        "  logits = tf.add(tf.matmul(data, weights), bias, name='logits')\n",
        "  return logits, tf.nn.softmax(logits)"
      ],
      "metadata": {
        "id": "zpPxN7ArZrDE"
      },
      "execution_count": null,
      "outputs": []
    },
    {
      "cell_type": "code",
      "source": [
        "def build_generator(data, n_hidden):\n",
        "  data_shape = data.get_shape().as_list()\n",
        "  w1 = tf.Variable(tf.random.normal(shape=(data_shape[1], n_hidden)), name='w1')\n",
        "  b1 = tf.Variable(tf.zeros(shape=n_hidden), name='b1')\n",
        "  hidden = tf.add(tf.matmul(data, w1), b1, name='hidden_preactivation')\n",
        "  hidden = tf.nn.relu(hidden, name='hidden_activation')\n",
        "  w2 = tf.Variable(tf.random.normal(shape=(n_hidden, data_shape[1])), name='w2')\n",
        "  b2 = tf.Variable(tf.zeros(shape=data_shape[1]), name='b2')\n",
        "  output = tf.add(tf.matmul(hidden, w2), b2, name='output')\n",
        "  return output, tf.nn.sigmoid(output)"
      ],
      "metadata": {
        "id": "iJYubLChb_3D"
      },
      "execution_count": null,
      "outputs": []
    },
    {
      "cell_type": "code",
      "source": [
        "#######################\n",
        "## Crear el gráfico ###\n",
        "#######################\n",
        "batch_size = 64\n",
        "g = tf.Graph()\n",
        "with tf.compat.v1.Graph().as_default() as g:\n",
        "  tf_X = tf.compat.v1.placeholder(shape=(batch_size, 100), dtype=tf.float32, name='tf_X')\n",
        "  ## Crear el generador\n",
        "  with tf.compat.v1.variable_scope('generator'):\n",
        "    gen_out1 = build_generator(tf_X, n_hidden=256)\n",
        "  ## Crear el clasificador\n",
        "  with tf.compat.v1.variable_scope('classifier'):\n",
        "    cls_out1 = build_classifier(data=tf_X, labels=tf.ones(shape=batch_size))\n",
        "    # reutilizar el clasificador para datos generados.\n",
        "    #tf.compat.v1.scope.reuse_variables()\n",
        "    tf.compat.v1.get_variable_scope().reuse_variables()\n",
        "    cls_out2 = build_classifier(data=gen_out1[1], labels=tf.zeros(shape=batch_size))\n",
        "\n"
      ],
      "metadata": {
        "id": "nyjGnZE5eMxB"
      },
      "execution_count": null,
      "outputs": []
    },
    {
      "cell_type": "code",
      "source": [
        "\"\"\"\"\n",
        "import tensorflow as tf\n",
        "\n",
        "########################\n",
        "##  funciones de ayuda  ##\n",
        "#######################\n",
        "\n",
        "def build_classifier(data, labels, n_clases=2):\n",
        "    data_shape = data.get_shape().as_list()\n",
        "    weights = tf.Variable(tf.random.normal(shape=(data_shape[1], n_clases)), name='weights', dtype=tf.float32)\n",
        "    bias = tf.Variable(tf.zeros(shape=[n_clases]), name='bias', dtype=tf.float32)\n",
        "    logits = tf.add(tf.matmul(data, weights), bias, name='logits')\n",
        "    return logits, tf.nn.softmax(logits)\n",
        "\n",
        "def build_generator(data, n_hidden):\n",
        "    data_shape = data.get_shape().as_list()\n",
        "    w1 = tf.Variable(tf.random.normal(shape=(data_shape[1], n_hidden)), name='w1')\n",
        "    b1 = tf.Variable(tf.zeros(shape=[n_hidden]), name='b1')\n",
        "    hidden = tf.add(tf.matmul(data, w1), b1, name='hidden_preactivation')\n",
        "    hidden = tf.nn.relu(hidden, name='hidden_activation')\n",
        "    w2 = tf.Variable(tf.random.normal(shape=(n_hidden, data_shape[1])), name='w2')\n",
        "    b2 = tf.Variable(tf.zeros(shape=[data_shape[1]]), name='b2')\n",
        "    output = tf.add(tf.matmul(hidden, w2), b2, name='output')\n",
        "    return output, tf.nn.sigmoid(output)\n",
        "\n",
        "g = tf.Graph()\n",
        "with g.as_default():\n",
        "    tf_X = tf.compat.v1.placeholder(shape=(batch_size, 100), dtype=tf.float32, name='tf_X')\n",
        "    ## Crear el generador\n",
        "    with tf.compat.v1.variable_scope('generator'):\n",
        "        gen_out1 = build_generator(tf_X, n_hidden=256)\n",
        "    ## Crear el clasificador\n",
        "    with tf.compat.v1.variable_scope('classifier'):\n",
        "        cls_out1 = build_classifier(data=tf_X, labels=tf.ones(shape=[batch_size]))\n",
        "        # reutilizar el clasificador para datos generados.\n",
        "        tf.compat.v1.get_variable_scope().reuse_variables()\n",
        "        cls_out2 = build_classifier(data=gen_out1[1], labels=tf.zeros(shape=[batch_size]))\n",
        "\"\"\""
      ],
      "metadata": {
        "id": "_YG7MWbhj47H"
      },
      "execution_count": null,
      "outputs": []
    },
    {
      "cell_type": "markdown",
      "source": [
        "### Hemos llamado la función *build_casiffier* dos veces. La primera llamada produce la creación de la red. Después llamamos a *get_variable_scope().reuse_variables()* y llamamos  de nuevo a esta función. Como resultado la segunda llamada reutiliza las variables."
      ],
      "metadata": {
        "id": "zLQfKH21zsA-"
      }
    },
    {
      "cell_type": "markdown",
      "source": [
        "# Crear un modelo de regresión\n",
        "## Como ya hemos explorado marcadores de posición y variables, vamos a construir un modelo de ejemplo para el análisis de regresión.\n",
        "### Vamos a definir a nuestros tensores codificandolos  de la siguiente manrea:\n",
        "1. Entrada *x* : *tf_x* definido como marcador de posición.\n",
        "2. Entrada *y* : *tf_y* definido como marcador de posición.\n",
        "3. parámetro *w* del modelo : *weigth* definido como variable.\n",
        "4. parámetro *b* del modelo : *bias* definido como variable.\n",
        "5. parámetro y^ del modelo : *y_hat* devuelto por las operaciones de TensorFlow para calcular la predicción mediante el modelo de regresión."
      ],
      "metadata": {
        "id": "2E_28S4R0mtK"
      }
    },
    {
      "cell_type": "code",
      "source": [
        "import tensorflow as tf\n",
        "import numpy as np\n",
        "\n",
        "g = tf.Graph()\n",
        "\n",
        "with tf.compat.v1.Graph().as_default() as g:\n",
        "  tf.random.set_seed(123)\n",
        "  ## Texto por defecto\n",
        "  tf_x = tf.compat.v1.placeholder(shape=(None), dtype=tf.float32, name='tf_x')\n",
        "  tf_y = tf.compat.v1.placeholder(shape=(None), dtype=tf.float32, name='tf_y')\n",
        "\n",
        "  # definir la variable (parámetros del modelo)\n",
        "  weight = tf.Variable(tf.random.normal(shape=(1, 1), stddev=0.25), name='weight')\n",
        "  bias = tf.Variable(0.0, name='bias')\n",
        "  # crear el modelo\n",
        "  y_hat = tf.add(weight * tf_x, bias, name='y_hat')\n",
        "\n",
        "  # Calcular el coste\n",
        "  cost = tf.reduce_mean(tf.square(tf_y - y_hat), name='cost')\n",
        "\n",
        "  # Entrenar el modelo\n",
        "  optim = tf.compat.v1.train.GradientDescentOptimizer(learning_rate=0.001)\n",
        "  train_op = optim.minimize(cost, name='train_op')\n"
      ],
      "metadata": {
        "id": "YjhVE9IIry1p"
      },
      "execution_count": null,
      "outputs": []
    },
    {
      "cell_type": "code",
      "source": [
        "# Crear un conjunto de datos aleatorios para la regresión.\n",
        "import matplotlib.pyplot as plt\n",
        "np.random.seed(42)\n",
        "\n",
        "def make_random_data():\n",
        "  x = np.random.uniform(low=-2, high=4, size=200)\n",
        "  y = []\n",
        "  for t in x:\n",
        "    r = np.random.normal(loc=0.0, scale=(0.5 + t*t/3.0), size=None)\n",
        "    y.append(r)\n",
        "  return x, 1.726*x - 0.84 + np.array(y)\n",
        "\n",
        "x_data, y_data = make_random_data()\n",
        "\n",
        "plt.plot(x_data, y_data, 'o')\n",
        "plt.show"
      ],
      "metadata": {
        "colab": {
          "base_uri": "https://localhost:8080/",
          "height": 600
        },
        "id": "lpNXNI1nJwTl",
        "outputId": "d26d06d8-9a21-48c2-c083-24996978148e"
      },
      "execution_count": null,
      "outputs": [
        {
          "output_type": "execute_result",
          "data": {
            "text/plain": [
              "<function matplotlib.pyplot.show(close=None, block=None)>"
            ],
            "text/html": [
              "<div style=\"max-width:800px; border: 1px solid var(--colab-border-color);\"><style>\n",
              "      pre.function-repr-contents {\n",
              "        overflow-x: auto;\n",
              "        padding: 8px 12px;\n",
              "        max-height: 500px;\n",
              "      }\n",
              "\n",
              "      pre.function-repr-contents.function-repr-contents-collapsed {\n",
              "        cursor: pointer;\n",
              "        max-height: 100px;\n",
              "      }\n",
              "    </style>\n",
              "    <pre style=\"white-space: initial; background:\n",
              "         var(--colab-secondary-surface-color); padding: 8px 12px;\n",
              "         border-bottom: 1px solid var(--colab-border-color);\"><b>matplotlib.pyplot.show</b><br/>def show(*args, **kwargs)</pre><pre class=\"function-repr-contents function-repr-contents-collapsed\" style=\"\"><a class=\"filepath\" style=\"display:none\" href=\"#\">/usr/local/lib/python3.10/dist-packages/matplotlib/pyplot.py</a>Display all open figures.\n",
              "\n",
              "Parameters\n",
              "----------\n",
              "block : bool, optional\n",
              "    Whether to wait for all figures to be closed before returning.\n",
              "\n",
              "    If `True` block and run the GUI main loop until all figure windows\n",
              "    are closed.\n",
              "\n",
              "    If `False` ensure that all figure windows are displayed and return\n",
              "    immediately.  In this case, you are responsible for ensuring\n",
              "    that the event loop is running to have responsive figures.\n",
              "\n",
              "    Defaults to True in non-interactive mode and to False in interactive\n",
              "    mode (see `.pyplot.isinteractive`).\n",
              "\n",
              "See Also\n",
              "--------\n",
              "ion : Enable interactive mode, which shows / updates the figure after\n",
              "      every plotting command, so that calling ``show()`` is not necessary.\n",
              "ioff : Disable interactive mode.\n",
              "savefig : Save the figure to an image file instead of showing it on screen.\n",
              "\n",
              "Notes\n",
              "-----\n",
              "**Saving figures to file and showing a window at the same time**\n",
              "\n",
              "If you want an image file as well as a user interface window, use\n",
              "`.pyplot.savefig` before `.pyplot.show`. At the end of (a blocking)\n",
              "``show()`` the figure is closed and thus unregistered from pyplot. Calling\n",
              "`.pyplot.savefig` afterwards would save a new and thus empty figure. This\n",
              "limitation of command order does not apply if the show is non-blocking or\n",
              "if you keep a reference to the figure and use `.Figure.savefig`.\n",
              "\n",
              "**Auto-show in jupyter notebooks**\n",
              "\n",
              "The jupyter backends (activated via ``%matplotlib inline``,\n",
              "``%matplotlib notebook``, or ``%matplotlib widget``), call ``show()`` at\n",
              "the end of every cell by default. Thus, you usually don&#x27;t have to call it\n",
              "explicitly there.</pre>\n",
              "      <script>\n",
              "      if (google.colab.kernel.accessAllowed && google.colab.files && google.colab.files.view) {\n",
              "        for (const element of document.querySelectorAll('.filepath')) {\n",
              "          element.style.display = 'block'\n",
              "          element.onclick = (event) => {\n",
              "            event.preventDefault();\n",
              "            event.stopPropagation();\n",
              "            google.colab.files.view(element.textContent, 401);\n",
              "          };\n",
              "        }\n",
              "      }\n",
              "      for (const element of document.querySelectorAll('.function-repr-contents')) {\n",
              "        element.onclick = (event) => {\n",
              "          event.preventDefault();\n",
              "          event.stopPropagation();\n",
              "          element.classList.toggle('function-repr-contents-collapsed');\n",
              "        };\n",
              "      }\n",
              "      </script>\n",
              "      </div>"
            ]
          },
          "metadata": {},
          "execution_count": 6
        },
        {
          "output_type": "display_data",
          "data": {
            "text/plain": [
              "<Figure size 640x480 with 1 Axes>"
            ],
            "image/png": "[encoded data removed]"
          },
          "metadata": {}
        }
      ]
    },
    {
      "cell_type": "code",
      "source": [
        "## Divisiones de entrenamiento y prueba\n",
        "x_train, y_train = x_data[:100], y_data[:100]\n",
        "x_test, y_test = x_data[100:], y_data[100:]\n",
        "\n",
        "n_epoch = 500\n",
        "training_cost = []\n",
        "with tf.compat.v1.Session(graph=g) as sess:\n",
        "  sess.run(tf.compat.v1.global_variables_initializer())\n",
        "  ## entrenar el modelo.\n",
        "  for e in range(n_epoch) :\n",
        "    c, _ = sess.run([cost, train_op], feed_dict={tf_x: x_train, tf_y: y_train})\n",
        "    training_cost.append(c)\n",
        "    if not e % 50:\n",
        "      print('Epoch: %4d, cost=%.4f' % (e, c))"
      ],
      "metadata": {
        "colab": {
          "base_uri": "https://localhost:8080/"
        },
        "id": "agjRULQ-L_Ep",
        "outputId": "290bb3e3-4cf1-413c-c0ed-8aa9fe535957"
      },
      "execution_count": null,
      "outputs": [
        {
          "output_type": "stream",
          "name": "stdout",
          "text": [
            "Epoch:    0, cost=13.3626\n",
            "Epoch:   50, cost=8.7108\n",
            "Epoch:  100, cost=6.5913\n",
            "Epoch:  150, cost=5.6031\n",
            "Epoch:  200, cost=5.1234\n",
            "Epoch:  250, cost=4.8753\n",
            "Epoch:  300, cost=4.7349\n",
            "Epoch:  350, cost=4.6467\n",
            "Epoch:  400, cost=4.5854\n",
            "Epoch:  450, cost=4.5392\n"
          ]
        }
      ]
    },
    {
      "cell_type": "code",
      "source": [
        "plt.plot(training_cost)\n",
        "plt.ylabel('Coste')\n",
        "plt.xlabel('Epoch')\n",
        "plt.show()"
      ],
      "metadata": {
        "colab": {
          "base_uri": "https://localhost:8080/",
          "height": 449
        },
        "id": "xdR5pRnXNy3g",
        "outputId": "c494e85d-b24c-4260-84e4-a1aadf9bbb25"
      },
      "execution_count": null,
      "outputs": [
        {
          "output_type": "display_data",
          "data": {
            "text/plain": [
              "<Figure size 640x480 with 1 Axes>"
            ],
            "image/png": "[encoded data removed]"
          },
          "metadata": {}
        }
      ]
    },
    {
      "cell_type": "markdown",
      "source": [
        "## Transformar tensores como matrices multidimensionales."
      ],
      "metadata": {
        "id": "sc_psjzrZWH3"
      }
    },
    {
      "cell_type": "code",
      "source": [
        "import tensorflow as tf\n",
        "import numpy as np\n",
        "\n",
        "g = tf.Graph()\n",
        "#with tf.compat.v1.Graph().as_default():\n",
        "with g.as_default():\n",
        "  arr = np.array([[1.,2.,3.,3.5],[4., 5., 6., 6.5], [7., 8., 9., 9.5]])\n",
        "  T1 = tf.constant(arr, name='T1')\n",
        "  print(T1)\n",
        "  # Obtener la forma del Tensor\n",
        "  s = T1.get_shape()\n",
        "  print(f'La forma de T1 es {s}')\n",
        "  T2 = tf.Variable(tf.random.normal(shape=s))\n",
        "  print(T2)\n",
        "  T3 = tf.Variable(tf.random.normal(shape=(s.as_list()[0], )))\n",
        "  print(T3)"
      ],
      "metadata": {
        "colab": {
          "base_uri": "https://localhost:8080/"
        },
        "id": "sz7QUWDuZ0aw",
        "outputId": "1d8d9470-896d-470d-edf2-1ebfab8e52c4"
      },
      "execution_count": 7,
      "outputs": [
        {
          "output_type": "stream",
          "name": "stdout",
          "text": [
            "Tensor(\"T1:0\", shape=(3, 4), dtype=float64)\n",
            "La forma de T1 es (3, 4)\n",
            "<tf.Variable 'Variable:0' shape=(3, 4) dtype=float32>\n",
            "<tf.Variable 'Variable_1:0' shape=(3,) dtype=float32>\n"
          ]
        }
      ]
    },
    {
      "cell_type": "markdown",
      "source": [
        "## Ahora vamos a remodelar un tensor con la función *tf.reshape*"
      ],
      "metadata": {
        "id": "zmxQi53Lb6MR"
      }
    },
    {
      "cell_type": "code",
      "source": [
        "with tf.compat.v1.Graph().as_default():\n",
        "  T4 = tf.reshape(T1, shape=[1, 1, -1], name='T4')\n",
        "  print(T4)\n",
        "  T5 = tf.reshape(T1, shape=[1, 3, -1], name='T5')\n",
        "  print(T5)"
      ],
      "metadata": {
        "colab": {
          "base_uri": "https://localhost:8080/"
        },
        "id": "FPZbYMLlcGyv",
        "outputId": "042073ba-49bd-4695-f11d-14b72b03818e"
      },
      "execution_count": 8,
      "outputs": [
        {
          "output_type": "stream",
          "name": "stdout",
          "text": [
            "Tensor(\"T4:0\", shape=(1, 1, 12), dtype=float64)\n",
            "Tensor(\"T5:0\", shape=(1, 3, 4), dtype=float64)\n"
          ]
        }
      ]
    },
    {
      "cell_type": "markdown",
      "source": [
        "## A continuación vamos a imprimir los elementos de T4 y T5:"
      ],
      "metadata": {
        "id": "ubwXF5QEdD7w"
      }
    },
    {
      "cell_type": "code",
      "source": [
        "with tf.compat.v1.Session(graph=g) as sess:\n",
        "  sess.run(tf.compat.v1.global_variables_initializer())\n",
        "  print('T4:0 ', sess.run(T4))\n",
        "  print('')\n",
        "  print('T5:0 ', sess.run(T5))"
      ],
      "metadata": {
        "colab": {
          "base_uri": "https://localhost:8080/"
        },
        "id": "jDn3io04dM_w",
        "outputId": "cded8cc2-3bac-4d28-f07c-af41155adc39"
      },
      "execution_count": 9,
      "outputs": [
        {
          "output_type": "stream",
          "name": "stdout",
          "text": [
            "T4:0  [[[1.  2.  3.  3.5 4.  5.  6.  6.5 7.  8.  9.  9.5]]]\n",
            "\n",
            "T5:0  [[[1.  2.  3.  3.5]\n",
            "  [4.  5.  6.  6.5]\n",
            "  [7.  8.  9.  9.5]]]\n"
          ]
        }
      ]
    },
    {
      "cell_type": "markdown",
      "source": [
        "## Ahora vamos a transponer la matriz con *tf.transpose* y, además podemos cambiar el orden de dimensiones de cualquier manera especificando el orden en *perm=[...]*"
      ],
      "metadata": {
        "id": "m8ILBz8ye2IA"
      }
    },
    {
      "cell_type": "code",
      "source": [
        "with g.as_default():\n",
        "  T6 = tf.transpose(T5, perm=[2, 1, 0], name = 'T6')\n",
        "  print(T6)\n",
        "  T7 = tf.transpose(T5, perm=[0, 2, 1], name='T7')\n",
        "  print(T7)"
      ],
      "metadata": {
        "colab": {
          "base_uri": "https://localhost:8080/"
        },
        "id": "Aak_Vyo_fBgJ",
        "outputId": "75acbb53-27ba-4e72-ea25-d9860deb3830"
      },
      "execution_count": 10,
      "outputs": [
        {
          "output_type": "stream",
          "name": "stdout",
          "text": [
            "Tensor(\"T6:0\", shape=(4, 3, 1), dtype=float64)\n",
            "Tensor(\"T7:0\", shape=(1, 4, 3), dtype=float64)\n"
          ]
        }
      ]
    },
    {
      "cell_type": "markdown",
      "source": [
        "## También podemos dividir un tensor en subtensores utilizando la función *tf.split* como resultado obtendremos una lista de subtensores.  "
      ],
      "metadata": {
        "id": "m4ynGezygr2G"
      }
    },
    {
      "cell_type": "code",
      "source": [
        "with g.as_default():\n",
        "  t5_split = tf.split(T5, num_or_size_splits=2, axis=2, name='T8')\n",
        "  print(t5_split)"
      ],
      "metadata": {
        "colab": {
          "base_uri": "https://localhost:8080/"
        },
        "id": "JdkadFhvhE9R",
        "outputId": "b3f379b5-59c7-47c3-cc6d-f401b5989c77"
      },
      "execution_count": 11,
      "outputs": [
        {
          "output_type": "stream",
          "name": "stdout",
          "text": [
            "[<tf.Tensor 'T8:0' shape=(1, 3, 2) dtype=float64>, <tf.Tensor 'T8:1' shape=(1, 3, 2) dtype=float64>]\n"
          ]
        }
      ]
    },
    {
      "cell_type": "markdown",
      "source": [
        "## Por último, vamos a concatenar tensores con *tf.concat*"
      ],
      "metadata": {
        "id": "IcFoQZTFhxy5"
      }
    },
    {
      "cell_type": "code",
      "source": [
        "with g.as_default():\n",
        "  t1 = tf.ones(shape=(5, 1), dtype=tf.float32, name='t1')\n",
        "  t2 = tf.zeros(shape=(5, 1), dtype=tf.float32, name='t2')\n",
        "  t3 = tf.concat([t1, t2], axis=0, name='t3')\n",
        "  t4 = tf.concat([t1, t2], axis=1, name='t4')\n",
        "  print(t1)\n",
        "  print(t2)\n",
        "  print('concatenación en el eje 0')\n",
        "  print(t3)\n",
        "  print('concatenación en ele eje 1')\n",
        "  print(t4)"
      ],
      "metadata": {
        "colab": {
          "base_uri": "https://localhost:8080/"
        },
        "id": "L6sv-4Cnh9s8",
        "outputId": "50890c2b-625e-4f6d-f4d6-54ad103b33d1"
      },
      "execution_count": 14,
      "outputs": [
        {
          "output_type": "stream",
          "name": "stdout",
          "text": [
            "Tensor(\"t1_3:0\", shape=(5, 1), dtype=float32)\n",
            "Tensor(\"t2_2:0\", shape=(5, 1), dtype=float32)\n",
            "concatenación en el eje 0\n",
            "Tensor(\"t3_2:0\", shape=(10, 1), dtype=float32)\n",
            "concatenación en ele eje 1\n",
            "Tensor(\"t4_1:0\", shape=(5, 2), dtype=float32)\n"
          ]
        }
      ]
    },
    {
      "cell_type": "markdown",
      "source": [
        "## Vamos a imprimir los valores de los tensores concatenados"
      ],
      "metadata": {
        "id": "DmLvGRRljgYq"
      }
    },
    {
      "cell_type": "code",
      "source": [
        "with tf.compat.v1.Session(graph=g) as sess:\n",
        "  print(t3.eval())\n",
        "  print('')\n",
        "  print(t4.eval())"
      ],
      "metadata": {
        "colab": {
          "base_uri": "https://localhost:8080/"
        },
        "id": "6h1lmdAojpMh",
        "outputId": "4b7b6a40-ee5b-476c-d6a1-bbe364795bbc"
      },
      "execution_count": 15,
      "outputs": [
        {
          "output_type": "stream",
          "name": "stdout",
          "text": [
            "[[1.]\n",
            " [1.]\n",
            " [1.]\n",
            " [1.]\n",
            " [1.]\n",
            " [0.]\n",
            " [0.]\n",
            " [0.]\n",
            " [0.]\n",
            " [0.]]\n",
            "\n",
            "[[1. 0.]\n",
            " [1. 0.]\n",
            " [1. 0.]\n",
            " [1. 0.]\n",
            " [1. 0.]]\n"
          ]
        }
      ]
    }
  ]
}