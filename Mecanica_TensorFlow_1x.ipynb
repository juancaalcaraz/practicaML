{
  "nbformat": 4,
  "nbformat_minor": 0,
  "metadata": {
    "colab": {
      "provenance": [],
      "authorship_tag": "ABX9TyMXZNoCbSjE7uON3+V6f7On",
      "include_colab_link": true
    },
    "kernelspec": {
      "name": "python3",
      "display_name": "Python 3"
    },
    "language_info": {
      "name": "python"
    }
  },
  "cells": [
    {
      "cell_type": "markdown",
      "metadata": {
        "id": "view-in-github",
        "colab_type": "text"
      },
      "source": [
        "<a href=\"https://colab.research.google.com/github/juancaalcaraz/practicaML/blob/main/Mecanica_TensorFlow_1x.ipynb\" target=\"_parent\"><img src=\"https://colab.research.google.com/assets/colab-badge.svg\" alt=\"Open In Colab\"/></a>"
      ]
    },
    {
      "cell_type": "markdown",
      "source": [
        "# Cómo obtener la dimensión y la forma de un tensor\n",
        "## Podemos utilizar la función *tf.rank* para obtener la dimensión de un tensor. tf.rank devolverá  un tensor como salida y para obtener el valor real debemos evaluar dicho tensor.\n",
        "## A demás podemos obtener la forma de un tensor, suponiendo que X es un tensor, mediante X.get_shape() que nos devolverá un objeto especial denominado *tensorshape*. Este objeto no se puede indexar ni dividir directamente, debemos convertirlo en una lista de Python mediante el método *as_list*      "
      ],
      "metadata": {
        "id": "Bq2ROWHNlVdt"
      }
    },
    {
      "cell_type": "code",
      "execution_count": null,
      "metadata": {
        "colab": {
          "base_uri": "https://localhost:8080/"
        },
        "id": "or3YzSzHgwOr",
        "outputId": "5e39d266-5877-4bd8-ebd2-8039944f3510"
      },
      "outputs": [
        {
          "output_type": "stream",
          "name": "stdout",
          "text": [
            "Shapes:  () (4,) (2, 2)\n",
            "Rank:  0 1 2\n"
          ]
        }
      ],
      "source": [
        "import tensorflow as tf\n",
        "import numpy as np\n",
        "\n",
        "g = tf.Graph()\n",
        "\n",
        "## Definir el gráfico de cálculo.\n",
        "with tf.compat.v1.Graph().as_default() as g:\n",
        "  ## Definir tensores\n",
        "  t1 = tf.constant(np.pi)\n",
        "  tf2 = tf.constant([1, 2, 3, 4])\n",
        "  tf3 = tf.constant([[1,2], [3,4]])\n",
        "  ## Obtener sus dimensiones.\n",
        "  rank_t1 = tf.rank(t1)\n",
        "  rank_t2 = tf.rank(tf2)\n",
        "  rank_t3 = tf.rank(tf3)\n",
        "\n",
        "  ## obtener sus formas\n",
        "  s1 = t1.get_shape()\n",
        "  s2 = tf2.get_shape()\n",
        "  s3 = tf3.get_shape()\n",
        "  print('Shapes: ', s1, s2, s3)\n",
        "\n",
        "with tf.compat.v1.Session(graph=g):\n",
        "  print('Rank: ', rank_t1.eval(), rank_t2.eval(), rank_t3.eval())\n"
      ]
    },
    {
      "cell_type": "markdown",
      "source": [
        "## Definir marcadores de posición en tensorflow 1.x"
      ],
      "metadata": {
        "id": "wVRXB9TyLAXX"
      }
    },
    {
      "cell_type": "code",
      "source": [
        "import tensorflow as tf\n",
        "\n",
        "g = tf.Graph()\n",
        "\n",
        "with tf.compat.v1.Graph().as_default() as g:\n",
        "  tf_a = tf.compat.v1.placeholder(tf.int32, shape=[], name='tf_a')\n",
        "  tf_b = tf.compat.v1.placeholder(tf.int32, shape=[], name='tf_b')\n",
        "  tf_c = tf.compat.v1.placeholder(tf.int32, shape=[], name='tf_c')\n",
        "  r1 = tf_a-tf_b\n",
        "  r2 = 2*r1\n",
        "  z = r2 + tf_c\n",
        "  # En este código hemos definido 3 marcadores de posición.\n",
        "  # In this code we have defined 3 placeholders.\n"
      ],
      "metadata": {
        "id": "cPIMtMp5Z_qJ"
      },
      "execution_count": 2,
      "outputs": []
    },
    {
      "cell_type": "markdown",
      "source": [
        "## Alimentar marcadores de posición con datos.\n",
        "## Cuando ejecutamos un nodo en el grafo, necesitamos crear un diccionario Python para alimentar los valores de los marcadores de posición con matrices de datos. este diccionario se pasa como argumento de entrda *feed_dict* a un método *run* de sesión.   "
      ],
      "metadata": {
        "id": "U6jVugo-cnyh"
      }
    },
    {
      "cell_type": "code",
      "source": [
        "with tf.compat.v1.Session(graph=g) as sess:\n",
        "  feed = {tf_a: 1, tf_b : 2, tf_c: 3}\n",
        "  print('z: ', sess.run(z, feed_dict=feed))"
      ],
      "metadata": {
        "colab": {
          "base_uri": "https://localhost:8080/"
        },
        "id": "HZ0Z3Sqadu_A",
        "outputId": "6d425f7c-4894-4900-987f-d2b74f318704"
      },
      "execution_count": 3,
      "outputs": [
        {
          "output_type": "stream",
          "name": "stdout",
          "text": [
            "z:  1\n"
          ]
        }
      ]
    },
    {
      "cell_type": "markdown",
      "source": [
        "### Tener matrices extras para los marcadores de posició no causa ningún error. Sin embargo, si necesita un marcador de posición para le ejecución de un nodo y este no se proporciona, se producirá un error en tiempo de ejecución.  "
      ],
      "metadata": {
        "id": "Gr6KRhUAelH6"
      }
    },
    {
      "cell_type": "markdown",
      "source": [
        "# Definir marcadores de posición para matrices de datos con diferentes tamaño de lote."
      ],
      "metadata": {
        "id": "Xyg8K_M1fJIH"
      }
    },
    {
      "cell_type": "code",
      "source": [
        "import tensorflow as tf\n",
        "\n",
        "g = tf.Graph()\n",
        "\n",
        "with tf.compat.v1.Graph().as_default() as g:\n",
        "  tf_x = tf.compat.v1.placeholder(tf.float32, shape=[None, 2], name='tf_x')\n",
        "  x_mean = tf.reduce_mean(tf_x, axis=0, name='mean')\n",
        ""
      ],
      "metadata": {
        "id": "eoGjjD_AfZFZ"
      },
      "execution_count": 4,
      "outputs": []
    },
    {
      "cell_type": "markdown",
      "source": [
        "### Ahora podemos evaluar *x_mean* con entradas distintas para *x1* y *x2*"
      ],
      "metadata": {
        "id": "Vy9d-NzDgNWy"
      }
    },
    {
      "cell_type": "code",
      "source": [
        "import numpy as np\n",
        "np.random.seed(42)\n",
        "np.set_printoptions(precision=2)\n",
        "\n",
        "with tf.compat.v1.Session(graph=g) as sess:\n",
        "  x1 = np.random.uniform(low=0, high=1, size=(5,2))\n",
        "  print('alimentación de datos con forma : ', x1.shape)\n",
        "  print('resultado: ', sess.run(x_mean, feed_dict={tf_x: x1}))\n",
        "  x2 = np.random.uniform(low=0, high=1, size=(10,2))\n",
        "  print('alimentación de datos con forma : ', x2.shape)\n",
        "  print('resultado: ', sess.run(x_mean, feed_dict={tf_x: x2}))"
      ],
      "metadata": {
        "colab": {
          "base_uri": "https://localhost:8080/"
        },
        "id": "pqppRUrYgdNL",
        "outputId": "e73d8896-0569-4d2c-c2e3-caa131fbfa5b"
      },
      "execution_count": 5,
      "outputs": [
        {
          "output_type": "stream",
          "name": "stdout",
          "text": [
            "alimentación de datos con forma :  (5, 2)\n",
            "resultado:  [0.38 0.66]\n",
            "alimentación de datos con forma :  (10, 2)\n",
            "resultado:  [0.39 0.4 ]\n"
          ]
        }
      ]
    },
    {
      "cell_type": "markdown",
      "source": [
        "# Variables en TensorFlow 1.x"
      ],
      "metadata": {
        "id": "1OivVKYiiwPr"
      }
    },
    {
      "cell_type": "markdown",
      "source": [
        "## Definir variables\n",
        "## La variables en tensorFlow almacenan los parámetros de un modelo que puede ser actualizado durante el entrenamiento.\n",
        "### tf.get_variable ya no se utiliza en TensorFlow 2.x"
      ],
      "metadata": {
        "id": "IOXdfYQyj6_Y"
      }
    },
    {
      "cell_type": "code",
      "source": [
        "import tensorflow as tf\n",
        "import numpy as np\n",
        "\n",
        "g1 = tf.Graph()\n",
        "with tf.compat.v1.Graph().as_default() as g1:\n",
        "  w = tf.Variable(np.array([[1,2,3,4],[5,6,7,8]]), name='w')\n",
        "  print(w)"
      ],
      "metadata": {
        "colab": {
          "base_uri": "https://localhost:8080/"
        },
        "id": "xtxNzRd2lVAO",
        "outputId": "6961cbd2-896a-430b-c48f-f76031720459"
      },
      "execution_count": 6,
      "outputs": [
        {
          "output_type": "stream",
          "name": "stdout",
          "text": [
            "<tf.Variable 'w:0' shape=(2, 4) dtype=int64>\n"
          ]
        }
      ]
    },
    {
      "cell_type": "markdown",
      "source": [
        "## Inicializar variables en TensorFlow 1.x\n",
        "## El proceso de inicialización se refiere a la asignación de memoría para los tensores asociados y la asignacion de sus valores asociados. En tensorFlow 2.x no es necesario."
      ],
      "metadata": {
        "id": "ViJ8FD0imtjN"
      }
    },
    {
      "cell_type": "code",
      "source": [
        "with tf.compat.v1.Session(graph=g1) as sess:\n",
        "  sess.run(tf.compat.v1.global_variables_initializer())\n",
        "  print(sess.run(w))"
      ],
      "metadata": {
        "colab": {
          "base_uri": "https://localhost:8080/"
        },
        "id": "ETmVF_TxnIau",
        "outputId": "e16c616f-8add-4461-dc93-00b747bee7b4"
      },
      "execution_count": 7,
      "outputs": [
        {
          "output_type": "stream",
          "name": "stdout",
          "text": [
            "[[1 2 3 4]\n",
            " [5 6 7 8]]\n"
          ]
        }
      ]
    },
    {
      "cell_type": "markdown",
      "source": [
        "## Inicializar varias variables al mismo tiempo"
      ],
      "metadata": {
        "id": "nQEnW6pRnprt"
      }
    },
    {
      "cell_type": "code",
      "source": [
        "g2 = tf.Graph()\n",
        "with tf.compat.v1.Graph().as_default() as g2:\n",
        "  w1 = tf.Variable(1, name='w1')\n",
        "  w2 = tf.Variable(2, name='w2')\n",
        "  init_op = tf.compat.v1.global_variables_initializer()\n",
        "  print(w1)\n",
        "  print(w2)"
      ],
      "metadata": {
        "colab": {
          "base_uri": "https://localhost:8080/"
        },
        "id": "7DCvkF_SntvA",
        "outputId": "3201c7f3-feb7-4b64-9ede-9b86dbe46bb9"
      },
      "execution_count": 8,
      "outputs": [
        {
          "output_type": "stream",
          "name": "stdout",
          "text": [
            "<tf.Variable 'w1:0' shape=() dtype=int32>\n",
            "<tf.Variable 'w2:0' shape=() dtype=int32>\n"
          ]
        }
      ]
    },
    {
      "cell_type": "code",
      "source": [
        "with tf.compat.v1.Session(graph=g2) as sess:\n",
        "  sess.run(init_op)\n",
        "  print('w1: ', sess.run(w1))\n",
        "  print('w2: ', sess.run(w2))"
      ],
      "metadata": {
        "colab": {
          "base_uri": "https://localhost:8080/"
        },
        "id": "pES_lbdboHBL",
        "outputId": "6a6e28ee-c0c1-4022-e37a-f57b759de1c2"
      },
      "execution_count": 9,
      "outputs": [
        {
          "output_type": "stream",
          "name": "stdout",
          "text": [
            "w1:  1\n",
            "w2:  2\n"
          ]
        }
      ]
    },
    {
      "cell_type": "markdown",
      "source": [
        "## Alcance de variables"
      ],
      "metadata": {
        "id": "n7vfLwM6pQNN"
      }
    },
    {
      "cell_type": "code",
      "source": [
        "g = tf.Graph()\n",
        "\n",
        "with tf.compat.v1.Graph().as_default() as g:\n",
        "  with tf.compat.v1.variable_scope('Net-A'):\n",
        "    with tf.compat.v1.variable_scope('Layer-1'):\n",
        "      w1 = tf.Variable(tf.compat.v1.random_normal(shape=(10,4)), name='weights')\n",
        "    with tf.compat.v1.variable_scope('Layer-2'):\n",
        "      w2 = tf.Variable(tf.compat.v1.random_normal(shape=(20,10)), name='weights')\n",
        "  with tf.compat.v1.variable_scope('Net-B'):\n",
        "    with tf.compat.v1.variable_scope('Layer-1'):\n",
        "      w3 = tf.Variable(tf.compat.v1.random_normal(shape=(10,4)), name='weights')\n",
        "\n",
        "  print(w1)\n",
        "  print(w2)\n",
        "  print(w3)"
      ],
      "metadata": {
        "colab": {
          "base_uri": "https://localhost:8080/"
        },
        "id": "xYy4vhNQpTlK",
        "outputId": "8ae4edd2-41de-4d45-dda2-e6aef26e0891"
      },
      "execution_count": 10,
      "outputs": [
        {
          "output_type": "stream",
          "name": "stdout",
          "text": [
            "<tf.Variable 'Net-A/Layer-1/weights:0' shape=(10, 4) dtype=float32>\n",
            "<tf.Variable 'Net-A/Layer-2/weights:0' shape=(20, 10) dtype=float32>\n",
            "<tf.Variable 'Net-B/Layer-1/weights:0' shape=(10, 4) dtype=float32>\n"
          ]
        }
      ]
    },
    {
      "cell_type": "markdown",
      "source": [
        "## Alcance de variables en TensorFlow 2.x"
      ],
      "metadata": {
        "id": "vqmUwAgwr6zN"
      }
    },
    {
      "cell_type": "code",
      "source": [
        "import tensorflow as tf\n",
        "\n",
        "class SimpleModule(tf.Module):\n",
        "    def __init__(self, name=None):\n",
        "        super().__init__(name=name)\n",
        "        # Define una variable dentro del alcance de este módulo\n",
        "        self.weight = tf.Variable(2.0, name=\"weight\")\n",
        "\n",
        "    def __call__(self, x):\n",
        "        return self.weight * x\n",
        "\n",
        "# Crear una instancia de SimpleModule\n",
        "module = SimpleModule()\n",
        "\n",
        "# Ejecutar el módulo\n",
        "output = module(3.0)\n",
        "print(output)  # Devuelve 6.0 (2.0 * 3.0)\n",
        "\n",
        "# Inspeccionar el nombre completo de la variable\n",
        "print(module.weight.name)  # 'simple_module/weight:0'\n"
      ],
      "metadata": {
        "colab": {
          "base_uri": "https://localhost:8080/"
        },
        "id": "V3tGuB_Xr-y0",
        "outputId": "c7e8d91d-094a-49de-e562-109e602f3924"
      },
      "execution_count": 11,
      "outputs": [
        {
          "output_type": "stream",
          "name": "stdout",
          "text": [
            "tf.Tensor(6.0, shape=(), dtype=float32)\n",
            "weight:0\n"
          ]
        }
      ]
    }
  ]
}