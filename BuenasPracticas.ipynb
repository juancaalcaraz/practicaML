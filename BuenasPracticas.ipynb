{
  "nbformat": 4,
  "nbformat_minor": 0,
  "metadata": {
    "colab": {
      "provenance": [],
      "authorship_tag": "ABX9TyPT9AX0UfUKMpfzgNnNu/xB",
      "include_colab_link": true
    },
    "kernelspec": {
      "name": "python3",
      "display_name": "Python 3"
    },
    "language_info": {
      "name": "python"
    }
  },
  "cells": [
    {
      "cell_type": "markdown",
      "metadata": {
        "id": "view-in-github",
        "colab_type": "text"
      },
      "source": [
        "<a href=\"https://colab.research.google.com/github/juancaalcaraz/practicaML/blob/main/BuenasPracticas.ipynb\" target=\"_parent\"><img src=\"https://colab.research.google.com/assets/colab-badge.svg\" alt=\"Open In Colab\"/></a>"
      ]
    },
    {
      "cell_type": "markdown",
      "source": [
        "# Buenas prácticas para la evaluación de modelos y el ajuste de hiperparámetros.\n",
        "## Pipelines.\n",
        "### La clase pipelines de scikit-learn nos permite ajustar un modelo incluyendo un número arbitrario de pasos de transformación y aplicarlo para hacer predicciones sobre nuevos datos.\n",
        "#### En esta ocación usaremos el dataset Breast Cancer Wisconsin."
      ],
      "metadata": {
        "id": "rpa4wYpTA56d"
      }
    },
    {
      "cell_type": "code",
      "execution_count": 2,
      "metadata": {
        "colab": {
          "base_uri": "https://localhost:8080/"
        },
        "id": "rRQsSnqTAw3K",
        "outputId": "8caed989-15e1-4971-9ea5-51eef19da7fb"
      },
      "outputs": [
        {
          "output_type": "execute_result",
          "data": {
            "text/plain": [
              "array(['B', 'M'], dtype=object)"
            ]
          },
          "metadata": {},
          "execution_count": 2
        }
      ],
      "source": [
        "from sklearn.preprocessing import LabelEncoder\n",
        "import pandas as pd\n",
        "# leyendo el dataset desde el sitio web de UCI.\n",
        "# reading the dataset from the UCI website.\n",
        "df = pd.read_csv('https://archive.ics.uci.edu/ml/machine-learning-databases/breast-cancer-wisconsin/wdbc.data', header=None)\n",
        "X = df.loc[:, 2:].values\n",
        "y = df.loc[:, 1].values\n",
        "le = LabelEncoder()\n",
        "y = le.fit_transform(y)\n",
        "le.classes_"
      ]
    },
    {
      "cell_type": "markdown",
      "source": [
        "### Ahora las etiquetas de clase son 0 para un tumor benigno('B') y 1 para un tumor maligno('M'). Para comprobar este mapeo vamos a llamar a le.transform"
      ],
      "metadata": {
        "id": "6K8xNawrFv4u"
      }
    },
    {
      "cell_type": "code",
      "source": [
        "le.transform(['M','B'])"
      ],
      "metadata": {
        "colab": {
          "base_uri": "https://localhost:8080/"
        },
        "id": "n4vOlku_FtW-",
        "outputId": "5be2397b-c97b-4319-e5dc-477c36099f68"
      },
      "execution_count": 3,
      "outputs": [
        {
          "output_type": "execute_result",
          "data": {
            "text/plain": [
              "array([1, 0])"
            ]
          },
          "metadata": {},
          "execution_count": 3
        }
      ]
    },
    {
      "cell_type": "code",
      "source": [
        "# Dividimos el conjunto de datos en datos de enrenamiento y de prueba.\n",
        "# We divide the data set into training and test data.\n",
        "from sklearn.model_selection import train_test_split\n",
        "X_train, X_test, y_train, y_test = train_test_split(X, y, test_size=0.2, stratify=y, random_state=43)"
      ],
      "metadata": {
        "id": "3uFprtE8GcRf"
      },
      "execution_count": 4,
      "outputs": []
    },
    {
      "cell_type": "markdown",
      "source": [
        "### Vamos a estandarizar las columnas en el conjunto de datos breast cancer wisconsin antes de pasarlas a un clasificador lineal. Además vamos a suponer que queremos comprimir nuestros datos a partir de las 30 dimensiones iniciales en un subespacio bidimensional mediante un Análisis de componentes principales(ACP). En lugar de hacer estos pasos por separado, podemos encadenar estos objetos en un pipeline:"
      ],
      "metadata": {
        "id": "dj5G8BGrHeGG"
      }
    },
    {
      "cell_type": "code",
      "source": [
        "from sklearn.preprocessing import StandardScaler\n",
        "from sklearn.decomposition import PCA\n",
        "from sklearn.linear_model import LogisticRegression\n",
        "from sklearn.pipeline import make_pipeline\n",
        "#pipeline para regresion logistica.\n",
        "#pipeline for logistic regression.\n",
        "pipe_lr = make_pipeline(StandardScaler(),\n",
        "                        PCA(n_components=2),\n",
        "                        LogisticRegression(random_state=43))\n",
        "pipe_lr.fit(X_train, y_train)\n",
        "y_pred = pipe_lr.predict(X_test)\n",
        "print('Test precisión: %.3f' % pipe_lr.score(X_test, y_test))"
      ],
      "metadata": {
        "colab": {
          "base_uri": "https://localhost:8080/"
        },
        "id": "rs4T14BsHdnf",
        "outputId": "399555a1-6c7a-4fcb-8ce3-e0a67ea02941"
      },
      "execution_count": 5,
      "outputs": [
        {
          "output_type": "stream",
          "name": "stdout",
          "text": [
            "Test precisión: 0.947\n"
          ]
        }
      ]
    },
    {
      "cell_type": "markdown",
      "source": [
        "## Validación cruzada para evaluar el rendimiento de un modelo.\n",
        "### La validación cruzada de k iteraciones es una técnica utilizada para evaluar el rendimiento de un modelo de aprendizaje automático. Consiste en dividir el conjunto de datos en k partes (llamadas pliegues), usar k-1 partes como conjunto de entrenamiento y la parte restante como conjunto de prueba en cada iteración. Esto se repite k veces, de manera que cada parte se utiliza una vez como conjunto de prueba. Al finalizar, se promedian los resultados de las k iteraciones para obtener una estimación más precisa del rendimiento del modelo. La validación cruzada de k iteraciones ayuda a reducir el sesgo en la evaluación del modelo y a obtener una estimación más robusta de su rendimiento."
      ],
      "metadata": {
        "id": "ZJBQYL8hT0B7"
      }
    },
    {
      "cell_type": "code",
      "source": [
        "from sklearn.model_selection import cross_val_score\n",
        "scores = cross_val_score(estimator=pipe_lr, X=X_train, y=y_train, cv=10)\n",
        "print('CV puntuación de precisión: %s'% scores)"
      ],
      "metadata": {
        "colab": {
          "base_uri": "https://localhost:8080/"
        },
        "id": "pelD6FHLWYyb",
        "outputId": "9c0a1b19-65e7-48e6-a9b6-c27d9e9455b9"
      },
      "execution_count": 6,
      "outputs": [
        {
          "output_type": "stream",
          "name": "stdout",
          "text": [
            "CV puntuación de precisión: [0.97826087 0.91304348 0.95652174 0.93478261 0.89130435 0.95555556\n",
            " 0.97777778 1.         1.         0.97777778]\n"
          ]
        }
      ]
    },
    {
      "cell_type": "code",
      "source": [
        "import numpy as np\n",
        "print('Cv precisión: %.3f +/- %.3f' % (np.mean(scores), np.std(scores)))"
      ],
      "metadata": {
        "colab": {
          "base_uri": "https://localhost:8080/"
        },
        "id": "U89p1VoUXfmJ",
        "outputId": "d80c003a-6a3f-4faa-9a5d-ca26f56323be"
      },
      "execution_count": 7,
      "outputs": [
        {
          "output_type": "stream",
          "name": "stdout",
          "text": [
            "Cv precisión: 0.959 +/- 0.034\n"
          ]
        }
      ]
    },
    {
      "cell_type": "markdown",
      "source": [
        "## Diagnosticar problemas de sesgo y varianza con curvas de aprendizaje.\n",
        "### Vamos a ver cómo podemos utilizar la funcion de curva de aprendizage de scikit-learn para evalual el modeo:"
      ],
      "metadata": {
        "id": "XxWnnv3RJm8E"
      }
    },
    {
      "cell_type": "code",
      "source": [
        "import matplotlib.pyplot as plt\n",
        "from sklearn.model_selection import learning_curve\n",
        "pipe_lr = make_pipeline(StandardScaler(),\n",
        "                        LogisticRegression(solver='liblinear', penalty='l2', random_state=43))\n",
        "train_sizes, train_scores, test_scores = learning_curve(estimator=pipe_lr,\n",
        "                                                        X=X_train,\n",
        "                                                        y=y_train,\n",
        "                                                        train_sizes=np.linspace(0.1, 1.0, 10),\n",
        "                                                        cv=10)"
      ],
      "metadata": {
        "id": "yGZGUvhJK7CB"
      },
      "execution_count": 8,
      "outputs": []
    },
    {
      "cell_type": "code",
      "source": [
        "train_mean = np.mean(train_scores, axis=1)\n",
        "train_std = np.std(train_scores, axis=1)\n",
        "test_mean = np.mean(test_scores, axis=1)\n",
        "test_std = np.std(test_scores, axis=1)\n",
        "plt.plot(train_sizes, train_mean, color='blue', marker='o',\n",
        "         markersize=5, label='precisión de entrenamiento')\n",
        "#usamos fill_between para graficar la varianza de la estimacion.\n",
        "#We use fill_between to plot the variance of the estimate.\n",
        "plt.fill_between(train_sizes, train_mean + train_std,\n",
        "                 train_mean - train_std, alpha=0.15, color='blue')\n",
        "\n",
        "plt.plot(train_sizes, test_mean, color='green', linestyle='--',\n",
        "         marker='s',\n",
        "         markersize=5, label='precisión de validación')\n",
        "\n",
        "plt.fill_between(train_sizes, test_mean + test_std,\n",
        "                 test_mean - test_std, alpha=0.15, color='green')\n",
        "\n",
        "plt.grid()\n",
        "plt.xlabel('número de muestras de entrenamiento')\n",
        "plt.ylabel('precisión')\n",
        "plt.legend(loc='lower right')\n",
        "plt.ylim([0.8, 1.1])\n",
        "plt.show()"
      ],
      "metadata": {
        "colab": {
          "base_uri": "https://localhost:8080/",
          "height": 455
        },
        "id": "5z0KRBFcNmyQ",
        "outputId": "73377175-c9c6-41ce-dc22-52a125554bdb"
      },
      "execution_count": 9,
      "outputs": [
        {
          "output_type": "display_data",
          "data": {
            "text/plain": [
              "<Figure size 640x480 with 1 Axes>"
            ],
            "image/png": "[encoded data removed]"
          },
          "metadata": {}
        }
      ]
    },
    {
      "cell_type": "markdown",
      "source": [
        "### Como podemos ver en la curva de aprendizaje anterior, nuestro modelo funciona bien tanto para muestras de entrenamiento como para los de validacion si ha visto mas de 250 muestras, la precisión de entrenamiento y de validación es más separada para muestras menores a 200, siendo este un indicador de un grado de sobreajuste.   "
      ],
      "metadata": {
        "id": "n1pWXh4yT8ms"
      }
    },
    {
      "cell_type": "markdown",
      "source": [
        "## Resolver el sobreajuste y el subajuste con curvas de validación."
      ],
      "metadata": {
        "id": "LrQZ1x_VV94r"
      }
    },
    {
      "cell_type": "markdown",
      "source": [
        "### Las curvas de validación son una herramienta útil para mejorar el rendimiento de un modelo solventando problemas como el sobreajuste o el subajuste. Con las curvas de validación modificamos los valores de los parámetros del modelo. Vamos a ahcer un ejemplo para el parámetro C de la regresón logística.  "
      ],
      "metadata": {
        "id": "XhDKAEIDYU4V"
      }
    },
    {
      "cell_type": "code",
      "source": [
        "from sklearn.model_selection import validation_curve\n",
        "param_range = [0.001, 0.01, 0.1, 1.0, 10.0, 100.0] #rango de parámetros.\n",
        "train_scores, test_scores = validation_curve(estimator=pipe_lr,\n",
        "                                             X=X_train,\n",
        "                                             y=y_train,\n",
        "                                             param_name='logisticregression__C',\n",
        "                                             param_range=param_range,\n",
        "                                             cv=10)"
      ],
      "metadata": {
        "id": "2A7QYYzddIkZ"
      },
      "execution_count": 10,
      "outputs": []
    },
    {
      "cell_type": "code",
      "source": [
        "train_mean = np.mean(train_scores, axis=1)\n",
        "train_std = np.std(train_scores, axis=1)\n",
        "test_mean= np.mean(test_scores, axis=1)\n",
        "test_std= np.std(test_scores, axis=1)\n",
        "\n",
        "plt.plot(param_range, train_mean,\n",
        "         color='blue', marker='o', markersize=5, label='precisón de entrenamiento')\n",
        "plt.fill_between(param_range, train_mean + train_std,\n",
        "                 train_mean - train_std, alpha=0.15, color='blue')\n",
        "\n",
        "\n",
        "plt.plot(param_range, test_mean,\n",
        "         color='green', marker='s', markersize=5, label='precisón de validación')\n",
        "plt.fill_between(param_range, test_mean + test_std,\n",
        "                 test_mean - test_std, alpha=0.15, color='green')\n",
        "plt.grid()\n",
        "plt.xscale('log')\n",
        "plt.legend(loc='lower right')\n",
        "plt.xlabel('Precisión')\n",
        "plt.ylim([0.8, 1.03])\n",
        "plt.show()"
      ],
      "metadata": {
        "colab": {
          "base_uri": "https://localhost:8080/",
          "height": 454
        },
        "id": "seeGImmyeMIZ",
        "outputId": "92b683ae-8a1e-46b0-f709-f1d115a7aec3"
      },
      "execution_count": 11,
      "outputs": [
        {
          "output_type": "display_data",
          "data": {
            "text/plain": [
              "<Figure size 640x480 with 1 Axes>"
            ],
            "image/png": "[encoded data removed]"
          },
          "metadata": {}
        }
      ]
    },
    {
      "cell_type": "markdown",
      "source": [
        "## Ajustar hiperparámetros con búsqueda de cuadriculas.\n",
        "### El enfoque de búsqueda de cuadrículas es bastante simple; se trata de un paradigma de búsqueda exhaustiva de fuerza bruta donde especificamos una lista de valores para diferentes hiperparámetros y el ordenador evalúa el rendimiento del modelo para cada combinación de dichos valores."
      ],
      "metadata": {
        "id": "52GR-TUCIDoj"
      }
    },
    {
      "cell_type": "code",
      "source": [
        "from sklearn.model_selection import GridSearchCV\n",
        "from sklearn.svm import SVC\n",
        "\n",
        "pipe_svc = make_pipeline(StandardScaler(),\n",
        "                         SVC(random_state=43))\n",
        "\n",
        "param_range = [0.0001,0.001,0.01, 0.1, 1.0, 10.0, 100.0, 1000.0]\n",
        "\n",
        "param_grid = [ {'svc__C':param_range,\n",
        "               'svc__kernel':['linear']},\n",
        "              {'svc__C': param_range,\n",
        "               'svc__gamma':param_range,\n",
        "               'svc__kernel':['rbf']}]\n",
        "gs = GridSearchCV(estimator= pipe_svc,\n",
        "                  param_grid=param_grid,\n",
        "                  scoring='accuracy',\n",
        "                  cv=10)\n",
        "gs = gs.fit(X_train, y_train)\n",
        "\n",
        "print(gs.best_score_)\n"
      ],
      "metadata": {
        "colab": {
          "base_uri": "https://localhost:8080/"
        },
        "id": "ZRang2eaJInM",
        "outputId": "5d3c4402-8ce1-498f-b3a6-0a7699101742"
      },
      "execution_count": 12,
      "outputs": [
        {
          "output_type": "stream",
          "name": "stdout",
          "text": [
            "0.9781159420289856\n"
          ]
        }
      ]
    },
    {
      "cell_type": "code",
      "source": [
        "print(gs.best_params_)"
      ],
      "metadata": {
        "colab": {
          "base_uri": "https://localhost:8080/"
        },
        "id": "pb2c2-JJMTyr",
        "outputId": "14a12281-e929-4c96-de35-e90b1f0f58c0"
      },
      "execution_count": 13,
      "outputs": [
        {
          "output_type": "stream",
          "name": "stdout",
          "text": [
            "{'svc__C': 1.0, 'svc__kernel': 'linear'}\n"
          ]
        }
      ]
    },
    {
      "cell_type": "code",
      "source": [
        "#Utilizamos el conjunto de datos de prueba\n",
        "#para estimar el rendimiento\n",
        "clf = gs.best_estimator_\n",
        "clf.fit(X_train, y_train)\n",
        "print('test de precisión: %.3f'% clf.score(X_test, y_test))"
      ],
      "metadata": {
        "colab": {
          "base_uri": "https://localhost:8080/"
        },
        "id": "2PhRsNwsVK-k",
        "outputId": "38f0630c-bf72-4984-af92-b69f7ca4eeda"
      },
      "execution_count": 14,
      "outputs": [
        {
          "output_type": "stream",
          "name": "stdout",
          "text": [
            "test de precisión: 0.982\n"
          ]
        }
      ]
    },
    {
      "cell_type": "markdown",
      "source": [
        "## Selección de algoritmos con validación cruzada anidada.\n",
        "### En la validación cruzada anidada tenemos un bucle de valicación cruzada de $k$ iteraciones externo para dividir los datos en iteraciones de prueba y de entrenamiento, y un bucle interior para seleccionar el modelo mediante la validación cruzada de $k$ iteraciones denro de la iteración de enrtenamiento."
      ],
      "metadata": {
        "id": "2E_jriluUnnn"
      }
    },
    {
      "cell_type": "code",
      "source": [
        "from sklearn.model_selection import cross_val_score\n",
        "gs = GridSearchCV(estimator= pipe_svc,\n",
        "                  param_grid=param_grid,\n",
        "                  scoring='accuracy',\n",
        "                  cv=2)\n",
        "scores = cross_val_score(gs, X_train, y_train, scoring='accuracy', cv=5)\n",
        "print('CV Precisión: %3.f +/- %3.f'% (np.mean(scores), np.std(scores)))"
      ],
      "metadata": {
        "colab": {
          "base_uri": "https://localhost:8080/"
        },
        "id": "nVmxbkE7V41j",
        "outputId": "d8cab162-db19-4e9c-b079-914deb285eb6"
      },
      "execution_count": 15,
      "outputs": [
        {
          "output_type": "stream",
          "name": "stdout",
          "text": [
            "CV Precisión:   1 +/-   0\n"
          ]
        }
      ]
    },
    {
      "cell_type": "markdown",
      "source": [
        "### Podemos utilizar la validación cruzada anidada para comparar el rendimiento de varios clasificadores con el mismo conjunto de datos."
      ],
      "metadata": {
        "id": "kYtltsPOX0R8"
      }
    },
    {
      "cell_type": "code",
      "source": [
        "from sklearn.tree import DecisionTreeClassifier\n",
        "\n",
        "gs = GridSearchCV(estimator=DecisionTreeClassifier(random_state=43),\n",
        "                  param_grid=[{'max_depth':[1, 2, 3, 4, 5, 6, 7, None]}],\n",
        "                  scoring='accuracy',\n",
        "                  cv=2)\n",
        "score = cross_val_score(gs, X_train, y_train, scoring='accuracy', cv=5)\n",
        "print(f'CV precision: {np.mean(score)} +/- {np.std(score)}')"
      ],
      "metadata": {
        "colab": {
          "base_uri": "https://localhost:8080/"
        },
        "id": "DOUuS0EoYJJP",
        "outputId": "cebf6b70-488b-41a7-bb64-e2cc318a125e"
      },
      "execution_count": 16,
      "outputs": [
        {
          "output_type": "stream",
          "name": "stdout",
          "text": [
            "CV precision: 0.9318681318681319 +/- 0.02447368950694517\n"
          ]
        }
      ]
    },
    {
      "cell_type": "markdown",
      "source": [
        "### Como la precisión de SVM resulto ser mayor que la del árbol de desición podemos pensar que podría ser la mejor desición para clasificar nuevos datos procedentes de la misma población de este conjunto de datos"
      ],
      "metadata": {
        "id": "Qb8BuKS4Z59L"
      }
    },
    {
      "cell_type": "markdown",
      "source": [
        "## Observar diferentes métricas para la evalucion de rendimientos\n",
        "### Hemos evaluado anteriormente nuestros modelos con la precisión, útil para cuantificar el rendimiento del modelo. Sin embargo, existen otras métricas para medir la relevancia de un modelo, como la exactitud, la exhaustividad y el valor F.\n"
      ],
      "metadata": {
        "id": "87BCRWpmaq1_"
      }
    },
    {
      "cell_type": "markdown",
      "source": [
        "## Leer una matriz de confusión.\n",
        "### Es una matriz que dispone el rendimiento de un algoritmo de aprendizaje, es una matriz cuadrada que informa del recuento de las predicciones de **Verdarero positivo(TP), Verdadero Negativo(TN), Falso positivo(FP) y Falso Negativo(FN)**  "
      ],
      "metadata": {
        "id": "vhoFVHw-lWe8"
      }
    },
    {
      "cell_type": "code",
      "source": [
        "from sklearn.metrics import confusion_matrix\n",
        "\n",
        "pipe_svc.fit(X_train, y_train)\n",
        "y_pred = pipe_svc.predict(X_test)\n",
        "confmat = confusion_matrix(y_true= y_test, y_pred=y_pred)\n",
        "print(confmat)"
      ],
      "metadata": {
        "colab": {
          "base_uri": "https://localhost:8080/"
        },
        "id": "Iehjy0LBlWD9",
        "outputId": "76827014-51ac-4106-dd52-6d4b26a4203b"
      },
      "execution_count": 17,
      "outputs": [
        {
          "output_type": "stream",
          "name": "stdout",
          "text": [
            "[[70  2]\n",
            " [ 3 39]]\n"
          ]
        }
      ]
    },
    {
      "cell_type": "code",
      "source": [
        "#Vamos a gráficar la matriz\n",
        "fig, ax = plt.subplots(figsize=(2.5, 2.5))\n",
        "ax.matshow(confmat, cmap=plt.cm.Blues, alpha=0.3)\n",
        "for i in range(confmat.shape[0]):\n",
        "  for j in range(confmat.shape[1]):\n",
        "    ax.text(x=j, y=i,\n",
        "            s=confmat[i, j],\n",
        "            va='center', ha='center')\n",
        "plt.xlabel('etiqueta predicha')\n",
        "plt.ylabel('Etiqueta verdadera')\n",
        "plt.show()\n",
        "#La matriz representa.\n",
        "# TN FP\n",
        "# FN TP"
      ],
      "metadata": {
        "colab": {
          "base_uri": "https://localhost:8080/",
          "height": 277
        },
        "id": "CrdvucAOnoUU",
        "outputId": "d6b4e78b-072e-4e46-d3ec-42c616cfad5a"
      },
      "execution_count": 18,
      "outputs": [
        {
          "output_type": "display_data",
          "data": {
            "text/plain": [
              "<Figure size 250x250 with 1 Axes>"
            ],
            "image/png": "[encoded data removed]"
          },
          "metadata": {}
        }
      ]
    },
    {
      "cell_type": "markdown",
      "source": [
        "### Con la representación de la matriz de confusión, notamos que nuestro modelo clasifica 70 muestras pertencientes a la clase 0 de forma correcta y 39 de la clase 1 de forma correcta, pero clasifico de forma erronea tres muestras de la clase 1 como de clase 0 y a predicho 2 muestras como 1 cuando es 0(Falso positivo)."
      ],
      "metadata": {
        "id": "77Z9WMKlprla"
      }
    },
    {
      "cell_type": "markdown",
      "source": [
        "## Optimizar la exactitud y la exhaustividad de un modelo de clasificación.\n",
        "### Tanto la predicción **error(ERR)** como la **precisión(ACC)** proporcionan información general sobre los errores de clasicicación de algunas muestras. Podemos definir el error como la suma de todas las falsas predicciones divididas por el número de predicciones totales. Y la precisión se calcula como la suma de predicciones correctas dividida por el número total de predicciones."
      ],
      "metadata": {
        "id": "bJemFjZttJCS"
      }
    },
    {
      "cell_type": "code",
      "source": [
        "from sklearn.metrics import precision_score, recall_score, f1_score\n",
        "#Exactitud del modelo\n",
        "print(f'Precisión: {precision_score(y_true=y_test, y_pred=y_pred)}')"
      ],
      "metadata": {
        "colab": {
          "base_uri": "https://localhost:8080/"
        },
        "id": "3QZmQYVEvD5-",
        "outputId": "96ea65c8-be11-46a3-8c2b-9b2ef7c41e1a"
      },
      "execution_count": 19,
      "outputs": [
        {
          "output_type": "stream",
          "name": "stdout",
          "text": [
            "Precisión: 0.9512195121951219\n"
          ]
        }
      ]
    },
    {
      "cell_type": "code",
      "source": [
        "#recall sería exhaustividad\n",
        "print(f'Recall: {recall_score(y_true=y_test, y_pred=y_pred)}')"
      ],
      "metadata": {
        "colab": {
          "base_uri": "https://localhost:8080/"
        },
        "id": "S1qVis0vvjIJ",
        "outputId": "74caeba6-28fa-4304-a070-1bd95105069d"
      },
      "execution_count": 20,
      "outputs": [
        {
          "output_type": "stream",
          "name": "stdout",
          "text": [
            "Recall: 0.9285714285714286\n"
          ]
        }
      ]
    },
    {
      "cell_type": "code",
      "source": [
        "#F1 es una combinación entre exactitud(PRE) y exahaustividad(REC)\n",
        "print(f'f1 Score: {f1_score(y_true=y_test, y_pred=y_pred)}')"
      ],
      "metadata": {
        "colab": {
          "base_uri": "https://localhost:8080/"
        },
        "id": "LvF3kB6dwDDy",
        "outputId": "e25ada31-c3d9-4239-f133-c059392ccf04"
      },
      "execution_count": 21,
      "outputs": [
        {
          "output_type": "stream",
          "name": "stdout",
          "text": [
            "f1 Score: 0.9397590361445782\n"
          ]
        }
      ]
    },
    {
      "cell_type": "markdown",
      "source": [
        "### Además podemos utilizar una métrica disitinta a la precisión en GridSearch como se muestra a continuación:"
      ],
      "metadata": {
        "id": "FEka1gWpxI8X"
      }
    },
    {
      "cell_type": "code",
      "source": [
        "from sklearn.metrics import make_scorer, f1_score\n",
        "# Especificamos que la clase positiva es 0\n",
        "# en lugar de 1 con make_scorer\n",
        "scorer = make_scorer(f1_score, pos_label=0)\n",
        "\"\"\"scorer = make_scorer(score_func= precision_score,\n",
        "                     pos_label=1,\n",
        "                     greater_is_better=True,\n",
        "                     average='micro')\n",
        "                     \"\"\"\n",
        "gs = GridSearchCV(estimator=pipe_svc,\n",
        "                  param_grid=param_grid,\n",
        "                  scoring=scorer,\n",
        "                  cv=10)\n",
        "gs = gs.fit(X_train, y_train)"
      ],
      "metadata": {
        "id": "G4qj3XouyOlR"
      },
      "execution_count": 22,
      "outputs": []
    },
    {
      "cell_type": "code",
      "source": [
        "print(gs.best_score_)"
      ],
      "metadata": {
        "colab": {
          "base_uri": "https://localhost:8080/"
        },
        "id": "IjtIxzv8zv3P",
        "outputId": "185a8dbd-2be2-4c7c-904c-e6727453bd75"
      },
      "execution_count": 23,
      "outputs": [
        {
          "output_type": "stream",
          "name": "stdout",
          "text": [
            "0.9827575953325745\n"
          ]
        }
      ]
    },
    {
      "cell_type": "code",
      "source": [
        "print(gs.best_params_)"
      ],
      "metadata": {
        "colab": {
          "base_uri": "https://localhost:8080/"
        },
        "id": "LI9HZ4oGz2f4",
        "outputId": "dcae67cb-7884-4d23-ce7a-67c40f3f896f"
      },
      "execution_count": 24,
      "outputs": [
        {
          "output_type": "stream",
          "name": "stdout",
          "text": [
            "{'svc__C': 1.0, 'svc__kernel': 'linear'}\n"
          ]
        }
      ]
    },
    {
      "cell_type": "markdown",
      "source": [
        "## Representar una característica operatiava del receptor.\n",
        "### Las representaciones gráficas ROC son útiles herramientas para seleccionar modelos para clasificación basados en su rendimiento respecto al FPR y al TPR, que se calculan desplazando el umbral de decisión del clasificador. La diagonal de un gráfico ROC se puede interpretar como adivinación aleatoria, y los modelos clasificados por debajo de esta diagonal se consideran peores que la adivinación aleatoria. Un clasificador perfecto debería caer en la esquina superior izquierda del gráfico con un TPR de 1 y un FPR de 0. También podemos calcular la denominada <<Aréa bajo la curva ROC>>(ROC AUC) para caracterizar el rendimiento de un modelo de clasificación.  "
      ],
      "metadata": {
        "id": "tyNEu45YFASh"
      }
    },
    {
      "cell_type": "code",
      "source": [
        "from sklearn.metrics import roc_curve, auc\n",
        "from scipy import interp\n",
        "from sklearn.model_selection import StratifiedKFold\n",
        "\n",
        "pipe_lr= make_pipeline(StandardScaler(),\n",
        "                       PCA(n_components=2),\n",
        "                       LogisticRegression(penalty='l2', random_state=43, C=100.0))\n",
        "X_train2 = X_train[:, [4, 14]]\n",
        "cv = list(StratifiedKFold(n_splits=3).split(X_train, y_train))\n",
        "fig = plt.figure(figsize=(7,5))\n",
        "mean_tpr = 0.0\n",
        "mean_fpr = np.linspace(0, 1, 100)\n",
        "all_tpr = []\n",
        "\n",
        "for i, (train, test) in enumerate(cv):\n",
        "  probas = pipe_lr.fit(X_train2[train], y_train[train]).predict_proba(X_train2[test])\n",
        "  fpr, tpr, threshold = roc_curve(y_train[test],\n",
        "                                  probas[:, 1],\n",
        "                                  pos_label=1)\n",
        "  mean_tpr += interp(mean_fpr, fpr, tpr)\n",
        "  mean_tpr[0]= 0.0\n",
        "  roc_auc = auc(fpr, tpr)\n",
        "  plt.plot(fpr, tpr,\n",
        "           label='ROC carpeta %d (area = %0.2f)' % (i+1, roc_auc))\n",
        "\n",
        "plt.plot([0, 1],\n",
        "         [0, 1],\n",
        "         linestyle='--',\n",
        "         color=(0.6, 0.6, 0.6),\n",
        "         label='adivinanzas randoms')\n",
        "mean_tpr /= len(cv)\n",
        "mean_tpr[-1]= 1.0\n",
        "mean_auc = auc(mean_fpr, mean_tpr)\n",
        "plt.plot(mean_fpr, mean_tpr, 'k--', label='media ROC (Area = %0.2f)'%mean_auc, lw=2)\n",
        "plt.plot([0,0,1],\n",
        "         [0,1,1],\n",
        "         linestyle=':',\n",
        "         color='black', label='performance perfecto')\n",
        "plt.xlim([-0.05, 1.05])\n",
        "plt.ylim([-0.05, 1.05])\n",
        "plt.xlabel('radio de falso positivo')\n",
        "plt.ylabel('radio de verdadero positivo')\n",
        "plt.legend(loc='lower right')\n",
        "plt.show()"
      ],
      "metadata": {
        "colab": {
          "base_uri": "https://localhost:8080/",
          "height": 569
        },
        "id": "J5BaCJWxJBQe",
        "outputId": "9280683f-126c-4663-ccc1-223b7435cd17"
      },
      "execution_count": 25,
      "outputs": [
        {
          "output_type": "stream",
          "name": "stderr",
          "text": [
            "<ipython-input-25-f636909e6bf1>:20: DeprecationWarning: scipy.interp is deprecated and will be removed in SciPy 2.0.0, use numpy.interp instead\n",
            "  mean_tpr += interp(mean_fpr, fpr, tpr)\n",
            "<ipython-input-25-f636909e6bf1>:20: DeprecationWarning: scipy.interp is deprecated and will be removed in SciPy 2.0.0, use numpy.interp instead\n",
            "  mean_tpr += interp(mean_fpr, fpr, tpr)\n",
            "<ipython-input-25-f636909e6bf1>:20: DeprecationWarning: scipy.interp is deprecated and will be removed in SciPy 2.0.0, use numpy.interp instead\n",
            "  mean_tpr += interp(mean_fpr, fpr, tpr)\n"
          ]
        },
        {
          "output_type": "display_data",
          "data": {
            "text/plain": [
              "<Figure size 700x500 with 1 Axes>"
            ],
            "image/png": "[encoded data removed]"
          },
          "metadata": {}
        }
      ]
    },
    {
      "cell_type": "markdown",
      "source": [
        "## Métricas de calificación para problemas multiclases\n",
        "### Podemos utilizar métodos de micro y macro promedio para los problemas multiclase. El micropromedio es útil si queremos ponderar cada predicción equitativamente, mientras que el macropromedio pondera todas las clases igual para evaluar el rendimiento general de un clasificador con respecto a las etqiuetas de clase más frecuentes.\n",
        "### Podemos especificar el método de promedio mediante el parámetro *average*:"
      ],
      "metadata": {
        "id": "TdW0s00DUOR5"
      }
    },
    {
      "cell_type": "code",
      "source": [
        "from sklearn.metrics import make_scorer, precision_score\n",
        "# Especificamos average='micro' como promedio de calificacion.\n",
        "scorer = make_scorer(score_func= precision_score,\n",
        "                     pos_label=1,\n",
        "                     greater_is_better=True,\n",
        "                     average='micro')\n",
        "gs = GridSearchCV(estimator=pipe_svc,\n",
        "                  param_grid=param_grid,\n",
        "                  scoring=scorer,\n",
        "                  cv=10)\n",
        "gs = gs.fit(X_train, y_train)\n",
        "print(gs.best_score_)"
      ],
      "metadata": {
        "colab": {
          "base_uri": "https://localhost:8080/"
        },
        "id": "zY6xhG3hVdPJ",
        "outputId": "45b6bfa4-d54c-4b9e-9d1c-40ed74144c94"
      },
      "execution_count": 26,
      "outputs": [
        {
          "output_type": "stream",
          "name": "stdout",
          "text": [
            "0.9781159420289856\n"
          ]
        }
      ]
    },
    {
      "cell_type": "markdown",
      "source": [
        "## Tratar con el Desequilibrio de clases"
      ],
      "metadata": {
        "id": "N0an2TLyopHy"
      }
    },
    {
      "cell_type": "markdown",
      "source": [
        "### Para tratar con el desequilibrio de clases hay varios métodos. Uno sería configurar el parámetro *class_weight='balanced'* implementado en la mayoría de los clasificadores de scikit-learn, que asigna una penalización mayor a predicciones erróneas.\n",
        "### Otras estrategias populares para el desequilibrio de clases incluyen el muestreo ascendente de la clase minoritaria, el muestreo descendente de la clase mayoritaria y la generación de muestras de entrenamiento sintéticas.\n",
        "### La librería scikit-learn implementa la sencilla función *resample*, que puede ayudar al muestreo ascendente de la clase minoritaria dibujando nuevas muestras a partir del conjunto de datos y dibujará repetidamente nuevas muestras a partir del mismo hasta que contenga el mismo número de muestras que la etiqueta mayoritaria.   "
      ],
      "metadata": {
        "id": "MgCD13RsoxdV"
      }
    },
    {
      "cell_type": "code",
      "source": [
        "from sklearn.utils import resample\n",
        "print('numero de etiquetas de clase 1: ', X_train[y_train == 1].shape[0])"
      ],
      "metadata": {
        "colab": {
          "base_uri": "https://localhost:8080/"
        },
        "id": "6xL_4yVZWyUe",
        "outputId": "1b80bb0c-6b80-42ff-be7c-2f0ca6940630"
      },
      "execution_count": 37,
      "outputs": [
        {
          "output_type": "stream",
          "name": "stdout",
          "text": [
            "numero de etiquetas de clase 1:  170\n"
          ]
        }
      ]
    },
    {
      "cell_type": "code",
      "source": [
        "print('numero de etiquetas de clase 0: ', X_train[y_train == 0].shape[0])"
      ],
      "metadata": {
        "colab": {
          "base_uri": "https://localhost:8080/"
        },
        "id": "9xS3EQH3bCIp",
        "outputId": "11e3d001-7647-4d7e-f4a4-b7a32a849ef3"
      },
      "execution_count": 38,
      "outputs": [
        {
          "output_type": "stream",
          "name": "stdout",
          "text": [
            "numero de etiquetas de clase 0:  285\n"
          ]
        }
      ]
    },
    {
      "cell_type": "code",
      "source": [
        "X_upsamnple, y_upsample = resample(X_train[y_train==1], y_train[y_train==1], replace=True, n_samples=X_train[y_train == 0].shape[0], random_state=43)"
      ],
      "metadata": {
        "id": "C96oqw54XkFZ"
      },
      "execution_count": 40,
      "outputs": []
    },
    {
      "cell_type": "code",
      "source": [
        "print('numero de etiquetas de clase 1: ', X_upsamnple.shape[0])"
      ],
      "metadata": {
        "colab": {
          "base_uri": "https://localhost:8080/"
        },
        "id": "PWKpB6Nxbswl",
        "outputId": "8a717f11-b835-4fc8-c5c6-3af2141004d2"
      },
      "execution_count": 41,
      "outputs": [
        {
          "output_type": "stream",
          "name": "stdout",
          "text": [
            "numero de etiquetas de clase 1:  285\n"
          ]
        }
      ]
    },
    {
      "cell_type": "markdown",
      "source": [
        "### Despúes del remuestreo, podemos combinar las muestras de la clase 0 original con el subconjunto de la clase 1 con muestreo ascendente para obtener un conjunto de datos equilibrado."
      ],
      "metadata": {
        "id": "7ayEoCXfczvo"
      }
    }
  ]
}